{
 "cells": [
  {
   "cell_type": "markdown",
   "id": "be8cc6c2-2346-4ac5-b7b5-4bcaff2ce74e",
   "metadata": {},
   "source": [
    "# Consistency check with $T_{\\rm{X}}$ and $L_{\\rm{X}}$ measured from Chandra data"
   ]
  },
  {
   "cell_type": "markdown",
   "id": "a7c5f502-7ed1-46c1-8b66-ba8fe4be3261",
   "metadata": {},
   "source": []
  },
  {
   "cell_type": "markdown",
   "id": "ff3871f3-f305-420b-888c-de6e82cad916",
   "metadata": {},
   "source": [
    "## Import Statements"
   ]
  },
  {
   "cell_type": "code",
   "execution_count": 1,
   "id": "e3e71bd0-165a-4f29-9db1-3d13f64542f0",
   "metadata": {},
   "outputs": [],
   "source": [
    "import pandas as pd\n",
    "pd.set_option('display.max_columns', 500)\n",
    "import numpy as np\n",
    "import astropy.units as u\n",
    "from astropy.units import Quantity\n",
    "from astropy.coordinates import SkyCoord\n",
    "from astropy.io import fits\n",
    "import os\n",
    "from shutil import rmtree, copyfile\n",
    "from matplotlib import pyplot as plt\n",
    "from matplotlib.ticker import FuncFormatter\n",
    "from tqdm import tqdm\n",
    "from time import sleep\n",
    "from subprocess import Popen, PIPE, TimeoutExpired\n",
    "import fitsio\n",
    "from fitsio import FITS\n",
    "from IPython.display import display\n",
    "\n",
    "# This is unfortunately necessary because the CIAO install through Conda overwrites the original HEADAS\n",
    "#  environment variable, which breaks the XSPEC installation\n",
    "os.environ['HEADAS'] = \"/mnt/gs21/flash/turne540/software/heasoft-6.33.2/x86_64-pc-linux-gnu-libc2.31\"\n",
    "\n",
    "from regions import CircleSkyRegion, CirclePixelRegion, Regions, PixCoord, CircleAnnulusSkyRegion\n",
    "from ciao_contrib.runtool import specextract\n",
    "\n",
    "import xga\n",
    "# This just sets the number of cores this analysis is allowed to use - IRRELEVANT HERE REALLY AS XGA DOESN'T SUPPORT CHANDRA YET\n",
    "xga.NUM_CORES = 5\n",
    "# This is a bodge that will only work because xga_output in notebooks has already been defined, XGA\n",
    "#  will be made to handle this more gracefully at some point\n",
    "temp_dir = xga.OUTPUT\n",
    "actual_dir = temp_dir.split('notebooks/lum_temp_rad_pipeline')[0]+'xga_output/'\n",
    "xga.OUTPUT = actual_dir\n",
    "xga.utils.OUTPUT = actual_dir\n",
    "# As currently XGA will setup an xga_output directory in our current directory, I remove it to keep it all clean\n",
    "if os.path.exists('xga_output'):\n",
    "    rmtree('xga_output')\n",
    "from xga.utils import xmm_sky\n",
    "from xga.samples import ClusterSample\n",
    "from xga.products import Image, ExpMap, RateMap, Spectrum\n",
    "from xga.imagetools.misc import sky_deg_scale\n",
    "from xga import BASE_XSPEC_SCRIPT, XGA_EXTRACT\n",
    "\n",
    "%matplotlib inline"
   ]
  },
  {
   "cell_type": "code",
   "execution_count": 2,
   "id": "35a3b5be-deaa-4fe6-ae9d-cb7a27cd0f60",
   "metadata": {},
   "outputs": [
    {
     "data": {
      "text/plain": [
       "'v0.5.0'"
      ]
     },
     "execution_count": 2,
     "metadata": {},
     "output_type": "execute_result"
    }
   ],
   "source": [
    "xga.__version__"
   ]
  },
  {
   "cell_type": "markdown",
   "id": "c7eb2691-7812-4904-beec-e7cc5e9d6954",
   "metadata": {},
   "source": [
    "## Setting up directories"
   ]
  },
  {
   "cell_type": "markdown",
   "id": "5114a13e-679b-467f-8b66-80a6ed3f4524",
   "metadata": {},
   "source": [
    "Need to make sure that some of the directories that we will be storing output files and figures in actually exist:"
   ]
  },
  {
   "cell_type": "code",
   "execution_count": 3,
   "id": "6c46ba7e-8480-4c79-b40d-747f5bcf288e",
   "metadata": {},
   "outputs": [],
   "source": [
    "# This is where we store the region files output to make the Chandra spectral generation easier\n",
    "if not os.path.exists('../../outputs/chandra_reg_files/'):\n",
    "    os.makedirs('../../outputs/chandra_reg_files/')\n",
    "\n",
    "# And here will live the fitting scripts, and their out-files\n",
    "if not os.path.exists('../../outputs/chandra_fits/'):\n",
    "    os.makedirs('../../outputs/chandra_fits/')"
   ]
  },
  {
   "cell_type": "markdown",
   "id": "acca3e4a-ea7e-430f-be0c-8f0a79abe985",
   "metadata": {},
   "source": [
    "## Setting up useful functions"
   ]
  },
  {
   "cell_type": "markdown",
   "id": "cb8f57ff-d0a3-46bc-af46-87ddf1815f96",
   "metadata": {},
   "source": [
    "This is mainly for the XSPEC script setup function - which is functionally identical to the XGA `single_temp_apec()` function, but adapted to avoid using XGA sources and to use the Chandra spectra generated in this analysis. This is only necessary because Chandra support in XGA is early in development, and isn't yet ready for use:"
   ]
  },
  {
   "cell_type": "code",
   "execution_count": 4,
   "id": "b763322d-2188-42b3-a1e0-0149ca839dc2",
   "metadata": {},
   "outputs": [],
   "source": [
    "def gen_xspec_script(source, spec_objs, script_out, start_temp=Quantity(3, 'keV'), freeze_met=True, freeze_temp=False, \n",
    "                     freeze_nh=True, spectrum_checking=True, lo_en=Quantity(0.4, 'keV'), hi_en=Quantity(7.0, 'keV'), \n",
    "                     lum_en: Quantity = Quantity([[0.5, 2.0], [0.01, 100.0]], \"keV\")):\n",
    "    model = \"constant*tbabs*apec\"\n",
    "    par_names = \"{factor nH kT Abundanc Redshift norm}\"\n",
    "    lum_low_lims = \"{\" + \" \".join(lum_en[:, 0].to(\"keV\").value.astype(str)) + \"}\"\n",
    "    lum_upp_lims = \"{\" + \" \".join(lum_en[:, 1].to(\"keV\").value.astype(str)) + \"}\"\n",
    "\n",
    "    specs = \"{\" + \" \".join([os.path.abspath(spec.path) for spec in spec_objs]) + \"}\"\n",
    "    \n",
    "    # Whatever start temperature is passed gets converted to keV, this will be put in the template\n",
    "    t = start_temp.to(\"keV\", equivalencies=u.temperature_energy()).value\n",
    "    # Another TCL list, this time of the parameter start values for this model.\n",
    "    par_values = \"{{{0} {1} {2} {3} {4} {5}}}\".format(1., source.nH.to(\"10^22 cm^-2\").value, t, 0.3,\n",
    "                                                      source.redshift, 1.)\n",
    "\n",
    "    # Set up the TCL list that defines which parameters are frozen, dependent on user input - this can now\n",
    "    #  include the temperature, if the user wants it fixed at the start value\n",
    "    freezing = \"{{F {n} {t} {a} T F}}\".format(n=\"T\" if freeze_nh else \"F\",\n",
    "                                              t=\"T\" if freeze_temp else \"F\",\n",
    "                                              a=\"T\" if freeze_met else \"F\")\n",
    "\n",
    "    # Set up the TCL list that defines which parameters are linked across different spectra, only the\n",
    "    #  multiplicative constant that accounts for variation in normalisation over different observations is not\n",
    "    #  linked\n",
    "    linking = \"{F T T T T T}\"\n",
    "\n",
    "    # If the user wants the spectrum cleaning step to be run, then we have to set up some acceptable\n",
    "    #  limits. For this function they will be hardcoded, for simplicities' sake, and we're only going to\n",
    "    #  check the temperature, as it's the main thing we're fitting for with constant*tbabs*apec\n",
    "    if spectrum_checking:\n",
    "        check_list = \"{kT}\"\n",
    "        check_lo_lims = \"{0.01}\"\n",
    "        check_hi_lims = \"{20}\"\n",
    "        check_err_lims = \"{15}\"\n",
    "    else:\n",
    "        check_list = \"{}\"\n",
    "        check_lo_lims = \"{}\"\n",
    "        check_hi_lims = \"{}\"\n",
    "        check_err_lims = \"{}\"\n",
    "\n",
    "    # This sets the list of parameter IDs which should be zeroed at the end to calculate unabsorbed\n",
    "    #  luminosities. I am only specifying parameter 2 here (though there will likely be multiple models\n",
    "    #  because there are likely multiple spectra) because I know that nH of tbabs is linked in this\n",
    "    #  setup, so zeroing one will zero them all.\n",
    "    nh_to_zero = \"{2}\"\n",
    "\n",
    "    # Read in the template file for the XSPEC script.\n",
    "    with open(BASE_XSPEC_SCRIPT, 'r') as x_script:\n",
    "        script = x_script.read()\n",
    "\n",
    "    dest_dir = os.path.dirname(script_out)\n",
    "    out_file = os.path.join(dest_dir, os.path.basename(script_out)[:-4] + \"_fit_results\")\n",
    "\n",
    "    # The template is filled out here, taking everything we have generated and everything the user\n",
    "    #  passed in. The result is an XSPEC script that can be run as is.\n",
    "    script = script.format(xsp=XGA_EXTRACT, ab='angr', md=\"leven\", H0=source.cosmo.H0.value,\n",
    "                           q0=0., lamb0=source.cosmo.Ode0, sp=specs, lo_cut=lo_en.to(\"keV\").value,\n",
    "                           hi_cut=hi_en.to(\"keV\").value, m=model, pn=par_names, pv=par_values,\n",
    "                           lk=linking, fr=freezing, el=1, lll=lum_low_lims, lul=lum_upp_lims,\n",
    "                           of=out_file, redshift=source.redshift, lel=68, check=spectrum_checking, cps=check_list,\n",
    "                           cpsl=check_lo_lims, cpsh=check_hi_lims, cpse=check_err_lims, ns=True,\n",
    "                           nhmtz=nh_to_zero)\n",
    "\n",
    "    # Write out the filled-in template to its destination\n",
    "    with open(script_out, 'w') as xcm:\n",
    "        xcm.write(script)\n",
    "\n",
    "    return out_file"
   ]
  },
  {
   "cell_type": "markdown",
   "id": "9a084232-8322-412e-8eb3-78f6f2c5335a",
   "metadata": {},
   "source": [
    "## Reading the XGA sample/results files from XMM analysis"
   ]
  },
  {
   "cell_type": "markdown",
   "id": "69d82d8d-738f-4872-a1c8-8396b1c43272",
   "metadata": {},
   "source": [
    "We read in the files generated by our various runs of the XGA-LTR in another notebook in this repository. They contain the radii we measured, as well as other useful information - we're going to use Chandra to measure properties within the XMM defined radii (for the limited groups that have Chandra coverage):"
   ]
  },
  {
   "cell_type": "code",
   "execution_count": 5,
   "id": "3a20f169-ae20-4220-809f-7f79f0b907b3",
   "metadata": {},
   "outputs": [],
   "source": [
    "r2500_samp = pd.read_csv('../../outputs/results/ltr_r2500_froztemp_pipeline_results.csv')"
   ]
  },
  {
   "cell_type": "markdown",
   "id": "a2e8601b-2396-4571-83be-6de694cd2ce9",
   "metadata": {},
   "source": [
    "As previously stated, few of our groups have usable Chandra coverage, so we'll cut down the results files to leave only the relevant entries:"
   ]
  },
  {
   "cell_type": "code",
   "execution_count": 6,
   "id": "95505064-7271-4d73-bb81-946630179a7e",
   "metadata": {},
   "outputs": [],
   "source": [
    "with_ch_names = ['12833A', '12833B', 'J215504.8-093520', 'J215437.2-091532.4']\n",
    "\n",
    "r2500_samp = r2500_samp[r2500_samp['name'].isin(with_ch_names)]"
   ]
  },
  {
   "cell_type": "markdown",
   "id": "82f2d871-88f2-43dd-b075-6bc4a755a357",
   "metadata": {},
   "source": [
    "As an illustration of the file content:"
   ]
  },
  {
   "cell_type": "code",
   "execution_count": 7,
   "id": "525fc9c5-218c-46fa-b3ec-48f9caa074be",
   "metadata": {},
   "outputs": [
    {
     "data": {
      "text/html": [
       "<div>\n",
       "<style scoped>\n",
       "    .dataframe tbody tr th:only-of-type {\n",
       "        vertical-align: middle;\n",
       "    }\n",
       "\n",
       "    .dataframe tbody tr th {\n",
       "        vertical-align: top;\n",
       "    }\n",
       "\n",
       "    .dataframe thead th {\n",
       "        text-align: right;\n",
       "    }\n",
       "</style>\n",
       "<table border=\"1\" class=\"dataframe\">\n",
       "  <thead>\n",
       "    <tr style=\"text-align: right;\">\n",
       "      <th></th>\n",
       "      <th>name</th>\n",
       "      <th>ra</th>\n",
       "      <th>dec</th>\n",
       "      <th>redshift</th>\n",
       "      <th>r2500</th>\n",
       "      <th>r2500+-</th>\n",
       "      <th>froz_Tx2500</th>\n",
       "      <th>froz_Tx2500+-</th>\n",
       "      <th>Lx2500_0.5-2.0</th>\n",
       "      <th>Lx2500_0.5-2.0-</th>\n",
       "      <th>Lx2500_0.5-2.0+</th>\n",
       "      <th>Lx2500_0.01-100.0</th>\n",
       "      <th>Lx2500_0.01-100.0-</th>\n",
       "      <th>Lx2500_0.01-100.0+</th>\n",
       "      <th>Lx2500ce_0.5-2.0</th>\n",
       "      <th>Lx2500ce_0.5-2.0-</th>\n",
       "      <th>Lx2500ce_0.5-2.0+</th>\n",
       "      <th>Lx2500ce_0.01-100.0</th>\n",
       "      <th>Lx2500ce_0.01-100.0-</th>\n",
       "      <th>Lx2500ce_0.01-100.0+</th>\n",
       "    </tr>\n",
       "  </thead>\n",
       "  <tbody>\n",
       "    <tr>\n",
       "      <th>9</th>\n",
       "      <td>12833A</td>\n",
       "      <td>129.49680</td>\n",
       "      <td>44.248700</td>\n",
       "      <td>0.145</td>\n",
       "      <td>270.612558</td>\n",
       "      <td>9.269351</td>\n",
       "      <td>1.955483</td>\n",
       "      <td>0.094645</td>\n",
       "      <td>3.475465e+42</td>\n",
       "      <td>2.068244e+41</td>\n",
       "      <td>1.927716e+41</td>\n",
       "      <td>7.737077e+42</td>\n",
       "      <td>3.927438e+41</td>\n",
       "      <td>5.874377e+41</td>\n",
       "      <td>2.880157e+42</td>\n",
       "      <td>1.726556e+41</td>\n",
       "      <td>1.646949e+41</td>\n",
       "      <td>6.411802e+42</td>\n",
       "      <td>4.306175e+41</td>\n",
       "      <td>5.675991e+41</td>\n",
       "    </tr>\n",
       "    <tr>\n",
       "      <th>10</th>\n",
       "      <td>12833B</td>\n",
       "      <td>129.44500</td>\n",
       "      <td>44.379000</td>\n",
       "      <td>0.145</td>\n",
       "      <td>NaN</td>\n",
       "      <td>NaN</td>\n",
       "      <td>NaN</td>\n",
       "      <td>NaN</td>\n",
       "      <td>NaN</td>\n",
       "      <td>NaN</td>\n",
       "      <td>NaN</td>\n",
       "      <td>NaN</td>\n",
       "      <td>NaN</td>\n",
       "      <td>NaN</td>\n",
       "      <td>NaN</td>\n",
       "      <td>NaN</td>\n",
       "      <td>NaN</td>\n",
       "      <td>NaN</td>\n",
       "      <td>NaN</td>\n",
       "      <td>NaN</td>\n",
       "    </tr>\n",
       "    <tr>\n",
       "      <th>13</th>\n",
       "      <td>J215504.8-093520</td>\n",
       "      <td>328.76992</td>\n",
       "      <td>-9.588805</td>\n",
       "      <td>0.077</td>\n",
       "      <td>320.290493</td>\n",
       "      <td>8.716310</td>\n",
       "      <td>2.486649</td>\n",
       "      <td>0.096825</td>\n",
       "      <td>7.313000e+42</td>\n",
       "      <td>2.830628e+41</td>\n",
       "      <td>2.425141e+41</td>\n",
       "      <td>1.844060e+43</td>\n",
       "      <td>7.600723e+41</td>\n",
       "      <td>8.825033e+41</td>\n",
       "      <td>5.646341e+42</td>\n",
       "      <td>2.489706e+41</td>\n",
       "      <td>2.038891e+41</td>\n",
       "      <td>1.423792e+43</td>\n",
       "      <td>5.791577e+41</td>\n",
       "      <td>6.618353e+41</td>\n",
       "    </tr>\n",
       "    <tr>\n",
       "      <th>14</th>\n",
       "      <td>J215437.2-091532.4</td>\n",
       "      <td>328.65500</td>\n",
       "      <td>-9.259000</td>\n",
       "      <td>0.078</td>\n",
       "      <td>201.913921</td>\n",
       "      <td>12.503821</td>\n",
       "      <td>1.091877</td>\n",
       "      <td>0.105812</td>\n",
       "      <td>3.757561e+41</td>\n",
       "      <td>7.660391e+40</td>\n",
       "      <td>6.811378e+40</td>\n",
       "      <td>6.791156e+41</td>\n",
       "      <td>1.014206e+41</td>\n",
       "      <td>1.223269e+41</td>\n",
       "      <td>1.419073e+41</td>\n",
       "      <td>5.925401e+40</td>\n",
       "      <td>7.227321e+40</td>\n",
       "      <td>2.564735e+41</td>\n",
       "      <td>1.417362e+41</td>\n",
       "      <td>1.144950e+41</td>\n",
       "    </tr>\n",
       "  </tbody>\n",
       "</table>\n",
       "</div>"
      ],
      "text/plain": [
       "                  name         ra        dec  redshift       r2500    r2500+-  \\\n",
       "9               12833A  129.49680  44.248700     0.145  270.612558   9.269351   \n",
       "10              12833B  129.44500  44.379000     0.145         NaN        NaN   \n",
       "13    J215504.8-093520  328.76992  -9.588805     0.077  320.290493   8.716310   \n",
       "14  J215437.2-091532.4  328.65500  -9.259000     0.078  201.913921  12.503821   \n",
       "\n",
       "    froz_Tx2500  froz_Tx2500+-  Lx2500_0.5-2.0  Lx2500_0.5-2.0-  \\\n",
       "9      1.955483       0.094645    3.475465e+42     2.068244e+41   \n",
       "10          NaN            NaN             NaN              NaN   \n",
       "13     2.486649       0.096825    7.313000e+42     2.830628e+41   \n",
       "14     1.091877       0.105812    3.757561e+41     7.660391e+40   \n",
       "\n",
       "    Lx2500_0.5-2.0+  Lx2500_0.01-100.0  Lx2500_0.01-100.0-  \\\n",
       "9      1.927716e+41       7.737077e+42        3.927438e+41   \n",
       "10              NaN                NaN                 NaN   \n",
       "13     2.425141e+41       1.844060e+43        7.600723e+41   \n",
       "14     6.811378e+40       6.791156e+41        1.014206e+41   \n",
       "\n",
       "    Lx2500_0.01-100.0+  Lx2500ce_0.5-2.0  Lx2500ce_0.5-2.0-  \\\n",
       "9         5.874377e+41      2.880157e+42       1.726556e+41   \n",
       "10                 NaN               NaN                NaN   \n",
       "13        8.825033e+41      5.646341e+42       2.489706e+41   \n",
       "14        1.223269e+41      1.419073e+41       5.925401e+40   \n",
       "\n",
       "    Lx2500ce_0.5-2.0+  Lx2500ce_0.01-100.0  Lx2500ce_0.01-100.0-  \\\n",
       "9        1.646949e+41         6.411802e+42          4.306175e+41   \n",
       "10                NaN                  NaN                   NaN   \n",
       "13       2.038891e+41         1.423792e+43          5.791577e+41   \n",
       "14       7.227321e+40         2.564735e+41          1.417362e+41   \n",
       "\n",
       "    Lx2500ce_0.01-100.0+  \n",
       "9           5.675991e+41  \n",
       "10                   NaN  \n",
       "13          6.618353e+41  \n",
       "14          1.144950e+41  "
      ]
     },
     "execution_count": 7,
     "metadata": {},
     "output_type": "execute_result"
    }
   ],
   "source": [
    "r2500_samp"
   ]
  },
  {
   "cell_type": "markdown",
   "id": "a509551a-10de-43df-9b65-9a29336a64ca",
   "metadata": {},
   "source": [
    "Dropping any with NaN radii:"
   ]
  },
  {
   "cell_type": "code",
   "execution_count": 8,
   "id": "aedc753c-1fea-4ff5-a409-c2f454fab64e",
   "metadata": {},
   "outputs": [
    {
     "data": {
      "text/html": [
       "<div>\n",
       "<style scoped>\n",
       "    .dataframe tbody tr th:only-of-type {\n",
       "        vertical-align: middle;\n",
       "    }\n",
       "\n",
       "    .dataframe tbody tr th {\n",
       "        vertical-align: top;\n",
       "    }\n",
       "\n",
       "    .dataframe thead th {\n",
       "        text-align: right;\n",
       "    }\n",
       "</style>\n",
       "<table border=\"1\" class=\"dataframe\">\n",
       "  <thead>\n",
       "    <tr style=\"text-align: right;\">\n",
       "      <th></th>\n",
       "      <th>name</th>\n",
       "      <th>ra</th>\n",
       "      <th>dec</th>\n",
       "      <th>redshift</th>\n",
       "      <th>r2500</th>\n",
       "      <th>r2500+-</th>\n",
       "      <th>froz_Tx2500</th>\n",
       "      <th>froz_Tx2500+-</th>\n",
       "      <th>Lx2500_0.5-2.0</th>\n",
       "      <th>Lx2500_0.5-2.0-</th>\n",
       "      <th>Lx2500_0.5-2.0+</th>\n",
       "      <th>Lx2500_0.01-100.0</th>\n",
       "      <th>Lx2500_0.01-100.0-</th>\n",
       "      <th>Lx2500_0.01-100.0+</th>\n",
       "      <th>Lx2500ce_0.5-2.0</th>\n",
       "      <th>Lx2500ce_0.5-2.0-</th>\n",
       "      <th>Lx2500ce_0.5-2.0+</th>\n",
       "      <th>Lx2500ce_0.01-100.0</th>\n",
       "      <th>Lx2500ce_0.01-100.0-</th>\n",
       "      <th>Lx2500ce_0.01-100.0+</th>\n",
       "    </tr>\n",
       "  </thead>\n",
       "  <tbody>\n",
       "    <tr>\n",
       "      <th>9</th>\n",
       "      <td>12833A</td>\n",
       "      <td>129.49680</td>\n",
       "      <td>44.248700</td>\n",
       "      <td>0.145</td>\n",
       "      <td>270.612558</td>\n",
       "      <td>9.269351</td>\n",
       "      <td>1.955483</td>\n",
       "      <td>0.094645</td>\n",
       "      <td>3.475465e+42</td>\n",
       "      <td>2.068244e+41</td>\n",
       "      <td>1.927716e+41</td>\n",
       "      <td>7.737077e+42</td>\n",
       "      <td>3.927438e+41</td>\n",
       "      <td>5.874377e+41</td>\n",
       "      <td>2.880157e+42</td>\n",
       "      <td>1.726556e+41</td>\n",
       "      <td>1.646949e+41</td>\n",
       "      <td>6.411802e+42</td>\n",
       "      <td>4.306175e+41</td>\n",
       "      <td>5.675991e+41</td>\n",
       "    </tr>\n",
       "    <tr>\n",
       "      <th>13</th>\n",
       "      <td>J215504.8-093520</td>\n",
       "      <td>328.76992</td>\n",
       "      <td>-9.588805</td>\n",
       "      <td>0.077</td>\n",
       "      <td>320.290493</td>\n",
       "      <td>8.716310</td>\n",
       "      <td>2.486649</td>\n",
       "      <td>0.096825</td>\n",
       "      <td>7.313000e+42</td>\n",
       "      <td>2.830628e+41</td>\n",
       "      <td>2.425141e+41</td>\n",
       "      <td>1.844060e+43</td>\n",
       "      <td>7.600723e+41</td>\n",
       "      <td>8.825033e+41</td>\n",
       "      <td>5.646341e+42</td>\n",
       "      <td>2.489706e+41</td>\n",
       "      <td>2.038891e+41</td>\n",
       "      <td>1.423792e+43</td>\n",
       "      <td>5.791577e+41</td>\n",
       "      <td>6.618353e+41</td>\n",
       "    </tr>\n",
       "    <tr>\n",
       "      <th>14</th>\n",
       "      <td>J215437.2-091532.4</td>\n",
       "      <td>328.65500</td>\n",
       "      <td>-9.259000</td>\n",
       "      <td>0.078</td>\n",
       "      <td>201.913921</td>\n",
       "      <td>12.503821</td>\n",
       "      <td>1.091877</td>\n",
       "      <td>0.105812</td>\n",
       "      <td>3.757561e+41</td>\n",
       "      <td>7.660391e+40</td>\n",
       "      <td>6.811378e+40</td>\n",
       "      <td>6.791156e+41</td>\n",
       "      <td>1.014206e+41</td>\n",
       "      <td>1.223269e+41</td>\n",
       "      <td>1.419073e+41</td>\n",
       "      <td>5.925401e+40</td>\n",
       "      <td>7.227321e+40</td>\n",
       "      <td>2.564735e+41</td>\n",
       "      <td>1.417362e+41</td>\n",
       "      <td>1.144950e+41</td>\n",
       "    </tr>\n",
       "  </tbody>\n",
       "</table>\n",
       "</div>"
      ],
      "text/plain": [
       "                  name         ra        dec  redshift       r2500    r2500+-  \\\n",
       "9               12833A  129.49680  44.248700     0.145  270.612558   9.269351   \n",
       "13    J215504.8-093520  328.76992  -9.588805     0.077  320.290493   8.716310   \n",
       "14  J215437.2-091532.4  328.65500  -9.259000     0.078  201.913921  12.503821   \n",
       "\n",
       "    froz_Tx2500  froz_Tx2500+-  Lx2500_0.5-2.0  Lx2500_0.5-2.0-  \\\n",
       "9      1.955483       0.094645    3.475465e+42     2.068244e+41   \n",
       "13     2.486649       0.096825    7.313000e+42     2.830628e+41   \n",
       "14     1.091877       0.105812    3.757561e+41     7.660391e+40   \n",
       "\n",
       "    Lx2500_0.5-2.0+  Lx2500_0.01-100.0  Lx2500_0.01-100.0-  \\\n",
       "9      1.927716e+41       7.737077e+42        3.927438e+41   \n",
       "13     2.425141e+41       1.844060e+43        7.600723e+41   \n",
       "14     6.811378e+40       6.791156e+41        1.014206e+41   \n",
       "\n",
       "    Lx2500_0.01-100.0+  Lx2500ce_0.5-2.0  Lx2500ce_0.5-2.0-  \\\n",
       "9         5.874377e+41      2.880157e+42       1.726556e+41   \n",
       "13        8.825033e+41      5.646341e+42       2.489706e+41   \n",
       "14        1.223269e+41      1.419073e+41       5.925401e+40   \n",
       "\n",
       "    Lx2500ce_0.5-2.0+  Lx2500ce_0.01-100.0  Lx2500ce_0.01-100.0-  \\\n",
       "9        1.646949e+41         6.411802e+42          4.306175e+41   \n",
       "13       2.038891e+41         1.423792e+43          5.791577e+41   \n",
       "14       7.227321e+40         2.564735e+41          1.417362e+41   \n",
       "\n",
       "    Lx2500ce_0.01-100.0+  \n",
       "9           5.675991e+41  \n",
       "13          6.618353e+41  \n",
       "14          1.144950e+41  "
      ]
     },
     "execution_count": 8,
     "metadata": {},
     "output_type": "execute_result"
    }
   ],
   "source": [
    "r2500_samp = r2500_samp[~np.isnan(r2500_samp['r2500'])]\n",
    "r2500_samp"
   ]
  },
  {
   "cell_type": "markdown",
   "id": "175bc7db-339d-43a0-804b-d095fce6780c",
   "metadata": {},
   "source": [
    "## Setting up an XGA ClusterSample"
   ]
  },
  {
   "cell_type": "markdown",
   "id": "31acfa2f-e9d2-4ebf-bae1-9dd636072bf9",
   "metadata": {},
   "source": [
    "Unlike our overall XMM analysis, we will not be using XGA to measure temperatures and luminosities from Chandra observations - this is because Chandra support is still early in development. We will still declare a ClusterSample however, simply because it will extract nH values for us, and may help set up some of the arguments for Chandra specextract and the eventual XSPEC fits:"
   ]
  },
  {
   "cell_type": "code",
   "execution_count": 9,
   "id": "ea9cdf46-791a-4410-b77c-e94f37e4a2ac",
   "metadata": {},
   "outputs": [
    {
     "name": "stderr",
     "output_type": "stream",
     "text": [
      "Declaring BaseSource Sample: 100%|██████████| 3/3 [00:02<00:00,  1.08it/s]\n",
      "Setting up Galaxy Clusters: 100%|██████████| 3/3 [00:07<00:00,  2.59s/it]"
     ]
    },
    {
     "name": "stdout",
     "output_type": "stream",
     "text": [
      "\n",
      "-----------------------------------------------------\n",
      "Number of Sources - 3\n",
      "Redshift Information - True\n",
      "Sources with ≥1 detection - 3 [100%]\n",
      "-----------------------------------------------------\n",
      "\n"
     ]
    },
    {
     "name": "stderr",
     "output_type": "stream",
     "text": [
      "\n",
      "/mnt/home/turne540/software/anaconda3/envs/chandra_daxa_dev/lib/python3.11/site-packages/xga/samples/extended.py:279: UserWarning: Non-fatal warnings occurred during the declaration of some sources, to access them please use the suppressed_warnings property of this sample.\n",
      "  self._check_source_warnings()\n"
     ]
    },
    {
     "data": {
      "text/plain": [
       "{'J215504.8-093520': [\"J215504.8-093520 has not been detected in all region files, so generating and fitting products with the 'region' reg_type will not use all available data\"],\n",
       " 'J215437.2-091532.4': ['A PSF sized extended source has been detected in 0204310101 and is very close to the user supplied coordinates of J215437.2-091532.4. It will not be excluded from analysis due to the possibility of a mis-identified cool core']}"
      ]
     },
     "execution_count": 9,
     "metadata": {},
     "output_type": "execute_result"
    }
   ],
   "source": [
    "srcs = ClusterSample(r2500_samp['ra'].values, r2500_samp['dec'].values, r2500_samp['redshift'].values, \n",
    "                     r2500_samp['name'].values, r2500=Quantity(r2500_samp['r2500'].values, 'kpc'), \n",
    "                     use_peak=False, load_fits=True, clean_obs=False)\n",
    "srcs.info()\n",
    "srcs.suppressed_warnings"
   ]
  },
  {
   "cell_type": "markdown",
   "id": "5b49297b-37fb-48d4-99a1-3049862461bd",
   "metadata": {},
   "source": [
    "## Defining which Chandra observations are relevant for each group"
   ]
  },
  {
   "cell_type": "markdown",
   "id": "65e9e44f-463f-44a6-af46-93371792b435",
   "metadata": {},
   "source": [
    "As we don't have an XGA ClusterSample to do this for us, we previously examined the Chandra obserations and identified which are relevant to each of the groups - here this information is placed in a dictionary so that it can be accessed programmatically: "
   ]
  },
  {
   "cell_type": "code",
   "execution_count": 10,
   "id": "2d5db93d-1aa6-4811-a722-19c977bf4806",
   "metadata": {},
   "outputs": [],
   "source": [
    "rel_ch_obs = {'12833A': ['15378'], \n",
    "              '12833B': ['15378'], \n",
    "              'J215504.8-093520': ['2957', '2958'], \n",
    "              'J215437.2-091532.4': ['2957', '2958']}"
   ]
  },
  {
   "cell_type": "markdown",
   "id": "a8a332c4-8858-4278-9c9a-4c2a69f7eabf",
   "metadata": {},
   "source": [
    "Temporary notes of what specextract is going to want:\n",
    "\n",
    "specextract  infile outroot [bkgfile] [asp] [dtffile] [mskfile]\n",
    "[rmffile] [badpixfile] [dafile] [bkgresp] [weight] [weight_rmf]\n",
    "[resp_pos] [refcoord] [correctpsf] [combine] [readout_streakspec]\n",
    "[grouptype] [binspec] [bkg_grouptype] [bkg_binspec] [energy] [channel]\n",
    "[energy_wmap] [binarfcorr] [binwmap] [binarfwmap] [parallel] [nproc]\n",
    "[tmpdir] [clobber] [verbose]\n"
   ]
  },
  {
   "cell_type": "markdown",
   "id": "9e65271f-ed54-4cde-8803-a1c120d72c54",
   "metadata": {},
   "source": [
    "## Generating Chandra spectra"
   ]
  },
  {
   "cell_type": "markdown",
   "id": "7be22492-cd03-4128-a2d4-3a357ac2d642",
   "metadata": {},
   "source": []
  },
  {
   "cell_type": "markdown",
   "id": "d9fe16a0-9df1-4f60-a647-b74a312f0bc7",
   "metadata": {},
   "source": [
    "### Setting up useful values"
   ]
  },
  {
   "cell_type": "markdown",
   "id": "6b8d42bd-6c96-4a1b-badc-e74d21394ab2",
   "metadata": {},
   "source": []
  },
  {
   "cell_type": "code",
   "execution_count": 11,
   "id": "5b782f91-1a92-4f1a-8adc-4dbb61a5a23e",
   "metadata": {},
   "outputs": [],
   "source": [
    "root_pth = \"../../data/archives/OVIGroups/processed_data/chandra/{oi}/\"\n",
    "evt_pth = os.path.join(root_pth, \"events/obsid{oi}-instACIS-subexpE001-en-cleanevents.fits\")\n",
    "im_pth = os.path.join(root_pth, \"images/obsid{oi}-instACIS-subexpE001-en0.5_7.0keV-image.fits\")\n",
    "ex_pth = os.path.join(root_pth, \"images/obsid{oi}-instACIS-subexpE001-en0.5_7.0keV-expmap.fits\")\n",
    "asp_pth = os.path.join(root_pth, 'misc', 'obsid{oi}-instACIS-subexpE001-aspectsolution.fits')\n",
    "bpix_pth = os.path.join(root_pth, 'misc', 'obsid{oi}-instACIS-subexpE001-badpix.fits')\n",
    "# A bug in DAXA means that the mask files generated in the reprocessing were not stored, so \n",
    "#  currently pointing at the raw data mask files as an interim measure\n",
    "msk_pth = \"../../data/chandra_raw/{oi}/secondary/acisf{long_oi}_*_msk1.fits\"\n",
    "\n",
    "# This is the path to the manually-defined contaminant region files for each source-ObsID combination\n",
    "cont_reg_pth = \"../../outputs/chandra_reg_files/manual_contaminant_regions/{n}-chandra-obsid{oi}-contaminants.reg\"\n",
    "cont_reg_radec_pth = \"../../outputs/chandra_reg_files/manual_contaminant_regions/{n}-chandra-contaminants_RADEC.reg\"\n",
    "\n",
    "r2500_inn_bck_fac = 2\n",
    "r2500_out_bck_fac = 3\n",
    "\n",
    "# Controls the binning applied to the spectra\n",
    "min_counts = 25"
   ]
  },
  {
   "cell_type": "markdown",
   "id": "ec840c97-28fe-48b7-89a7-45dce980b97f",
   "metadata": {},
   "source": [
    "### Loading in images"
   ]
  },
  {
   "cell_type": "markdown",
   "id": "7f4e00be-1257-4343-be03-c8f425874838",
   "metadata": {},
   "source": [
    "This step might seem unnecessary for the generation of spectra, but any extraction or contaminant regions that we define will have to be put into the Chandra 'sky' coordinate system (the tools will not accept RA-Dec regions) - an easy-ish way to do that conversion is to use an XGA image's coordinate conversion functionality:"
   ]
  },
  {
   "cell_type": "code",
   "execution_count": 12,
   "id": "294918b9-b59b-46a8-8bf5-f9f948da6dfc",
   "metadata": {
    "scrolled": true
   },
   "outputs": [],
   "source": [
    "rel_ch_rts = {src_name: {} for src_name in rel_ch_obs}\n",
    "for src_name in rel_ch_obs:\n",
    "    if src_name not in srcs.names:\n",
    "        continue\n",
    "        \n",
    "    rel_src = srcs[src_name]\n",
    "    rel_ois = rel_ch_obs[src_name]\n",
    "    \n",
    "    for oi in rel_ois:\n",
    "        cur_im_pth = im_pth.format(oi=oi)        \n",
    "        cur_im = Image(cur_im_pth, oi, 'ACIS', \"\", \"\", \"\", Quantity(0.5, 'keV'), Quantity(7.0, 'keV'))\n",
    "\n",
    "        cur_ex_pth = ex_pth.format(oi=oi)\n",
    "        cur_ex = ExpMap(cur_ex_pth, oi, 'ACIS', \"\", \"\", \"\", Quantity(0.5, 'keV'), Quantity(7.0, 'keV'))\n",
    "\n",
    "        cur_rt = RateMap(cur_im, cur_ex)\n",
    "        rel_ch_rts[src_name][oi] = cur_rt\n",
    "        cur_rt.src_name = src_name\n",
    "        cur_rt.image.src_name = src_name\n",
    "        cur_rt.expmap.src_name = src_name\n",
    "        \n",
    "        # cur_rt.view(rel_src.ra_dec)"
   ]
  },
  {
   "cell_type": "markdown",
   "id": "c0aceb53-22c0-465a-89ba-c9249786e93b",
   "metadata": {},
   "source": [
    "### Setting up regions"
   ]
  },
  {
   "cell_type": "markdown",
   "id": "d8d1836b-4f7b-4110-87cc-57d18189e9a0",
   "metadata": {},
   "source": []
  },
  {
   "cell_type": "code",
   "execution_count": null,
   "id": "f45fac8e-b1d3-45d1-a5e0-6a5507aed7ea",
   "metadata": {},
   "outputs": [],
   "source": [
    "rel_ch_reg_files = {src_name: {} for src_name in rel_ch_obs}\n",
    "rel_ch_radec_reg_files = {src_name: {} for src_name in rel_ch_obs}\n",
    "\n",
    "for src_name in rel_ch_obs:\n",
    "    if src_name not in srcs.names:\n",
    "        continue\n",
    "        \n",
    "    rel_src = srcs[src_name]\n",
    "    radec_coord = SkyCoord(*rel_src.ra_dec)\n",
    "    cur_r2500_deg = rel_src.get_radius('r2500', 'deg')\n",
    "\n",
    "    cur_r2500_bck_inn = cur_r2500_deg * r2500_inn_bck_fac\n",
    "    cur_r2500_bck_out = cur_r2500_deg * r2500_out_bck_fac\n",
    "\n",
    "    rel_ois = rel_ch_obs[src_name]\n",
    "    for oi in rel_ois:\n",
    "        cur_rt = rel_ch_rts[src_name][oi]\n",
    "        # Ignore the 'xmm_sky' units - this version of XGA is optimised for XMM data, this is really Chandra Sky coords\n",
    "        sky_coord = PixCoord(*cur_rt.coord_conv(rel_src.ra_dec, 'xmm_sky').value)\n",
    "        sky_to_deg = sky_deg_scale(cur_rt, rel_src.ra_dec, )\n",
    "        sky_rad = (cur_r2500_deg / sky_to_deg).to(xmm_sky)\n",
    "\n",
    "        sky_bck_inn_rad = (cur_r2500_bck_inn / sky_to_deg).to(xmm_sky)\n",
    "        sky_bck_out_rad = (cur_r2500_bck_out / sky_to_deg).to(xmm_sky)\n",
    "\n",
    "        # We also load the manually defined contaminant regions file into memory - we're going to append them on\n",
    "        #  to the output R2500 and R2500 background region files, subtracting them from the spectrum\n",
    "        cur_cont_reg = cont_reg_pth.format(n=src_name, oi=oi)\n",
    "        with open(cur_cont_reg, 'r') as contamino:\n",
    "            cont_regs = contamino.readlines()[1:]\n",
    "            # Adds the '-' onto the front of each source line to mark it as something to be removed\n",
    "            cont_regs = list(map(lambda x: \"-\" + x, cont_regs))\n",
    "        \n",
    "        reg_file = src_name + \"-chandra-obsid{}\".format(oi) + '-r2500FT.reg'\n",
    "        r2500_reg_out = os.path.join('../../outputs/chandra_reg_files/', reg_file)\n",
    "\n",
    "        # Unfortunately the regions module saving functionality doesn't include the CIAO format - functionally seems\n",
    "        #  identical to DS9 (from my small exploration at least) but the first line is different. As such I'll \n",
    "        #  write it out manually\n",
    "        with open(r2500_reg_out, 'w') as reggo:\n",
    "            reggo.write(\"# Region file format: CIAO version 1.0\\n\")\n",
    "            reggo.write(\"circle({x},{y},{r})\".format(x=sky_coord.x, y=sky_coord.y, r=sky_rad.value))\n",
    "            reggo.writelines(cont_regs)\n",
    "\n",
    "        # BACK REG\n",
    "        back_reg_file = src_name + \"-chandra-obsid{}\".format(oi) + '-r2500FTback.reg'\n",
    "        back_r2500_reg_out = os.path.join('../../outputs/chandra_reg_files/', back_reg_file)\n",
    "        with open(back_r2500_reg_out, 'w') as breggo:\n",
    "            breggo.write(\"# Region file format: CIAO version 1.0\\n\")\n",
    "            breggo.write(\"ANNULUS({x},{y},{ri},{ro})\".format(x=sky_coord.x, y=sky_coord.y, ri=sky_bck_inn_rad.value, \n",
    "                                                             ro=sky_bck_out_rad.value))\n",
    "            breggo.writelines(cont_regs)\n",
    "\n",
    "        # Store the paths to region files in a dictionary\n",
    "        rel_ch_reg_files[src_name][oi] = [r2500_reg_out, back_r2500_reg_out]\n",
    "\n",
    "        # WE ALSO MAKE A REGION FILE IN RA-DEC COORDINATES FOR EASIER XGA VISUALISATION - INCLUDES THE BCKGRND REGION \n",
    "        #  IN THE SAME FILE, AGAIN JUST FOR VISUALISATION\n",
    "        radec_r2500_reg = CircleSkyRegion(radec_coord, cur_r2500_deg)\n",
    "        radec_r2500_reg.visual['linestyle'] = 'dashed'\n",
    "        radec_r2500_back_reg = CircleAnnulusSkyRegion(radec_coord, cur_r2500_bck_inn, cur_r2500_bck_out)\n",
    "        radec_r2500_back_reg.visual['color'] = 'white'\n",
    "\n",
    "        # Then load in the manually defined contaminant regions (a version that was saved in RA-DEC coordinates) - making\n",
    "        #  sure that they are set to be red to distinguish them from the other regions\n",
    "        radec_cont_regs = []\n",
    "        for reg in Regions.read(cont_reg_radec_pth.format(n=src_name)).regions:\n",
    "            reg.visual['color'] = 'red'\n",
    "            reg.visual['edgecolor'] = 'red'\n",
    "            reg.visual['facecolor'] = 'red'\n",
    "            radec_cont_regs.append(reg)\n",
    "\n",
    "        Regions([radec_r2500_reg, radec_r2500_back_reg]+radec_cont_regs).write(r2500_reg_out.replace(\".reg\", \"RADEC-vis.reg\"), \n",
    "                                                                               format='ds9', overwrite=True)\n",
    "        # ALSO STORE THE RADEC REGION FILE PATHS IN ANOTHER DICTIONARY\n",
    "        rel_ch_radec_reg_files[src_name][oi] = r2500_reg_out.replace(\".reg\", \"RADEC-vis.reg\")"
   ]
  },
  {
   "cell_type": "markdown",
   "id": "b320e3e9-aee8-4394-af8c-f2bf0a2ce0ad",
   "metadata": {},
   "source": [
    "### Viewing the regions"
   ]
  },
  {
   "cell_type": "markdown",
   "id": "39c9a994-988b-44e8-b46e-6b1f9c246276",
   "metadata": {},
   "source": [
    "This acts as a validation of the defined regions, and the contaminants that are to be removed:"
   ]
  },
  {
   "cell_type": "code",
   "execution_count": null,
   "id": "31f2d58b-9197-4555-9d2f-945b33a2b59f",
   "metadata": {},
   "outputs": [],
   "source": [
    "for src_name in rel_ch_reg_files:\n",
    "    for oi in rel_ch_radec_reg_files[src_name]:\n",
    "        # Grabbing the image we wish to view\n",
    "        rel_im = rel_ch_rts[src_name][oi].image\n",
    "        # Grabbing the VISUALISATION region file path\n",
    "        rel_reg_file = rel_ch_radec_reg_files[src_name][oi]\n",
    "\n",
    "        # This sidesteps a bug in XGA which will soon be fixed - adding RADec region files to the image\n",
    "        #  requires a RA-DEC to pixel WCS is loaded, but it isn't being automatically loaded from the \n",
    "        #  file like it is meant to be - this call ensures that loading process has already happened\n",
    "        rel_im.radec_wcs\n",
    "        \n",
    "        # Storing them in the image\n",
    "        rel_im.regions = rel_reg_file\n",
    "        # Viewing the image with the regions included\n",
    "        rel_im.view(view_regions=True)\n",
    "    print('\\n\\n')"
   ]
  },
  {
   "cell_type": "markdown",
   "id": "79cb1bbc-9954-4b6e-998f-86d4e43f90c6",
   "metadata": {},
   "source": [
    "### Generating spectra"
   ]
  },
  {
   "cell_type": "markdown",
   "id": "c2e5dac2-53aa-40b8-9093-c8711f1e1d12",
   "metadata": {},
   "source": [
    "Now that we've set up the region files that control what events we wish to include in our spectra, it is time to make them. Here we make use of the Python wrappings provided by Chandra's CIAO software - specifically the `specextract()` function, which is going to make all the spectra, RMFs, and ARFs, that we could possibly want."
   ]
  },
  {
   "cell_type": "code",
   "execution_count": null,
   "id": "3ca96b39-281b-46c2-923e-dd1f68c519a4",
   "metadata": {},
   "outputs": [],
   "source": [
    "rel_ch_specs = {src_name: {} for src_name in rel_ch_obs}\n",
    "\n",
    "num_spec = len([oi for n in srcs.names for oi in rel_ch_obs[n]])\n",
    "with tqdm(desc='Generating Chandra spectra', total=num_spec, miniters=1) as onwards:\n",
    "    for src_name in srcs.names:\n",
    "            \n",
    "        rel_src = srcs[src_name]\n",
    "        cur_r2500_deg = rel_src.get_radius('r2500', 'deg')\n",
    "        \n",
    "        rel_ois = rel_ch_obs[src_name]\n",
    "        rel_regs = rel_ch_reg_files[src_name]\n",
    "    \n",
    "        for oi in rel_ois:\n",
    "            r2500_reg_out, back_r2500_reg_out = rel_regs[oi]\n",
    "            \n",
    "            # Path to the relevant events list - this will be be passed to spectral generation along with a \n",
    "            #  filtering command that uses the defined region files\n",
    "            rel_evt_pth = evt_pth.format(oi=oi)\n",
    "            # Setting up those event + filtering strings\n",
    "            filt_rel_evt = rel_evt_pth + \"[sky=region({})]\".format(r2500_reg_out)\n",
    "            filt_rel_back_evt = rel_evt_pth + \"[sky=region({})]\".format(back_r2500_reg_out)\n",
    "    \n",
    "            # Fill in the paths for the housekeeping files we require\n",
    "            rel_asp_pth = asp_pth.format(oi=oi)\n",
    "            rel_bpix_pth = bpix_pth.format(oi=oi)\n",
    "            rel_msk_pth = msk_pth.format(oi=oi, long_oi=oi.zfill(5))\n",
    "            \n",
    "            # And define where we want the finished spectra to end up\n",
    "            out_prefix = \"chandra_spec/r2500_froztemp/{n}_obsid{oi}\".format(n=rel_src.name, oi=oi)\n",
    "            \n",
    "            # In case we're re-running things, if the final spectra already exist we won't re-run specextract\n",
    "            if not os.path.exists(out_prefix+\"_grp.pi\"):\n",
    "                specextract(infile=filt_rel_evt, outroot=out_prefix, bkgfile=filt_rel_back_evt, bkgresp='no', asp=rel_asp_pth, \n",
    "                            badpixfile=rel_bpix_pth, mskfile=rel_msk_pth, binspec=min_counts, weight='yes', weight_rmf='no', \n",
    "                            verbose=5, clobber=True, nproc=5)\n",
    "    \n",
    "            cur_sp_pth = out_prefix + '_grp.pi'\n",
    "            cur_rmf_pth = os.path.abspath(out_prefix + '.rmf')\n",
    "            cur_arf_pth = os.path.abspath(out_prefix + '.arf')\n",
    "            cur_bck_sp_pth = os.path.abspath(out_prefix + '_bkg.pi')\n",
    "\n",
    "            # This sets up an XGA spectrum instance with all the files we just generated - this is largely just to make things\n",
    "            #  a little easier when setting up the XSPEC scripts to fit these data§\n",
    "            cur_sp = Spectrum(cur_sp_pth, cur_rmf_pth, cur_arf_pth, cur_bck_sp_pth, rel_src.ra_dec, Quantity(0, 'deg'), \n",
    "                              cur_r2500_deg, oi, 'ACIS', True, min_counts, None, None, None, '', '', '')\n",
    "            cur_sp.src_name = rel_src.name\n",
    "\n",
    "            # Store the spectrum instance in a dictionary for later (this will make setting up the XSPEC scripts a little easier)\n",
    "            rel_ch_specs[src_name][oi] = cur_sp\n",
    "            # This is really daft, and the first time I've used this function since I started using Python, but the progress \n",
    "            #  bar doesn't seem to update in cases where the spectra already exist unless I slow down the loop somewhat \n",
    "            sleep(3)\n",
    "            onwards.update(1)"
   ]
  },
  {
   "cell_type": "markdown",
   "id": "1fa309c6-5a74-4340-8ba1-7157e3c5fedf",
   "metadata": {},
   "source": [
    "Generally users shouldn't be touching the internal methods like this, but currently an automatic updating of the RESPFILE, BACKFILE, etc. headers is only triggered when the spectrum has been generated by XGA, and as we have moved some files around we do want there to be an automatic update here."
   ]
  },
  {
   "cell_type": "code",
   "execution_count": null,
   "id": "6502d6a9-4550-4788-be3f-54f4ba7cd2ab",
   "metadata": {},
   "outputs": [],
   "source": [
    "for rn in rel_ch_specs:\n",
    "    for oi, sp in rel_ch_specs[rn].items():\n",
    "        sp._update_spec_headers(\"main\")"
   ]
  },
  {
   "cell_type": "markdown",
   "id": "6ccea5a4-f90a-4c58-bd04-d14313cc8efb",
   "metadata": {},
   "source": [
    "## Fitting spectra"
   ]
  },
  {
   "cell_type": "markdown",
   "id": "71011e34-e73f-4f4c-9ad5-2025094dd07b",
   "metadata": {},
   "source": [
    "While we can't fit Chandra spectra directly through the XGA XSPEC interface yet, we can use the XGA XSPEC template script to make our life a little easier (and ensure that the fit process is identical to what we did for the XMM data):"
   ]
  },
  {
   "cell_type": "code",
   "execution_count": null,
   "id": "723d324e-e627-4238-a9b1-a57f46a5eca3",
   "metadata": {},
   "outputs": [],
   "source": [
    "ch_results = {}\n",
    "\n",
    "for src_name in srcs.names:\n",
    "    rel_src = srcs[src_name]\n",
    "    rel_sps = list(rel_ch_specs[src_name].values())\n",
    "    cur_out_dir = \"../../outputs/chandra_fits/{n}/\"\n",
    "    \n",
    "    if not os.path.exists(cur_out_dir.format(n=src_name)):\n",
    "        os.makedirs(cur_out_dir.format(n=src_name))\n",
    "    cur_script = os.path.join(cur_out_dir, \"{n}_r2500FT_constant*tbabs*apec.xcm\").format(n=src_name)\n",
    "\n",
    "    cur_out_file = gen_xspec_script(rel_src, rel_sps, cur_script, lo_en=Quantity(0.5, 'keV'), hi_en=Quantity(2.5, 'keV'))\n",
    "\n",
    "    if not os.path.exists(cur_out_file + '.fits'):\n",
    "        # So, installing CIAO through Conda (and possibly through other methods - haven't tested it) has the annoying behaviour\n",
    "        #  of overwriting the existing $HEADAS environment variable, which then breaks the XSPEC install. That is fine if you can \n",
    "        #  manually reset that variable after the CIAO environment has been activated, but presents an issue for notebooks running \n",
    "        #  through an OnDemand-like system which we use - as the sub-processes spawned below inherit environment variables from \n",
    "        #  their parent, it may mean that the XSPEC fits are going to require some persuading to work\n",
    "        cmd = \"xspec - {}\".format(cur_script)\n",
    "        xspec_proc = Popen(cmd, shell=True, stdout=PIPE, stderr=PIPE)\n",
    "        out, err = xspec_proc.communicate()\n",
    "        out = out.decode(\"UTF-8\").split(\"\\n\")\n",
    "        err = err.decode(\"UTF-8\").split(\"\\n\")\n",
    "    \n",
    "    if os.path.exists(cur_out_file + \"_info.csv\"):\n",
    "        results = pd.read_csv(cur_out_file + \"_results.csv\", header=\"infer\")\n",
    "        # This is the csv with the fit results in, creates new fits file and adds in\n",
    "        fitsio.write(cur_out_file + \".fits\", results.to_records(index=False), extname=\"results\", clobber=True)\n",
    "        del results\n",
    "\n",
    "        # The information about individual spectra, exposure times, luminosities etc.\n",
    "        spec_info = pd.read_csv(cur_out_file + \"_info.csv\", header=\"infer\")\n",
    "        # Gets added into the existing file\n",
    "        fitsio.write(cur_out_file + \".fits\", spec_info.to_records(index=False), extname=\"spec_info\", )\n",
    "        del spec_info\n",
    "\n",
    "        # This finds all the matching spectrum plot csvs were generated\n",
    "        rel_path = \"/\".join(cur_out_file.split('/')[0:-1])\n",
    "        # This is mostly just used to find how many files there are\n",
    "        spec_tabs = [rel_path + \"/\" + sp for sp in os.listdir(rel_path)\n",
    "                     if \"{}_spec\".format(cur_out_file) in rel_path + \"/\" + sp]\n",
    "        for spec_i in range(1, len(spec_tabs)+1):\n",
    "            # Loop through and redefine names like this to ensure they're in the right order\n",
    "            spec_plot = pd.read_csv(cur_out_file + \"_spec{}.csv\".format(spec_i), header=\"infer\")\n",
    "            # Adds all the plot tables into the existing fits file in the right order\n",
    "            fitsio.write(cur_out_file + \".fits\", spec_plot.to_records(index=False), extname=\"plot{}\".format(spec_i))\n",
    "            del spec_plot\n",
    "\n",
    "        # This reads in the fits we just made\n",
    "        with FITS(cur_out_file + \".fits\") as res_tables:\n",
    "            tab_names = [tab.get_extname() for tab in res_tables]\n",
    "            if \"results\" not in tab_names or \"spec_info\" not in tab_names:\n",
    "                usable = False\n",
    "        \n",
    "        ch_results[src_name] = FITS(cur_out_file+'.fits')"
   ]
  },
  {
   "cell_type": "markdown",
   "id": "271329f2-7385-47db-9814-fb4011663a3e",
   "metadata": {},
   "source": [
    "## Exploring the results"
   ]
  },
  {
   "cell_type": "markdown",
   "id": "a2db7559-22f3-4165-9a93-23722b90f341",
   "metadata": {},
   "source": []
  },
  {
   "cell_type": "code",
   "execution_count": null,
   "id": "577f002a-37cd-401a-ab64-703177bcecb5",
   "metadata": {},
   "outputs": [],
   "source": [
    "for src_name in ch_results:\n",
    "    cur_res = ch_results[src_name]\n",
    "    print(src_name)\n",
    "    print(Quantity(cur_res['results'][0][['kT|3', 'kT|3-', 'kT|3+']].tolist(), 'keV'))\n",
    "    print(Quantity(cur_res['spec_info'][0][['Lx_0.5_2.0', 'Lx_0.5_2.0-', 'Lx_0.5_2.0+']].tolist(), 'erg/s')*1e+44)\n",
    "    print(Quantity(cur_res['spec_info'][0][['Lx_0.01_100.0', 'Lx_0.01_100.0-', 'Lx_0.01_100.0+']].tolist(), 'erg/s')*1e+44)\n",
    "    print('')"
   ]
  }
 ],
 "metadata": {
  "kernelspec": {
   "display_name": "Python 3 (ipykernel)",
   "language": "python",
   "name": "python3"
  },
  "language_info": {
   "codemirror_mode": {
    "name": "ipython",
    "version": 3
   },
   "file_extension": ".py",
   "mimetype": "text/x-python",
   "name": "python",
   "nbconvert_exporter": "python",
   "pygments_lexer": "ipython3",
   "version": "3.11.9"
  }
 },
 "nbformat": 4,
 "nbformat_minor": 5
}
