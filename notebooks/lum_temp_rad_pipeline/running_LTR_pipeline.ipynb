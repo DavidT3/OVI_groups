{
 "cells": [
  {
   "cell_type": "markdown",
   "id": "81e1b0f6",
   "metadata": {},
   "source": [
    "# Running the Luminosity-Temperature-Radius pipeline"
   ]
  },
  {
   "cell_type": "markdown",
   "id": "5aeb6741",
   "metadata": {},
   "source": [
    "We will use the XGA LTR pipeline to try to determine overdensity radii, and the global temperature and luminosity measurements within them. This process is [fully described here](https://xga.readthedocs.io/en/latest/notebooks/pipeline_tutorials/LT_pipeline.html). This should be relatively successful, even given the low surface brightness of the groups, as it easier to get temperature constraints on lower-temperature systems than hotter systems when using XMM."
   ]
  },
  {
   "cell_type": "markdown",
   "id": "15602289",
   "metadata": {},
   "source": [
    "## Import statements"
   ]
  },
  {
   "cell_type": "code",
   "execution_count": 1,
   "id": "8e49e224",
   "metadata": {},
   "outputs": [],
   "source": [
    "import pandas as pd\n",
    "pd.set_option('display.max_columns', 500)\n",
    "import numpy as np\n",
    "from astropy.units import Quantity\n",
    "import os\n",
    "from shutil import rmtree\n",
    "\n",
    "import xga\n",
    "# This just sets the number of cores this analysis is allowed to use\n",
    "xga.NUM_CORES = 20\n",
    "# This is a bodge that will only work because xga_output in notebooks has already been defined, XGA\n",
    "#  will be made to handle this more gracefully at some point\n",
    "temp_dir = xga.OUTPUT\n",
    "actual_dir = temp_dir.split('notebooks/lum_temp_rad_pipeline')[0]+'xga_output/'\n",
    "xga.OUTPUT = actual_dir\n",
    "xga.utils.OUTPUT = actual_dir\n",
    "# As currently XGA will setup an xga_output directory in our current directory, I remove it to keep it all clean\n",
    "if os.path.exists('xga_output'):\n",
    "    rmtree('xga_output')\n",
    "from xga.tools import luminosity_temperature_pipeline\n",
    "from xga.relations.clusters.RT import arnaud_r2500\n",
    "\n",
    "%matplotlib inline"
   ]
  },
  {
   "cell_type": "markdown",
   "id": "87949e9b",
   "metadata": {},
   "source": [
    "## Reading the sample file"
   ]
  },
  {
   "cell_type": "markdown",
   "id": "c9ca25f2",
   "metadata": {},
   "source": [
    "Reading in the positions, names, and redshifts of the groups - the pipeline expects position columns to be called 'ra' and 'dec', so those are renamed:"
   ]
  },
  {
   "cell_type": "code",
   "execution_count": 2,
   "id": "c9364915",
   "metadata": {},
   "outputs": [
    {
     "data": {
      "text/html": [
       "<div>\n",
       "<style scoped>\n",
       "    .dataframe tbody tr th:only-of-type {\n",
       "        vertical-align: middle;\n",
       "    }\n",
       "\n",
       "    .dataframe tbody tr th {\n",
       "        vertical-align: top;\n",
       "    }\n",
       "\n",
       "    .dataframe thead th {\n",
       "        text-align: right;\n",
       "    }\n",
       "</style>\n",
       "<table border=\"1\" class=\"dataframe\">\n",
       "  <thead>\n",
       "    <tr style=\"text-align: right;\">\n",
       "      <th></th>\n",
       "      <th>name</th>\n",
       "      <th>ra</th>\n",
       "      <th>dec</th>\n",
       "      <th>redshift</th>\n",
       "    </tr>\n",
       "  </thead>\n",
       "  <tbody>\n",
       "    <tr>\n",
       "      <th>0</th>\n",
       "      <td>25124</td>\n",
       "      <td>243.629055</td>\n",
       "      <td>26.730240</td>\n",
       "      <td>0.186</td>\n",
       "    </tr>\n",
       "    <tr>\n",
       "      <th>1</th>\n",
       "      <td>44739</td>\n",
       "      <td>229.793620</td>\n",
       "      <td>28.331750</td>\n",
       "      <td>0.118</td>\n",
       "    </tr>\n",
       "    <tr>\n",
       "      <th>2</th>\n",
       "      <td>19670A</td>\n",
       "      <td>150.256710</td>\n",
       "      <td>50.793942</td>\n",
       "      <td>0.134</td>\n",
       "    </tr>\n",
       "    <tr>\n",
       "      <th>3</th>\n",
       "      <td>19670B</td>\n",
       "      <td>150.214920</td>\n",
       "      <td>50.805014</td>\n",
       "      <td>0.134</td>\n",
       "    </tr>\n",
       "    <tr>\n",
       "      <th>4</th>\n",
       "      <td>12833</td>\n",
       "      <td>129.496800</td>\n",
       "      <td>44.248700</td>\n",
       "      <td>0.145</td>\n",
       "    </tr>\n",
       "    <tr>\n",
       "      <th>5</th>\n",
       "      <td>44858</td>\n",
       "      <td>230.112000</td>\n",
       "      <td>28.887750</td>\n",
       "      <td>0.127</td>\n",
       "    </tr>\n",
       "    <tr>\n",
       "      <th>6</th>\n",
       "      <td>PHL1811</td>\n",
       "      <td>328.769920</td>\n",
       "      <td>-9.588805</td>\n",
       "      <td>0.077</td>\n",
       "    </tr>\n",
       "    <tr>\n",
       "      <th>7</th>\n",
       "      <td>50433</td>\n",
       "      <td>157.732000</td>\n",
       "      <td>30.844000</td>\n",
       "      <td>0.136</td>\n",
       "    </tr>\n",
       "  </tbody>\n",
       "</table>\n",
       "</div>"
      ],
      "text/plain": [
       "      name          ra        dec  redshift\n",
       "0    25124  243.629055  26.730240     0.186\n",
       "1    44739  229.793620  28.331750     0.118\n",
       "2   19670A  150.256710  50.793942     0.134\n",
       "3   19670B  150.214920  50.805014     0.134\n",
       "4    12833  129.496800  44.248700     0.145\n",
       "5    44858  230.112000  28.887750     0.127\n",
       "6  PHL1811  328.769920  -9.588805     0.077\n",
       "7    50433  157.732000  30.844000     0.136"
      ]
     },
     "execution_count": 2,
     "metadata": {},
     "output_type": "execute_result"
    }
   ],
   "source": [
    "samp = pd.read_csv('../../sample_files/init_group_info.csv')\n",
    "samp = samp.rename(columns={'est_ra': 'ra', 'est_dec': 'dec'})\n",
    "samp"
   ]
  },
  {
   "cell_type": "markdown",
   "id": "c6c512a3",
   "metadata": {},
   "source": [
    "## Running the pipeline (twice)"
   ]
  },
  {
   "cell_type": "markdown",
   "id": "a6f15b47",
   "metadata": {},
   "source": [
    "The LTR will be run twice, targeting two different overdensity radii. The pipeline runs will save the results to disk (as we are passing paths for the results and radii history files), as well as returning the results and the XGA ClusterSample object generated by the procedure."
   ]
  },
  {
   "cell_type": "markdown",
   "id": "f796c9ea",
   "metadata": {},
   "source": [
    "### $R_{500}$"
   ]
  },
  {
   "cell_type": "markdown",
   "id": "c77ec3cb",
   "metadata": {},
   "source": [
    "The first overdensity radius we are targeting is $R_{500}$, which is the default for this pipeline. The Arnaud et al. (2005) $R_{500}$-$T_{\\rm{X}}$ is used for the process, and the starting radius is set to 200 kpc. Metallicity, nH, and redshift are all frozen during the spectral fitting process."
   ]
  },
  {
   "cell_type": "code",
   "execution_count": 3,
   "id": "b9297150",
   "metadata": {},
   "outputs": [
    {
     "name": "stderr",
     "output_type": "stream",
     "text": [
      "Declaring BaseSource Sample: 100%|██████████| 8/8 [00:01<00:00,  7.22it/s]\n",
      "Setting up Galaxy Clusters: 100%|██████████| 8/8 [00:04<00:00,  1.93it/s]\n",
      "Generating products of type(s) image: 100%|██████████| 2/2 [00:00<00:00,  8.20it/s]\n",
      "Generating products of type(s) expmap: 100%|██████████| 2/2 [00:00<00:00, 10.59it/s]\n",
      "/mnt/ufs18/home-218/turne540/code/XGA/xga/samples/extended.py:246: UserWarning: Non-fatal warnings occurred during the declaration of some sources, to access them please use the suppressed_warnings property of this sample.\n",
      "  self._check_source_warnings()\n",
      "Generating products of type(s) spectrum: 100%|██████████| 23/23 [05:57<00:00, 15.55s/it]\n",
      "Running XSPEC Fits: 100%|██████████| 8/8 [00:40<00:00,  5.09s/it]\n",
      "/mnt/ufs18/home-218/turne540/code/XGA/xga/samples/extended.py:608: UserWarning: There are no XSPEC fits associated with 50433\n",
      "  warn(str(err))\n",
      "Generating products of type(s) spectrum: 100%|██████████| 20/20 [11:47<00:00, 35.39s/it]  \n",
      "Running XSPEC Fits: 100%|██████████| 7/7 [00:28<00:00,  4.09s/it]\n",
      "Generating products of type(s) spectrum: 100%|██████████| 20/20 [11:12<00:00, 33.64s/it]  \n",
      "Running XSPEC Fits: 100%|██████████| 7/7 [00:34<00:00,  4.95s/it]\n",
      "Generating products of type(s) spectrum: 100%|██████████| 20/20 [12:51<00:00, 38.58s/it]  \n",
      "Running XSPEC Fits: 100%|██████████| 7/7 [00:27<00:00,  3.98s/it]\n",
      "Generating products of type(s) spectrum: 100%|██████████| 20/20 [12:12<00:00, 36.61s/it]  \n",
      "Running XSPEC Fits: 100%|██████████| 7/7 [00:26<00:00,  3.80s/it]\n",
      "Generating products of type(s) spectrum: 100%|██████████| 20/20 [10:24<00:00, 31.24s/it]  \n",
      "Running XSPEC Fits: 100%|██████████| 7/7 [00:29<00:00,  4.16s/it]\n"
     ]
    }
   ],
   "source": [
    "res_file = '../../outputs/results/ltr_r500_pipeline_results.csv'\n",
    "rhist_file = '../../outputs/results/radii_r500_history.csv'\n",
    "\n",
    "srcs, results, rad_hist = luminosity_temperature_pipeline(samp, Quantity(200, 'kpc'), timeout=Quantity(4, 'hr'), \n",
    "                                                          save_samp_results_path=res_file,\n",
    "                                                          save_rad_history_path=rhist_file, \n",
    "                                                          core_excised=True, lo_en=Quantity(0.5, 'keV'), \n",
    "                                                          hi_en=Quantity(2.5, 'keV'))"
   ]
  },
  {
   "cell_type": "markdown",
   "id": "64b008c1",
   "metadata": {},
   "source": [
    "### $R_{2500}$"
   ]
  },
  {
   "cell_type": "markdown",
   "id": "1a9ec476",
   "metadata": {},
   "source": [
    "The other overdensity radius we are targeting is $R_{2500}$. The Arnaud et al. (2005) $R_{2500}$-$T_{\\rm{X}}$ is used for the process. As the ClusterSample in this run is completely separate from the $R_{500}$ run, it is possible that slightly different regions have been selected as contaminating sources, this would be due to XGA ClusterSamples allowing point sources in the core region to not be masked out, in case they are misidentified cool-cores."
   ]
  },
  {
   "cell_type": "code",
   "execution_count": 4,
   "id": "5ac4ff82",
   "metadata": {},
   "outputs": [
    {
     "name": "stderr",
     "output_type": "stream",
     "text": [
      "Declaring BaseSource Sample: 100%|██████████| 8/8 [00:01<00:00,  6.02it/s]\n",
      "Setting up Galaxy Clusters: 100%|██████████| 8/8 [00:04<00:00,  1.72it/s]\n",
      "/mnt/ufs18/home-218/turne540/code/XGA/xga/samples/extended.py:246: UserWarning: Non-fatal warnings occurred during the declaration of some sources, to access them please use the suppressed_warnings property of this sample.\n",
      "  self._check_source_warnings()\n",
      "Running XSPEC Fits: 100%|██████████| 8/8 [00:39<00:00,  4.88s/it]\n",
      "/mnt/ufs18/home-218/turne540/code/XGA/xga/samples/extended.py:608: UserWarning: There are no XSPEC fits associated with 50433\n",
      "  warn(str(err))\n",
      "Generating products of type(s) spectrum: 100%|██████████| 20/20 [06:54<00:00, 20.73s/it]\n",
      "Running XSPEC Fits: 100%|██████████| 7/7 [00:29<00:00,  4.21s/it]\n",
      "Generating products of type(s) spectrum: 100%|██████████| 20/20 [06:43<00:00, 20.20s/it]\n",
      "Running XSPEC Fits: 100%|██████████| 7/7 [00:31<00:00,  4.53s/it]\n",
      "Generating products of type(s) spectrum: 100%|██████████| 20/20 [06:19<00:00, 18.98s/it]\n",
      "Running XSPEC Fits: 100%|██████████| 7/7 [01:24<00:00, 12.09s/it]\n",
      "/mnt/ufs18/home-218/turne540/code/XGA/xga/products/relation.py:704: UserWarning: Some of the x values you have passed are outside the validity range of this relation (1.0-12.0keV).\n",
      "  warn(\"Some of the x values you have passed are outside the validity range of this relation \"\n",
      "Generating products of type(s) spectrum: 100%|██████████| 20/20 [05:42<00:00, 17.13s/it]\n",
      "Running XSPEC Fits: 100%|██████████| 7/7 [00:34<00:00,  4.97s/it]\n",
      "Generating products of type(s) spectrum: 100%|██████████| 9/9 [04:24<00:00, 29.39s/it] \n",
      "Running XSPEC Fits: 100%|██████████| 3/3 [00:20<00:00,  6.75s/it]\n",
      "Generating products of type(s) spectrum: 100%|██████████| 9/9 [04:57<00:00, 33.02s/it] \n",
      "Running XSPEC Fits: 100%|██████████| 3/3 [00:20<00:00,  6.83s/it]\n",
      "Generating products of type(s) spectrum: 100%|██████████| 6/6 [04:51<00:00, 48.54s/it] \n",
      "Running XSPEC Fits: 100%|██████████| 2/2 [00:17<00:00,  8.63s/it]\n"
     ]
    }
   ],
   "source": [
    "res_file = '../../outputs/results/ltr_r2500_pipeline_results.csv'\n",
    "rhist_file = '../../outputs/results/radii_r2500_history.csv'\n",
    "\n",
    "srcs_r2500, results_r2500, \\\n",
    "    rad_hist_r2500 = luminosity_temperature_pipeline(samp, Quantity(200, 'kpc'), timeout=Quantity(4, 'hr'), \n",
    "                                                     rad_temp_rel=arnaud_r2500, save_samp_results_path=res_file,\n",
    "                                                     save_rad_history_path=rhist_file, lo_en=Quantity(0.5, 'keV'), \n",
    "                                                          hi_en=Quantity(2.5, 'keV'))"
   ]
  },
  {
   "cell_type": "markdown",
   "id": "f951ceaf",
   "metadata": {},
   "source": [
    "### $R_{500}$ - with metallicity free"
   ]
  },
  {
   "cell_type": "markdown",
   "id": "9f6d16c7",
   "metadata": {},
   "source": [
    "The first overdensity radius we are targeting is $R_{500}$, which is the default for this pipeline. The Arnaud et al. (2005) $R_{500}$-$T_{\\rm{X}}$ is used for the process, and the starting radius is set to 200 kpc. nH, and redshift are all frozen during the spectral fitting process."
   ]
  },
  {
   "cell_type": "code",
   "execution_count": null,
   "id": "dabc07fa",
   "metadata": {},
   "outputs": [
    {
     "name": "stderr",
     "output_type": "stream",
     "text": [
      "Declaring BaseSource Sample: 100%|██████████| 8/8 [00:01<00:00,  5.67it/s]\n",
      "Setting up Galaxy Clusters: 100%|██████████| 8/8 [00:04<00:00,  1.64it/s]\n",
      "/mnt/ufs18/home-218/turne540/code/XGA/xga/samples/extended.py:246: UserWarning: Non-fatal warnings occurred during the declaration of some sources, to access them please use the suppressed_warnings property of this sample.\n",
      "  self._check_source_warnings()\n",
      "Running XSPEC Fits: 100%|██████████| 8/8 [01:36<00:00, 12.11s/it]\n",
      "/mnt/ufs18/home-218/turne540/code/XGA/xga/products/relation.py:704: UserWarning: Some of the x values you have passed are outside the validity range of this relation (1.0-12.0keV).\n",
      "  warn(\"Some of the x values you have passed are outside the validity range of this relation \"\n",
      "Generating products of type(s) spectrum: 100%|██████████| 23/23 [15:25<00:00, 40.22s/it]  \n",
      "Running XSPEC Fits: 100%|██████████| 8/8 [00:47<00:00,  5.92s/it]\n",
      "/mnt/ufs18/home-218/turne540/code/XGA/xga/products/relation.py:704: UserWarning: Some of the x values you have passed are outside the validity range of this relation (1.0-12.0keV).\n",
      "  warn(\"Some of the x values you have passed are outside the validity range of this relation \"\n",
      "Generating products of type(s) spectrum: 100%|██████████| 23/23 [12:09<00:00, 31.71s/it]  \n",
      "Running XSPEC Fits: 100%|██████████| 8/8 [01:50<00:00, 13.79s/it]\n",
      "Generating products of type(s) spectrum: 100%|██████████| 23/23 [11:57<00:00, 31.19s/it]  \n",
      "Running XSPEC Fits: 100%|██████████| 8/8 [01:01<00:00,  7.72s/it]\n",
      "Generating products of type(s) spectrum: 100%|██████████| 23/23 [12:30<00:00, 32.63s/it]  \n",
      "Running XSPEC Fits: 100%|██████████| 8/8 [01:07<00:00,  8.39s/it]\n",
      "Generating products of type(s) spectrum: 100%|██████████| 6/6 [05:53<00:00, 58.88s/it] \n",
      "Running XSPEC Fits: 100%|██████████| 2/2 [00:51<00:00, 25.78s/it]\n",
      "Generating products of type(s) spectrum:  67%|██████▋   | 4/6 [04:02<01:38, 49.22s/it] "
     ]
    }
   ],
   "source": [
    "res_file = '../../outputs/results/ltr_r500_metfree_pipeline_results.csv'\n",
    "rhist_file = '../../outputs/results/radii_metfree_r500_history.csv'\n",
    "\n",
    "srcs_metfree, results_metfree, rad_hist_metfree = luminosity_temperature_pipeline(samp, Quantity(200, 'kpc'), \n",
    "                                                                                  timeout=Quantity(4, 'hr'), \n",
    "                                                                                  save_samp_results_path=res_file, \n",
    "                                                                                  save_rad_history_path=rhist_file, \n",
    "                                                                                  core_excised=True, freeze_met=False, lo_en=Quantity(0.5, 'keV'), \n",
    "                                                          hi_en=Quantity(2.5, 'keV'))"
   ]
  },
  {
   "cell_type": "markdown",
   "id": "91a4268b",
   "metadata": {},
   "source": [
    "### $R_{2500}$ - with metallicity free"
   ]
  },
  {
   "cell_type": "markdown",
   "id": "1411444e",
   "metadata": {},
   "source": [
    "The other overdensity radius we are targeting is $R_{2500}$. The Arnaud et al. (2005) $R_{2500}$-$T_{\\rm{X}}$ is used for the process. As the ClusterSample in this run is completely separate from the $R_{500}$ run, it is possible that slightly different regions have been selected as contaminating sources, this would be due to XGA ClusterSamples allowing point sources in the core region to not be masked out, in case they are misidentified cool-cores."
   ]
  },
  {
   "cell_type": "code",
   "execution_count": null,
   "id": "261b6b3a",
   "metadata": {},
   "outputs": [],
   "source": [
    "res_file = '../../outputs/results/ltr_r2500_metfree_pipeline_results.csv'\n",
    "rhist_file = '../../outputs/results/radii_r2500_metfree_history.csv'\n",
    "\n",
    "srcs_r2500_metfree, results_r2500_metfree, \\\n",
    "    rad_hist_r2500_metfree = luminosity_temperature_pipeline(samp, Quantity(200, 'kpc'), timeout=Quantity(4, 'hr'), \n",
    "                                                             rad_temp_rel=arnaud_r2500, \n",
    "                                                             save_samp_results_path=res_file,\n",
    "                                                             save_rad_history_path=rhist_file,\n",
    "                                                             freeze_met=False, lo_en=Quantity(0.5, 'keV'), \n",
    "                                                          hi_en=Quantity(2.5, 'keV'))"
   ]
  },
  {
   "cell_type": "markdown",
   "id": "c18de5da",
   "metadata": {},
   "source": [
    "## Examining the spectra"
   ]
  },
  {
   "cell_type": "markdown",
   "id": "e0a0d97a",
   "metadata": {},
   "source": []
  },
  {
   "cell_type": "markdown",
   "id": "6b7eb7c2",
   "metadata": {},
   "source": [
    "### $R_{500}$"
   ]
  },
  {
   "cell_type": "code",
   "execution_count": null,
   "id": "4ef33df5",
   "metadata": {
    "scrolled": true
   },
   "outputs": [],
   "source": [
    "for src in srcs:\n",
    "    print(src.name, src.r500.round(2))\n",
    "    for sp in src.get_spectra(src.r500):\n",
    "        print(sp.obs_id, sp.instrument)\n",
    "        sp.view(show_model_fits=True)\n",
    "    print('\\n\\n\\n')"
   ]
  },
  {
   "cell_type": "markdown",
   "id": "962bfbe9",
   "metadata": {},
   "source": [
    "### $R_{500}$ - with metallicity free"
   ]
  },
  {
   "cell_type": "code",
   "execution_count": null,
   "id": "7fc960db",
   "metadata": {},
   "outputs": [],
   "source": [
    "for src in srcs_metfree:\n",
    "    print(src.name, src.r500)\n",
    "    for sp in src.get_spectra(src.r500):\n",
    "        print(sp.obs_id, sp.instrument)\n",
    "        sp.view()\n",
    "    print('\\n\\n\\n')"
   ]
  },
  {
   "cell_type": "markdown",
   "id": "fd4b5f3f",
   "metadata": {},
   "source": [
    "### $R_{2500}$"
   ]
  },
  {
   "cell_type": "code",
   "execution_count": null,
   "id": "b3d765bd",
   "metadata": {},
   "outputs": [],
   "source": [
    "for src in srcs_r2500:\n",
    "    print(src.name, src.r2500)\n",
    "    for sp in src.get_spectra(src.r2500):\n",
    "        print(sp.obs_id, sp.instrument)\n",
    "        sp.view()\n",
    "    print('\\n\\n\\n')"
   ]
  },
  {
   "cell_type": "markdown",
   "id": "d03169ec",
   "metadata": {},
   "source": [
    "### $R_{2500}$ - with metallicity free"
   ]
  },
  {
   "cell_type": "code",
   "execution_count": null,
   "id": "26af8362",
   "metadata": {},
   "outputs": [],
   "source": [
    "for src in srcs_r2500_metfree:\n",
    "    print(src.name, src.r2500)\n",
    "    for sp in src.get_spectra(src.r2500):\n",
    "        print(sp.obs_id, sp.instrument)\n",
    "        sp.view()\n",
    "    print('\\n\\n\\n')"
   ]
  },
  {
   "cell_type": "markdown",
   "id": "199e04d3",
   "metadata": {},
   "source": [
    "## Pipeline results"
   ]
  },
  {
   "cell_type": "markdown",
   "id": "9c288022",
   "metadata": {},
   "source": [
    "We take a look at the tables of results output by the pipeline runs:"
   ]
  },
  {
   "cell_type": "markdown",
   "id": "ae20e8d1",
   "metadata": {},
   "source": [
    "### $R_{500}$"
   ]
  },
  {
   "cell_type": "code",
   "execution_count": null,
   "id": "c1c5bba6",
   "metadata": {},
   "outputs": [],
   "source": [
    "results"
   ]
  },
  {
   "cell_type": "code",
   "execution_count": null,
   "id": "e9dc4a64",
   "metadata": {},
   "outputs": [],
   "source": [
    "rad_hist"
   ]
  },
  {
   "cell_type": "markdown",
   "id": "269b49a3",
   "metadata": {},
   "source": [
    "### $R_{500}$ - with metallicity free"
   ]
  },
  {
   "cell_type": "code",
   "execution_count": null,
   "id": "d04b32e2",
   "metadata": {},
   "outputs": [],
   "source": [
    "results_metfree"
   ]
  },
  {
   "cell_type": "code",
   "execution_count": null,
   "id": "5d31bdda",
   "metadata": {},
   "outputs": [],
   "source": [
    "rad_hist_metfree"
   ]
  },
  {
   "cell_type": "markdown",
   "id": "0ef0c6eb",
   "metadata": {},
   "source": [
    "### $R_{2500}$"
   ]
  },
  {
   "cell_type": "code",
   "execution_count": null,
   "id": "35a67c7e",
   "metadata": {},
   "outputs": [],
   "source": [
    "results_r2500"
   ]
  },
  {
   "cell_type": "code",
   "execution_count": null,
   "id": "d235545f",
   "metadata": {
    "scrolled": true
   },
   "outputs": [],
   "source": [
    "rad_hist_r2500"
   ]
  },
  {
   "cell_type": "markdown",
   "id": "50f7c887",
   "metadata": {},
   "source": [
    "### $R_{2500}$ - with metallicity free"
   ]
  },
  {
   "cell_type": "code",
   "execution_count": null,
   "id": "ce9a603e",
   "metadata": {},
   "outputs": [],
   "source": [
    "results_r2500_metfree"
   ]
  },
  {
   "cell_type": "code",
   "execution_count": null,
   "id": "6d177b2b",
   "metadata": {
    "scrolled": true
   },
   "outputs": [],
   "source": [
    "rad_hist_r2500_metfree"
   ]
  }
 ],
 "metadata": {
  "kernelspec": {
   "display_name": "Python 3 (ipykernel)",
   "language": "python",
   "name": "python3"
  },
  "language_info": {
   "codemirror_mode": {
    "name": "ipython",
    "version": 3
   },
   "file_extension": ".py",
   "mimetype": "text/x-python",
   "name": "python",
   "nbconvert_exporter": "python",
   "pygments_lexer": "ipython3",
   "version": "3.9.16"
  }
 },
 "nbformat": 4,
 "nbformat_minor": 5
}
