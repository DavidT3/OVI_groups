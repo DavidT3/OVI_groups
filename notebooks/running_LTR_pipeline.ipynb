{
 "cells": [
  {
   "cell_type": "markdown",
   "id": "81e1b0f6",
   "metadata": {},
   "source": [
    "# Running the Luminosity-Temperature-Radius pipeline"
   ]
  },
  {
   "cell_type": "markdown",
   "id": "5aeb6741",
   "metadata": {},
   "source": []
  },
  {
   "cell_type": "markdown",
   "id": "15602289",
   "metadata": {},
   "source": [
    "## Import statements"
   ]
  },
  {
   "cell_type": "code",
   "execution_count": 1,
   "id": "8e49e224",
   "metadata": {},
   "outputs": [],
   "source": [
    "import pandas as pd\n",
    "import numpy as np\n",
    "from astropy.units import Quantity\n",
    "from astropy.cosmology import LambdaCDM\n",
    "import os\n",
    "from shutil import rmtree\n",
    "\n",
    "import xga\n",
    "# This just sets the number of cores this analysis is allowed to use\n",
    "xga.NUM_CORES = 40\n",
    "# This is a bodge that will only work because xga_output in notebooks has already been defined, XGA\n",
    "#  will be made to handle this more gracefully at some point\n",
    "temp_dir = xga.OUTPUT\n",
    "actual_dir = temp_dir.split('notebooks/')[0]+'xga_output/'\n",
    "xga.OUTPUT = actual_dir\n",
    "xga.utils.OUTPUT = actual_dir\n",
    "# As currently XGA will setup an xga_output directory in our current directory, I remove it to keep it all clean\n",
    "if os.path.exists('xga_output'):\n",
    "    rmtree('xga_output')\n",
    "from xga.tools import luminosity_temperature_pipeline\n",
    "from xga.relations.clusters.RT import arnaud_r2500\n",
    "\n",
    "%matplotlib inline"
   ]
  },
  {
   "cell_type": "markdown",
   "id": "87949e9b",
   "metadata": {},
   "source": [
    "## Reading the sample file"
   ]
  },
  {
   "cell_type": "code",
   "execution_count": 2,
   "id": "c9364915",
   "metadata": {},
   "outputs": [
    {
     "data": {
      "text/html": [
       "<div>\n",
       "<style scoped>\n",
       "    .dataframe tbody tr th:only-of-type {\n",
       "        vertical-align: middle;\n",
       "    }\n",
       "\n",
       "    .dataframe tbody tr th {\n",
       "        vertical-align: top;\n",
       "    }\n",
       "\n",
       "    .dataframe thead th {\n",
       "        text-align: right;\n",
       "    }\n",
       "</style>\n",
       "<table border=\"1\" class=\"dataframe\">\n",
       "  <thead>\n",
       "    <tr style=\"text-align: right;\">\n",
       "      <th></th>\n",
       "      <th>name</th>\n",
       "      <th>ra</th>\n",
       "      <th>dec</th>\n",
       "      <th>redshift</th>\n",
       "    </tr>\n",
       "  </thead>\n",
       "  <tbody>\n",
       "    <tr>\n",
       "      <th>0</th>\n",
       "      <td>25124</td>\n",
       "      <td>243.629055</td>\n",
       "      <td>26.730240</td>\n",
       "      <td>0.186</td>\n",
       "    </tr>\n",
       "    <tr>\n",
       "      <th>1</th>\n",
       "      <td>44739</td>\n",
       "      <td>229.793620</td>\n",
       "      <td>28.331750</td>\n",
       "      <td>0.118</td>\n",
       "    </tr>\n",
       "    <tr>\n",
       "      <th>2</th>\n",
       "      <td>19670A</td>\n",
       "      <td>150.256710</td>\n",
       "      <td>50.793942</td>\n",
       "      <td>0.134</td>\n",
       "    </tr>\n",
       "    <tr>\n",
       "      <th>3</th>\n",
       "      <td>19670B</td>\n",
       "      <td>150.214920</td>\n",
       "      <td>50.805014</td>\n",
       "      <td>0.134</td>\n",
       "    </tr>\n",
       "    <tr>\n",
       "      <th>4</th>\n",
       "      <td>12833</td>\n",
       "      <td>129.496800</td>\n",
       "      <td>44.248700</td>\n",
       "      <td>0.145</td>\n",
       "    </tr>\n",
       "    <tr>\n",
       "      <th>5</th>\n",
       "      <td>44858</td>\n",
       "      <td>230.112000</td>\n",
       "      <td>28.887750</td>\n",
       "      <td>0.127</td>\n",
       "    </tr>\n",
       "    <tr>\n",
       "      <th>6</th>\n",
       "      <td>PHL1811</td>\n",
       "      <td>328.769920</td>\n",
       "      <td>-9.588805</td>\n",
       "      <td>0.077</td>\n",
       "    </tr>\n",
       "  </tbody>\n",
       "</table>\n",
       "</div>"
      ],
      "text/plain": [
       "      name          ra        dec  redshift\n",
       "0    25124  243.629055  26.730240     0.186\n",
       "1    44739  229.793620  28.331750     0.118\n",
       "2   19670A  150.256710  50.793942     0.134\n",
       "3   19670B  150.214920  50.805014     0.134\n",
       "4    12833  129.496800  44.248700     0.145\n",
       "5    44858  230.112000  28.887750     0.127\n",
       "6  PHL1811  328.769920  -9.588805     0.077"
      ]
     },
     "execution_count": 2,
     "metadata": {},
     "output_type": "execute_result"
    }
   ],
   "source": [
    "samp = pd.read_csv('../sample_files/init_group_info.csv')\n",
    "samp = samp.rename(columns={'est_ra': 'ra', 'est_dec': 'dec'})\n",
    "samp"
   ]
  },
  {
   "cell_type": "markdown",
   "id": "c6c512a3",
   "metadata": {},
   "source": [
    "## Running the pipeline"
   ]
  },
  {
   "cell_type": "markdown",
   "id": "a6f15b47",
   "metadata": {},
   "source": []
  },
  {
   "cell_type": "code",
   "execution_count": 3,
   "id": "b9297150",
   "metadata": {},
   "outputs": [
    {
     "name": "stderr",
     "output_type": "stream",
     "text": [
      "Declaring BaseSource Sample: 100%|██████████| 7/7 [00:01<00:00,  6.97it/s]\n",
      "Setting up Galaxy Clusters: 100%|██████████| 5/5 [00:02<00:00,  1.82it/s]\n",
      "/mnt/ufs18/home-218/turne540/code/XGA/xga/tools/clusters/LT.py:166: UserWarning: The following do not appear to have any XMM data, and will not be included in the sample (can also check .failed_names); 25124, 44739\n",
      "  samp = ClusterSample(sample_data['ra'].values, sample_data['dec'].values, sample_data['redshift'].values,\n",
      "/mnt/ufs18/home-218/turne540/code/XGA/xga/samples/extended.py:237: UserWarning: Non-fatal warnings occurred during the declaration of some sources, to access them please use the suppressed_warnings property of this sample.\n",
      "  self._check_source_warnings()\n",
      "/mnt/ufs18/home-218/turne540/code/XGA/xga/xspec/run.py:186: UserWarning: All XSPEC operations had already been run.\n",
      "  warnings.warn(\"All XSPEC operations had already been run.\")\n",
      "/mnt/ufs18/home-218/turne540/code/XGA/xga/products/relation.py:704: UserWarning: Some of the x values you have passed are outside the validity range of this relation (1.0-12.0keV).\n",
      "  warn(\"Some of the x values you have passed are outside the validity range of this relation \"\n"
     ]
    }
   ],
   "source": [
    "res_file = '../outputs/results/ltr_r500_pipeline_results.csv'\n",
    "rhist_file = '../outputs/results/radii_r500_history.csv'\n",
    "\n",
    "srcs, results, rad_hist = luminosity_temperature_pipeline(samp, Quantity(200, 'kpc'), timeout=Quantity(4, 'hr'), \n",
    "                                                          save_samp_results_path=res_file,\n",
    "                                                          save_rad_history_path=rhist_file)"
   ]
  },
  {
   "cell_type": "code",
   "execution_count": 5,
   "id": "c55a5894",
   "metadata": {},
   "outputs": [
    {
     "name": "stderr",
     "output_type": "stream",
     "text": [
      "Declaring BaseSource Sample: 100%|██████████| 7/7 [00:01<00:00,  6.69it/s]\n",
      "Setting up Galaxy Clusters:   0%|          | 0/5 [00:00<?, ?it/s]\n"
     ]
    },
    {
     "ename": "KeyError",
     "evalue": "'r500'",
     "output_type": "error",
     "traceback": [
      "\u001b[0;31m---------------------------------------------------------------------------\u001b[0m",
      "\u001b[0;31mKeyError\u001b[0m                                  Traceback (most recent call last)",
      "Cell \u001b[0;32mIn[5], line 5\u001b[0m\n\u001b[1;32m      1\u001b[0m res_file \u001b[38;5;241m=\u001b[39m \u001b[38;5;124m'\u001b[39m\u001b[38;5;124m../outputs/results/ltr_r2500_pipeline_results.csv\u001b[39m\u001b[38;5;124m'\u001b[39m\n\u001b[1;32m      2\u001b[0m rhist_file \u001b[38;5;241m=\u001b[39m \u001b[38;5;124m'\u001b[39m\u001b[38;5;124m../outputs/results/radii_r2500_history.csv\u001b[39m\u001b[38;5;124m'\u001b[39m\n\u001b[1;32m      4\u001b[0m srcs_r2500, results_r2500, \\\n\u001b[0;32m----> 5\u001b[0m     rad_hist_r2500 \u001b[38;5;241m=\u001b[39m \u001b[43mluminosity_temperature_pipeline\u001b[49m\u001b[43m(\u001b[49m\u001b[43msamp\u001b[49m\u001b[43m,\u001b[49m\u001b[43m \u001b[49m\u001b[43mQuantity\u001b[49m\u001b[43m(\u001b[49m\u001b[38;5;241;43m200\u001b[39;49m\u001b[43m,\u001b[49m\u001b[43m \u001b[49m\u001b[38;5;124;43m'\u001b[39;49m\u001b[38;5;124;43mkpc\u001b[39;49m\u001b[38;5;124;43m'\u001b[39;49m\u001b[43m)\u001b[49m\u001b[43m,\u001b[49m\u001b[43m \u001b[49m\u001b[43mtimeout\u001b[49m\u001b[38;5;241;43m=\u001b[39;49m\u001b[43mQuantity\u001b[49m\u001b[43m(\u001b[49m\u001b[38;5;241;43m4\u001b[39;49m\u001b[43m,\u001b[49m\u001b[43m \u001b[49m\u001b[38;5;124;43m'\u001b[39;49m\u001b[38;5;124;43mhr\u001b[39;49m\u001b[38;5;124;43m'\u001b[39;49m\u001b[43m)\u001b[49m\u001b[43m,\u001b[49m\u001b[43m \u001b[49m\n\u001b[1;32m      6\u001b[0m \u001b[43m                                                     \u001b[49m\u001b[43mrad_temp_rel\u001b[49m\u001b[38;5;241;43m=\u001b[39;49m\u001b[43marnaud_r2500\u001b[49m\u001b[43m,\u001b[49m\u001b[43m \u001b[49m\u001b[43msave_samp_results_path\u001b[49m\u001b[38;5;241;43m=\u001b[39;49m\u001b[43mres_file\u001b[49m\u001b[43m,\u001b[49m\n\u001b[1;32m      7\u001b[0m \u001b[43m                                                     \u001b[49m\u001b[43msave_rad_history_path\u001b[49m\u001b[38;5;241;43m=\u001b[39;49m\u001b[43mrhist_file\u001b[49m\u001b[43m)\u001b[49m\n",
      "File \u001b[0;32m/mnt/ufs18/home-218/turne540/code/XGA/xga/tools/clusters/LT.py:166\u001b[0m, in \u001b[0;36mluminosity_temperature_pipeline\u001b[0;34m(sample_data, start_aperture, use_peak, peak_find_method, convergence_frac, min_iter, max_iter, rad_temp_rel, lum_en, core_excised, save_samp_results_path, save_rad_history_path, cosmo, timeout, num_cores)\u001b[0m\n\u001b[1;32m    162\u001b[0m iter_num \u001b[38;5;241m=\u001b[39m \u001b[38;5;241m0\u001b[39m\n\u001b[1;32m    164\u001b[0m \u001b[38;5;66;03m# Set up the ClusterSample to be used for this process (I did consider setting up a new one each time but that\u001b[39;00m\n\u001b[1;32m    165\u001b[0m \u001b[38;5;66;03m#  adds overhead, and I think that this way should work fine).\u001b[39;00m\n\u001b[0;32m--> 166\u001b[0m samp \u001b[38;5;241m=\u001b[39m \u001b[43mClusterSample\u001b[49m\u001b[43m(\u001b[49m\u001b[43msample_data\u001b[49m\u001b[43m[\u001b[49m\u001b[38;5;124;43m'\u001b[39;49m\u001b[38;5;124;43mra\u001b[39;49m\u001b[38;5;124;43m'\u001b[39;49m\u001b[43m]\u001b[49m\u001b[38;5;241;43m.\u001b[39;49m\u001b[43mvalues\u001b[49m\u001b[43m,\u001b[49m\u001b[43m \u001b[49m\u001b[43msample_data\u001b[49m\u001b[43m[\u001b[49m\u001b[38;5;124;43m'\u001b[39;49m\u001b[38;5;124;43mdec\u001b[39;49m\u001b[38;5;124;43m'\u001b[39;49m\u001b[43m]\u001b[49m\u001b[38;5;241;43m.\u001b[39;49m\u001b[43mvalues\u001b[49m\u001b[43m,\u001b[49m\u001b[43m \u001b[49m\u001b[43msample_data\u001b[49m\u001b[43m[\u001b[49m\u001b[38;5;124;43m'\u001b[39;49m\u001b[38;5;124;43mredshift\u001b[39;49m\u001b[38;5;124;43m'\u001b[39;49m\u001b[43m]\u001b[49m\u001b[38;5;241;43m.\u001b[39;49m\u001b[43mvalues\u001b[49m\u001b[43m,\u001b[49m\n\u001b[1;32m    167\u001b[0m \u001b[43m                     \u001b[49m\u001b[43msample_data\u001b[49m\u001b[43m[\u001b[49m\u001b[38;5;124;43m'\u001b[39;49m\u001b[38;5;124;43mname\u001b[39;49m\u001b[38;5;124;43m'\u001b[39;49m\u001b[43m]\u001b[49m\u001b[38;5;241;43m.\u001b[39;49m\u001b[43mvalues\u001b[49m\u001b[43m,\u001b[49m\u001b[43m \u001b[49m\u001b[43muse_peak\u001b[49m\u001b[38;5;241;43m=\u001b[39;49m\u001b[43muse_peak\u001b[49m\u001b[43m,\u001b[49m\u001b[43m \u001b[49m\u001b[43mpeak_find_method\u001b[49m\u001b[38;5;241;43m=\u001b[39;49m\u001b[43mpeak_find_method\u001b[49m\u001b[43m,\u001b[49m\n\u001b[1;32m    168\u001b[0m \u001b[43m                     \u001b[49m\u001b[43mclean_obs_threshold\u001b[49m\u001b[38;5;241;43m=\u001b[39;49m\u001b[38;5;241;43m0.7\u001b[39;49m\u001b[43m,\u001b[49m\u001b[43m \u001b[49m\u001b[43mload_fits\u001b[49m\u001b[38;5;241;43m=\u001b[39;49m\u001b[38;5;28;43;01mTrue\u001b[39;49;00m\u001b[43m,\u001b[49m\u001b[43m \u001b[49m\u001b[43mcosmology\u001b[49m\u001b[38;5;241;43m=\u001b[39;49m\u001b[43mcosmo\u001b[49m\u001b[43m,\u001b[49m\u001b[43m \u001b[49m\u001b[38;5;241;43m*\u001b[39;49m\u001b[38;5;241;43m*\u001b[39;49m\u001b[43mo_dens_arg\u001b[49m\u001b[43m)\u001b[49m\n\u001b[1;32m    170\u001b[0m \u001b[38;5;66;03m# As it is possible some clusters in the sample_data dataframe don't actually have X-ray data, we copy\u001b[39;00m\n\u001b[1;32m    171\u001b[0m \u001b[38;5;66;03m#  the sample_data and cut it down, so it only contains entries for clusters that were loaded in the sample at the\u001b[39;00m\n\u001b[1;32m    172\u001b[0m \u001b[38;5;66;03m#  beginning of this process\u001b[39;00m\n\u001b[1;32m    173\u001b[0m loaded_samp_data \u001b[38;5;241m=\u001b[39m sample_data\u001b[38;5;241m.\u001b[39mcopy()\n",
      "File \u001b[0;32m/mnt/ufs18/home-218/turne540/code/XGA/xga/samples/extended.py:157\u001b[0m, in \u001b[0;36mClusterSample.__init__\u001b[0;34m(self, ra, dec, redshift, name, r200, r500, r2500, richness, richness_err, wl_mass, wl_mass_err, custom_region_radius, use_peak, peak_lo_en, peak_hi_en, back_inn_rad_factor, back_out_rad_factor, cosmology, load_fits, clean_obs, clean_obs_reg, clean_obs_threshold, no_prog_bar, psf_corr, peak_find_method)\u001b[0m\n\u001b[1;32m    153\u001b[0m \u001b[38;5;66;03m# Will definitely load products (the True in this call), because I just made sure I generated a\u001b[39;00m\n\u001b[1;32m    154\u001b[0m \u001b[38;5;66;03m#  bunch to make GalaxyCluster declaration quicker\u001b[39;00m\n\u001b[1;32m    155\u001b[0m \u001b[38;5;28;01mtry\u001b[39;00m:\n\u001b[1;32m    156\u001b[0m     \u001b[38;5;66;03m# Declare the galaxy cluster, telling it is a part of a sample with in_sample=True\u001b[39;00m\n\u001b[0;32m--> 157\u001b[0m     \u001b[38;5;28mself\u001b[39m\u001b[38;5;241m.\u001b[39m_sources[n] \u001b[38;5;241m=\u001b[39m \u001b[43mGalaxyCluster\u001b[49m\u001b[43m(\u001b[49m\u001b[43mr\u001b[49m\u001b[43m,\u001b[49m\u001b[43m \u001b[49m\u001b[43md\u001b[49m\u001b[43m,\u001b[49m\u001b[43m \u001b[49m\u001b[43mz\u001b[49m\u001b[43m,\u001b[49m\u001b[43m \u001b[49m\u001b[43mn\u001b[49m\u001b[43m,\u001b[49m\u001b[43m \u001b[49m\u001b[43mr2\u001b[49m\u001b[43m,\u001b[49m\u001b[43m \u001b[49m\u001b[43mr5\u001b[49m\u001b[43m,\u001b[49m\u001b[43m \u001b[49m\u001b[43mr25\u001b[49m\u001b[43m,\u001b[49m\u001b[43m \u001b[49m\u001b[43mlam\u001b[49m\u001b[43m,\u001b[49m\u001b[43m \u001b[49m\u001b[43mlam_err\u001b[49m\u001b[43m,\u001b[49m\u001b[43m \u001b[49m\u001b[43mwlm\u001b[49m\u001b[43m,\u001b[49m\u001b[43m \u001b[49m\u001b[43mwlm_err\u001b[49m\u001b[43m,\u001b[49m\u001b[43m \u001b[49m\u001b[43mcr\u001b[49m\u001b[43m,\u001b[49m\n\u001b[1;32m    158\u001b[0m \u001b[43m                                     \u001b[49m\u001b[43muse_peak\u001b[49m\u001b[43m,\u001b[49m\u001b[43m \u001b[49m\u001b[43mpeak_lo_en\u001b[49m\u001b[43m,\u001b[49m\u001b[43m \u001b[49m\u001b[43mpeak_hi_en\u001b[49m\u001b[43m,\u001b[49m\u001b[43m \u001b[49m\u001b[43mback_inn_rad_factor\u001b[49m\u001b[43m,\u001b[49m\n\u001b[1;32m    159\u001b[0m \u001b[43m                                     \u001b[49m\u001b[43mback_out_rad_factor\u001b[49m\u001b[43m,\u001b[49m\u001b[43m \u001b[49m\u001b[43mcosmology\u001b[49m\u001b[43m,\u001b[49m\u001b[43m \u001b[49m\u001b[38;5;28;43;01mTrue\u001b[39;49;00m\u001b[43m,\u001b[49m\u001b[43m \u001b[49m\u001b[43mload_fits\u001b[49m\u001b[43m,\u001b[49m\u001b[43m \u001b[49m\u001b[43mclean_obs\u001b[49m\u001b[43m,\u001b[49m\n\u001b[1;32m    160\u001b[0m \u001b[43m                                     \u001b[49m\u001b[43mclean_obs_reg\u001b[49m\u001b[43m,\u001b[49m\u001b[43m \u001b[49m\u001b[43mclean_obs_threshold\u001b[49m\u001b[43m,\u001b[49m\u001b[43m \u001b[49m\u001b[38;5;28;43;01mFalse\u001b[39;49;00m\u001b[43m,\u001b[49m\u001b[43m \u001b[49m\u001b[43mpeak_find_method\u001b[49m\u001b[43m,\u001b[49m\n\u001b[1;32m    161\u001b[0m \u001b[43m                                     \u001b[49m\u001b[38;5;28;43;01mTrue\u001b[39;49;00m\u001b[43m)\u001b[49m\n\u001b[1;32m    162\u001b[0m     final_names\u001b[38;5;241m.\u001b[39mappend(n)\n\u001b[1;32m    164\u001b[0m \u001b[38;5;28;01mexcept\u001b[39;00m PeakConvergenceFailedError:\n",
      "File \u001b[0;32m/mnt/ufs18/home-218/turne540/code/XGA/xga/sources/extended.py:154\u001b[0m, in \u001b[0;36mGalaxyCluster.__init__\u001b[0;34m(self, ra, dec, redshift, name, r200, r500, r2500, richness, richness_err, wl_mass, wl_mass_err, custom_region_radius, use_peak, peak_lo_en, peak_hi_en, back_inn_rad_factor, back_out_rad_factor, cosmology, load_products, load_fits, clean_obs, clean_obs_reg, clean_obs_threshold, regen_merged, peak_find_method, in_sample)\u001b[0m\n\u001b[1;32m    151\u001b[0m \u001b[38;5;28;01melif\u001b[39;00m r2500 \u001b[38;5;129;01mis\u001b[39;00m \u001b[38;5;129;01mnot\u001b[39;00m \u001b[38;5;28;01mNone\u001b[39;00m \u001b[38;5;129;01mand\u001b[39;00m \u001b[38;5;129;01mnot\u001b[39;00m r2500\u001b[38;5;241m.\u001b[39munit\u001b[38;5;241m.\u001b[39mis_equivalent(\u001b[38;5;124m\"\u001b[39m\u001b[38;5;124mkpc\u001b[39m\u001b[38;5;124m\"\u001b[39m) \u001b[38;5;129;01mand\u001b[39;00m \u001b[38;5;129;01mnot\u001b[39;00m r2500\u001b[38;5;241m.\u001b[39munit\u001b[38;5;241m.\u001b[39mis_equivalent(\u001b[38;5;124m\"\u001b[39m\u001b[38;5;124mdeg\u001b[39m\u001b[38;5;124m\"\u001b[39m):\n\u001b[1;32m    152\u001b[0m     \u001b[38;5;28;01mraise\u001b[39;00m UnitConversionError(\u001b[38;5;124m\"\u001b[39m\u001b[38;5;124mR2500 radius must be in either angular or distance units.\u001b[39m\u001b[38;5;124m\"\u001b[39m)\n\u001b[0;32m--> 154\u001b[0m \u001b[38;5;28;43msuper\u001b[39;49m\u001b[43m(\u001b[49m\u001b[43m)\u001b[49m\u001b[38;5;241;43m.\u001b[39;49m\u001b[38;5;21;43m__init__\u001b[39;49m\u001b[43m(\u001b[49m\u001b[43mra\u001b[49m\u001b[43m,\u001b[49m\u001b[43m \u001b[49m\u001b[43mdec\u001b[49m\u001b[43m,\u001b[49m\u001b[43m \u001b[49m\u001b[43mredshift\u001b[49m\u001b[43m,\u001b[49m\u001b[43m \u001b[49m\u001b[43mname\u001b[49m\u001b[43m,\u001b[49m\u001b[43m \u001b[49m\u001b[43mcustom_region_radius\u001b[49m\u001b[43m,\u001b[49m\u001b[43m \u001b[49m\u001b[43muse_peak\u001b[49m\u001b[43m,\u001b[49m\u001b[43m \u001b[49m\u001b[43mpeak_lo_en\u001b[49m\u001b[43m,\u001b[49m\u001b[43m \u001b[49m\u001b[43mpeak_hi_en\u001b[49m\u001b[43m,\u001b[49m\n\u001b[1;32m    155\u001b[0m \u001b[43m                 \u001b[49m\u001b[43mback_inn_rad_factor\u001b[49m\u001b[43m,\u001b[49m\u001b[43m \u001b[49m\u001b[43mback_out_rad_factor\u001b[49m\u001b[43m,\u001b[49m\u001b[43m \u001b[49m\u001b[43mcosmology\u001b[49m\u001b[43m,\u001b[49m\u001b[43m \u001b[49m\u001b[43mload_products\u001b[49m\u001b[43m,\u001b[49m\u001b[43m \u001b[49m\u001b[43mload_fits\u001b[49m\u001b[43m,\u001b[49m\n\u001b[1;32m    156\u001b[0m \u001b[43m                 \u001b[49m\u001b[43mpeak_find_method\u001b[49m\u001b[43m,\u001b[49m\u001b[43m \u001b[49m\u001b[43min_sample\u001b[49m\u001b[43m)\u001b[49m\n\u001b[1;32m    158\u001b[0m \u001b[38;5;66;03m# Reading observables into their attributes, if the user doesn't pass a value for a particular observable\u001b[39;00m\n\u001b[1;32m    159\u001b[0m \u001b[38;5;66;03m#  it will be None.\u001b[39;00m\n\u001b[1;32m    160\u001b[0m \u001b[38;5;28mself\u001b[39m\u001b[38;5;241m.\u001b[39m_richness \u001b[38;5;241m=\u001b[39m richness\n",
      "File \u001b[0;32m/mnt/ufs18/home-218/turne540/code/XGA/xga/sources/general.py:127\u001b[0m, in \u001b[0;36mExtendedSource.__init__\u001b[0;34m(self, ra, dec, redshift, name, custom_region_radius, use_peak, peak_lo_en, peak_hi_en, back_inn_rad_factor, back_out_rad_factor, cosmology, load_products, load_fits, peak_find_method, in_sample)\u001b[0m\n\u001b[1;32m    124\u001b[0m \u001b[38;5;28mself\u001b[39m\u001b[38;5;241m.\u001b[39m_snr \u001b[38;5;241m=\u001b[39m {}\n\u001b[1;32m    126\u001b[0m \u001b[38;5;66;03m# This uses the added context of the type of source to find (or not find) matches in region files\u001b[39;00m\n\u001b[0;32m--> 127\u001b[0m \u001b[38;5;28mself\u001b[39m\u001b[38;5;241m.\u001b[39m_regions, \u001b[38;5;28mself\u001b[39m\u001b[38;5;241m.\u001b[39m_alt_match_regions, \u001b[38;5;28mself\u001b[39m\u001b[38;5;241m.\u001b[39m_other_regions \u001b[38;5;241m=\u001b[39m \u001b[38;5;28;43mself\u001b[39;49m\u001b[38;5;241;43m.\u001b[39;49m\u001b[43m_source_type_match\u001b[49m\u001b[43m(\u001b[49m\u001b[38;5;124;43m\"\u001b[39;49m\u001b[38;5;124;43mext\u001b[39;49m\u001b[38;5;124;43m\"\u001b[39;49m\u001b[43m)\u001b[49m\n\u001b[1;32m    129\u001b[0m \u001b[38;5;66;03m# Making a combined list of interloper regions\u001b[39;00m\n\u001b[1;32m    130\u001b[0m \u001b[38;5;28mself\u001b[39m\u001b[38;5;241m.\u001b[39m_interloper_regions \u001b[38;5;241m=\u001b[39m []\n",
      "File \u001b[0;32m/mnt/ufs18/home-218/turne540/code/XGA/xga/sources/extended.py:238\u001b[0m, in \u001b[0;36mGalaxyCluster._source_type_match\u001b[0;34m(self, source_type)\u001b[0m\n\u001b[1;32m    234\u001b[0m results_dict, alt_match_dict, anti_results_dict \u001b[38;5;241m=\u001b[39m \u001b[38;5;28msuper\u001b[39m()\u001b[38;5;241m.\u001b[39m_source_type_match(\u001b[38;5;124m'\u001b[39m\u001b[38;5;124mext\u001b[39m\u001b[38;5;124m'\u001b[39m)\n\u001b[1;32m    236\u001b[0m \u001b[38;5;66;03m# The 0.66 and 2.25 factors are intended to shift the r200 and r2500 values to approximately r500, and were\u001b[39;00m\n\u001b[1;32m    237\u001b[0m \u001b[38;5;66;03m#  decided on by dividing the Arnaud et al. 2005 R-T relations by one another and finding the mean factor\u001b[39;00m\n\u001b[0;32m--> 238\u001b[0m \u001b[38;5;28;01mif\u001b[39;00m \u001b[38;5;28;43mself\u001b[39;49m\u001b[38;5;241;43m.\u001b[39;49m\u001b[43m_radii\u001b[49m\u001b[43m[\u001b[49m\u001b[38;5;124;43m'\u001b[39;49m\u001b[38;5;124;43mr500\u001b[39;49m\u001b[38;5;124;43m'\u001b[39;49m\u001b[43m]\u001b[49m \u001b[38;5;129;01mis\u001b[39;00m \u001b[38;5;129;01mnot\u001b[39;00m \u001b[38;5;28;01mNone\u001b[39;00m:\n\u001b[1;32m    239\u001b[0m     check_rad \u001b[38;5;241m=\u001b[39m \u001b[38;5;28mself\u001b[39m\u001b[38;5;241m.\u001b[39mconvert_radius(\u001b[38;5;28mself\u001b[39m\u001b[38;5;241m.\u001b[39m_radii[\u001b[38;5;124m'\u001b[39m\u001b[38;5;124mr500\u001b[39m\u001b[38;5;124m'\u001b[39m] \u001b[38;5;241m*\u001b[39m \u001b[38;5;241m0.15\u001b[39m, \u001b[38;5;124m'\u001b[39m\u001b[38;5;124mdeg\u001b[39m\u001b[38;5;124m'\u001b[39m)\n\u001b[1;32m    240\u001b[0m \u001b[38;5;28;01melif\u001b[39;00m \u001b[38;5;28mself\u001b[39m\u001b[38;5;241m.\u001b[39m_radii[\u001b[38;5;124m'\u001b[39m\u001b[38;5;124mr200\u001b[39m\u001b[38;5;124m'\u001b[39m] \u001b[38;5;129;01mis\u001b[39;00m \u001b[38;5;129;01mnot\u001b[39;00m \u001b[38;5;28;01mNone\u001b[39;00m:\n",
      "\u001b[0;31mKeyError\u001b[0m: 'r500'"
     ]
    }
   ],
   "source": [
    "res_file = '../outputs/results/ltr_r2500_pipeline_results.csv'\n",
    "rhist_file = '../outputs/results/radii_r2500_history.csv'\n",
    "\n",
    "srcs_r2500, results_r2500, \\\n",
    "    rad_hist_r2500 = luminosity_temperature_pipeline(samp, Quantity(200, 'kpc'), timeout=Quantity(4, 'hr'), \n",
    "                                                     rad_temp_rel=arnaud_r2500, save_samp_results_path=res_file,\n",
    "                                                     save_rad_history_path=rhist_file)"
   ]
  }
 ],
 "metadata": {
  "kernelspec": {
   "display_name": "Python 3 (ipykernel)",
   "language": "python",
   "name": "python3"
  },
  "language_info": {
   "codemirror_mode": {
    "name": "ipython",
    "version": 3
   },
   "file_extension": ".py",
   "mimetype": "text/x-python",
   "name": "python",
   "nbconvert_exporter": "python",
   "pygments_lexer": "ipython3",
   "version": "3.9.16"
  }
 },
 "nbformat": 4,
 "nbformat_minor": 5
}
