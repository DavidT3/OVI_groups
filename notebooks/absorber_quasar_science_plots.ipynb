{
 "cells": [
  {
   "cell_type": "markdown",
   "id": "69a96601",
   "metadata": {},
   "source": [
    "# Linking measured absorption to quasar-cluster/group properties"
   ]
  },
  {
   "cell_type": "markdown",
   "id": "de976c49",
   "metadata": {},
   "source": []
  },
  {
   "cell_type": "markdown",
   "id": "80462af4",
   "metadata": {},
   "source": [
    "## Import Statements"
   ]
  },
  {
   "cell_type": "code",
   "execution_count": null,
   "id": "6220a0f2",
   "metadata": {},
   "outputs": [],
   "source": [
    "import pandas as pd\n",
    "pd.set_option('display.max_columns', 500)\n",
    "import numpy as np\n",
    "from astropy.units import Quantity\n",
    "import os\n",
    "from shutil import rmtree\n",
    "from matplotlib import pyplot as plt\n",
    "\n",
    "%matplotlib inline"
   ]
  },
  {
   "cell_type": "markdown",
   "id": "5949cabf",
   "metadata": {},
   "source": [
    "## Setting up directories"
   ]
  },
  {
   "cell_type": "markdown",
   "id": "4784cf10",
   "metadata": {},
   "source": [
    "Need to make sure that some of the directories that we will be storing output files and figures in actually exist:"
   ]
  },
  {
   "cell_type": "code",
   "execution_count": null,
   "id": "66816e02",
   "metadata": {},
   "outputs": [],
   "source": []
  },
  {
   "cell_type": "markdown",
   "id": "381c62be",
   "metadata": {},
   "source": [
    "## "
   ]
  }
 ],
 "metadata": {
  "kernelspec": {
   "display_name": "Python 3 (ipykernel)",
   "language": "python",
   "name": "python3"
  },
  "language_info": {
   "codemirror_mode": {
    "name": "ipython",
    "version": 3
   },
   "file_extension": ".py",
   "mimetype": "text/x-python",
   "name": "python",
   "nbconvert_exporter": "python",
   "pygments_lexer": "ipython3",
   "version": "3.9.16"
  }
 },
 "nbformat": 4,
 "nbformat_minor": 5
}
