{
 "cells": [
  {
   "cell_type": "markdown",
   "id": "fbea65bf",
   "metadata": {},
   "source": [
    "# Finding, downloading, and processing relevant X-ray observations"
   ]
  },
  {
   "cell_type": "markdown",
   "id": "b4829440",
   "metadata": {},
   "source": [
    "We want to examine the X-ray emission of these groups, some of which we know have had targeted XMM observations. The XGA module doesn't support telescopes other than XMM at the moment, but we may download other available observations for further context/external analysis.\n",
    "\n",
    "Once identified, the XMM observations will be downloaded, and their raw data processed into a state suitable for analysis."
   ]
  },
  {
   "cell_type": "markdown",
   "id": "8c614d51",
   "metadata": {},
   "source": [
    "## Import statements"
   ]
  },
  {
   "cell_type": "code",
   "execution_count": 1,
   "id": "f3ca43d0",
   "metadata": {},
   "outputs": [],
   "source": [
    "import daxa\n",
    "daxa.NUM_CORES = 15\n",
    "daxa.OUTPUT = \"/mnt/gs21/scratch/turne540/OVI_groups/data/\"\n",
    "daxa.config.OUTPUT = \"/mnt/gs21/scratch/turne540/OVI_groups/data/\"\n",
    "daxa.mission.base.OUTPUT = \"/mnt/gs21/scratch/turne540/OVI_groups/data/\"\n",
    "from daxa.archive import Archive\n",
    "from daxa.process.simple import full_process_xmm\n",
    "from daxa.mission import XMMPointed, Chandra, NuSTARPointed, ROSATPointed, ROSATAllSky\n",
    "from daxa.exceptions import NoObsAfterFilterError\n",
    "\n",
    "import pandas as pd\n",
    "from astropy.units import Quantity\n",
    "import os\n",
    "from warnings import warn"
   ]
  },
  {
   "cell_type": "markdown",
   "id": "b97edba7",
   "metadata": {},
   "source": [
    "## Reading the sample file"
   ]
  },
  {
   "cell_type": "markdown",
   "id": "c4013843",
   "metadata": {},
   "source": [
    "Reading in the sample file that contains the positions of the groups, these will be used to locate relevant X-ray observations:"
   ]
  },
  {
   "cell_type": "code",
   "execution_count": 2,
   "id": "0b8e8e06",
   "metadata": {},
   "outputs": [
    {
     "data": {
      "text/html": [
       "<div>\n",
       "<style scoped>\n",
       "    .dataframe tbody tr th:only-of-type {\n",
       "        vertical-align: middle;\n",
       "    }\n",
       "\n",
       "    .dataframe tbody tr th {\n",
       "        vertical-align: top;\n",
       "    }\n",
       "\n",
       "    .dataframe thead th {\n",
       "        text-align: right;\n",
       "    }\n",
       "</style>\n",
       "<table border=\"1\" class=\"dataframe\">\n",
       "  <thead>\n",
       "    <tr style=\"text-align: right;\">\n",
       "      <th></th>\n",
       "      <th>name</th>\n",
       "      <th>est_ra</th>\n",
       "      <th>est_dec</th>\n",
       "      <th>redshift</th>\n",
       "    </tr>\n",
       "  </thead>\n",
       "  <tbody>\n",
       "    <tr>\n",
       "      <th>0</th>\n",
       "      <td>25124</td>\n",
       "      <td>243.629055</td>\n",
       "      <td>26.730240</td>\n",
       "      <td>0.186</td>\n",
       "    </tr>\n",
       "    <tr>\n",
       "      <th>1</th>\n",
       "      <td>44739</td>\n",
       "      <td>229.793620</td>\n",
       "      <td>28.331750</td>\n",
       "      <td>0.118</td>\n",
       "    </tr>\n",
       "    <tr>\n",
       "      <th>2</th>\n",
       "      <td>19670A</td>\n",
       "      <td>150.256710</td>\n",
       "      <td>50.793942</td>\n",
       "      <td>0.134</td>\n",
       "    </tr>\n",
       "    <tr>\n",
       "      <th>3</th>\n",
       "      <td>19670B</td>\n",
       "      <td>150.214920</td>\n",
       "      <td>50.805014</td>\n",
       "      <td>0.134</td>\n",
       "    </tr>\n",
       "    <tr>\n",
       "      <th>4</th>\n",
       "      <td>12833</td>\n",
       "      <td>129.496800</td>\n",
       "      <td>44.248700</td>\n",
       "      <td>0.145</td>\n",
       "    </tr>\n",
       "    <tr>\n",
       "      <th>5</th>\n",
       "      <td>44858</td>\n",
       "      <td>230.112000</td>\n",
       "      <td>28.887750</td>\n",
       "      <td>0.127</td>\n",
       "    </tr>\n",
       "    <tr>\n",
       "      <th>6</th>\n",
       "      <td>PHL1811</td>\n",
       "      <td>328.769920</td>\n",
       "      <td>-9.588805</td>\n",
       "      <td>0.077</td>\n",
       "    </tr>\n",
       "    <tr>\n",
       "      <th>7</th>\n",
       "      <td>50433</td>\n",
       "      <td>157.732000</td>\n",
       "      <td>30.844000</td>\n",
       "      <td>0.136</td>\n",
       "    </tr>\n",
       "  </tbody>\n",
       "</table>\n",
       "</div>"
      ],
      "text/plain": [
       "      name      est_ra    est_dec  redshift\n",
       "0    25124  243.629055  26.730240     0.186\n",
       "1    44739  229.793620  28.331750     0.118\n",
       "2   19670A  150.256710  50.793942     0.134\n",
       "3   19670B  150.214920  50.805014     0.134\n",
       "4    12833  129.496800  44.248700     0.145\n",
       "5    44858  230.112000  28.887750     0.127\n",
       "6  PHL1811  328.769920  -9.588805     0.077\n",
       "7    50433  157.732000  30.844000     0.136"
      ]
     },
     "execution_count": 2,
     "metadata": {},
     "output_type": "execute_result"
    }
   ],
   "source": [
    "samp = pd.read_csv(\"../sample_files/init_group_info.csv\")\n",
    "samp"
   ]
  },
  {
   "cell_type": "markdown",
   "id": "cb6562e9",
   "metadata": {},
   "source": [
    "## Searching for data"
   ]
  },
  {
   "cell_type": "markdown",
   "id": "724cc93a",
   "metadata": {},
   "source": [
    "We can use DAXA classes to search the online databases of observations maintained for several X-ray telescopes. We will only make use of XMM data in this analysis, but it will be interesting to see what other data are available."
   ]
  },
  {
   "cell_type": "markdown",
   "id": "a3495587",
   "metadata": {},
   "source": [
    "### XMM-Newton Pointed"
   ]
  },
  {
   "cell_type": "markdown",
   "id": "071923a2",
   "metadata": {},
   "source": [
    "We define an XMMPointed instance, which makes the distinction between XMM data that were taken in 'pointing' mode, when the attitude of the spacecraft was fixed (or nearly fixed), and data taken when XMM was slewing to its next target. Slew data is harder to analyse, with decreased spatial resolution, and is not yet implemented in DAXA.\n",
    "\n",
    "The RA-Dec values for the groups of interest are used to filter the entire archive on position, searching for any XMM pointed observations with an aimpoint within the approximate field-of-view of the telescope:"
   ]
  },
  {
   "cell_type": "code",
   "execution_count": 3,
   "id": "a47c75b3",
   "metadata": {},
   "outputs": [
    {
     "name": "stderr",
     "output_type": "stream",
     "text": [
      "/mnt/ufs18/home-218/turne540/code/DAXA/daxa/mission/xmm.py:80: UserWarning: 140 of the 17116 observations located for this mission have been removed due to NaN RA or Dec values\n",
      "  self._fetch_obs_info()\n"
     ]
    }
   ],
   "source": [
    "# Define the instance\n",
    "xmm = XMMPointed()\n",
    "# This uses the pre-defined XMM field of view to search for observations around \n",
    "#  the positions of our groups - the same search will be performed using other telescopes\n",
    "xmm.filter_on_positions(samp[['est_ra', 'est_dec']].values)"
   ]
  },
  {
   "cell_type": "markdown",
   "id": "128af97b",
   "metadata": {},
   "source": [
    "This part is a small bodge to account for the fact that the proprietary data I want to make use of in this notebook isn't associated with my XMM account, and I've just been handed the downloaded data. This part may not last very long as I think I'll probably add a more elegant way of manually adding data to a DAXA mission (one that doesn't involve accessing protected attributes). \n",
    "\n",
    "This essentially relies on us having copied the unpacked ODFs into the xmm_pointed_raw DAXA directory, and then manually altering the observation info dataframe to trick DAXA that it is in a proprietary usable period. It'll check for the ObsIDs when it does the download, find them there, and that will be that:"
   ]
  },
  {
   "cell_type": "code",
   "execution_count": 4,
   "id": "21ac1fe0",
   "metadata": {},
   "outputs": [
    {
     "data": {
      "text/html": [
       "<div>\n",
       "<style scoped>\n",
       "    .dataframe tbody tr th:only-of-type {\n",
       "        vertical-align: middle;\n",
       "    }\n",
       "\n",
       "    .dataframe tbody tr th {\n",
       "        vertical-align: top;\n",
       "    }\n",
       "\n",
       "    .dataframe thead th {\n",
       "        text-align: right;\n",
       "    }\n",
       "</style>\n",
       "<table border=\"1\" class=\"dataframe\">\n",
       "  <thead>\n",
       "    <tr style=\"text-align: right;\">\n",
       "      <th></th>\n",
       "      <th>ra</th>\n",
       "      <th>dec</th>\n",
       "      <th>ObsID</th>\n",
       "      <th>start</th>\n",
       "      <th>science_usable</th>\n",
       "      <th>duration</th>\n",
       "      <th>proprietary_end_date</th>\n",
       "      <th>revolution</th>\n",
       "      <th>proprietary_usable</th>\n",
       "      <th>end</th>\n",
       "    </tr>\n",
       "  </thead>\n",
       "  <tbody>\n",
       "    <tr>\n",
       "      <th>917</th>\n",
       "      <td>157.746300</td>\n",
       "      <td>31.048890</td>\n",
       "      <td>0102040301</td>\n",
       "      <td>2000-12-06 20:46:26</td>\n",
       "      <td>True</td>\n",
       "      <td>0 days 08:08:31</td>\n",
       "      <td>2002-04-06 00:00:00</td>\n",
       "      <td>182</td>\n",
       "      <td>True</td>\n",
       "      <td>2000-12-07 04:54:57</td>\n",
       "    </tr>\n",
       "    <tr>\n",
       "      <th>922</th>\n",
       "      <td>157.746300</td>\n",
       "      <td>31.048890</td>\n",
       "      <td>0102041001</td>\n",
       "      <td>2000-12-07 04:57:14</td>\n",
       "      <td>True</td>\n",
       "      <td>0 days 01:30:06</td>\n",
       "      <td>2002-04-06 00:00:00</td>\n",
       "      <td>182</td>\n",
       "      <td>True</td>\n",
       "      <td>2000-12-07 06:27:20</td>\n",
       "    </tr>\n",
       "    <tr>\n",
       "      <th>3802</th>\n",
       "      <td>328.756200</td>\n",
       "      <td>-9.373528</td>\n",
       "      <td>0204310101</td>\n",
       "      <td>2004-11-01 09:06:42</td>\n",
       "      <td>True</td>\n",
       "      <td>0 days 09:08:39</td>\n",
       "      <td>2005-12-01 00:00:00</td>\n",
       "      <td>897</td>\n",
       "      <td>True</td>\n",
       "      <td>2004-11-01 18:15:21</td>\n",
       "    </tr>\n",
       "    <tr>\n",
       "      <th>12006</th>\n",
       "      <td>328.756250</td>\n",
       "      <td>-9.373333</td>\n",
       "      <td>0761910201</td>\n",
       "      <td>2015-11-29 09:38:07</td>\n",
       "      <td>True</td>\n",
       "      <td>0 days 16:30:00</td>\n",
       "      <td>2016-12-11 23:00:00</td>\n",
       "      <td>2925</td>\n",
       "      <td>True</td>\n",
       "      <td>2015-11-30 02:08:07</td>\n",
       "    </tr>\n",
       "    <tr>\n",
       "      <th>13847</th>\n",
       "      <td>230.111667</td>\n",
       "      <td>28.886111</td>\n",
       "      <td>0820240301</td>\n",
       "      <td>2019-01-14 04:17:53</td>\n",
       "      <td>True</td>\n",
       "      <td>0 days 06:06:40</td>\n",
       "      <td>2020-02-04 23:00:00</td>\n",
       "      <td>3498</td>\n",
       "      <td>True</td>\n",
       "      <td>2019-01-14 10:24:33</td>\n",
       "    </tr>\n",
       "    <tr>\n",
       "      <th>14961</th>\n",
       "      <td>129.414208</td>\n",
       "      <td>44.284083</td>\n",
       "      <td>0861080201</td>\n",
       "      <td>2020-10-07 12:28:01</td>\n",
       "      <td>True</td>\n",
       "      <td>0 days 06:18:20</td>\n",
       "      <td>2021-11-13 00:00:00</td>\n",
       "      <td>3815</td>\n",
       "      <td>True</td>\n",
       "      <td>2020-10-07 18:46:21</td>\n",
       "    </tr>\n",
       "    <tr>\n",
       "      <th>14962</th>\n",
       "      <td>129.414208</td>\n",
       "      <td>44.284083</td>\n",
       "      <td>0861080501</td>\n",
       "      <td>2020-10-07 10:09:04</td>\n",
       "      <td>True</td>\n",
       "      <td>0 days 02:18:57</td>\n",
       "      <td>2021-11-13 00:00:00</td>\n",
       "      <td>3815</td>\n",
       "      <td>True</td>\n",
       "      <td>2020-10-07 12:28:01</td>\n",
       "    </tr>\n",
       "    <tr>\n",
       "      <th>14965</th>\n",
       "      <td>150.166375</td>\n",
       "      <td>50.783694</td>\n",
       "      <td>0861080101</td>\n",
       "      <td>2020-10-11 11:57:49</td>\n",
       "      <td>True</td>\n",
       "      <td>0 days 06:23:20</td>\n",
       "      <td>2021-11-02 00:00:00</td>\n",
       "      <td>3817</td>\n",
       "      <td>True</td>\n",
       "      <td>2020-10-11 18:21:09</td>\n",
       "    </tr>\n",
       "    <tr>\n",
       "      <th>14972</th>\n",
       "      <td>150.166375</td>\n",
       "      <td>50.783694</td>\n",
       "      <td>0861080601</td>\n",
       "      <td>2020-10-11 09:53:44</td>\n",
       "      <td>True</td>\n",
       "      <td>0 days 02:04:05</td>\n",
       "      <td>2021-11-02 00:00:00</td>\n",
       "      <td>3817</td>\n",
       "      <td>True</td>\n",
       "      <td>2020-10-11 11:57:49</td>\n",
       "    </tr>\n",
       "    <tr>\n",
       "      <th>16245</th>\n",
       "      <td>229.803958</td>\n",
       "      <td>28.380667</td>\n",
       "      <td>0900700201</td>\n",
       "      <td>2022-08-17 12:04:49</td>\n",
       "      <td>True</td>\n",
       "      <td>0 days 08:13:20</td>\n",
       "      <td>2023-08-30 00:00:00</td>\n",
       "      <td>4155</td>\n",
       "      <td>True</td>\n",
       "      <td>2022-08-17 20:18:09</td>\n",
       "    </tr>\n",
       "    <tr>\n",
       "      <th>16293</th>\n",
       "      <td>243.542417</td>\n",
       "      <td>26.647694</td>\n",
       "      <td>0900700101</td>\n",
       "      <td>2022-09-12 02:31:27</td>\n",
       "      <td>True</td>\n",
       "      <td>0 days 08:03:20</td>\n",
       "      <td>2023-09-29 00:00:00</td>\n",
       "      <td>4168</td>\n",
       "      <td>True</td>\n",
       "      <td>2022-09-12 10:34:47</td>\n",
       "    </tr>\n",
       "  </tbody>\n",
       "</table>\n",
       "</div>"
      ],
      "text/plain": [
       "               ra        dec       ObsID               start  science_usable  \\\n",
       "917    157.746300  31.048890  0102040301 2000-12-06 20:46:26            True   \n",
       "922    157.746300  31.048890  0102041001 2000-12-07 04:57:14            True   \n",
       "3802   328.756200  -9.373528  0204310101 2004-11-01 09:06:42            True   \n",
       "12006  328.756250  -9.373333  0761910201 2015-11-29 09:38:07            True   \n",
       "13847  230.111667  28.886111  0820240301 2019-01-14 04:17:53            True   \n",
       "14961  129.414208  44.284083  0861080201 2020-10-07 12:28:01            True   \n",
       "14962  129.414208  44.284083  0861080501 2020-10-07 10:09:04            True   \n",
       "14965  150.166375  50.783694  0861080101 2020-10-11 11:57:49            True   \n",
       "14972  150.166375  50.783694  0861080601 2020-10-11 09:53:44            True   \n",
       "16245  229.803958  28.380667  0900700201 2022-08-17 12:04:49            True   \n",
       "16293  243.542417  26.647694  0900700101 2022-09-12 02:31:27            True   \n",
       "\n",
       "             duration proprietary_end_date  revolution  proprietary_usable  \\\n",
       "917   0 days 08:08:31  2002-04-06 00:00:00         182                True   \n",
       "922   0 days 01:30:06  2002-04-06 00:00:00         182                True   \n",
       "3802  0 days 09:08:39  2005-12-01 00:00:00         897                True   \n",
       "12006 0 days 16:30:00  2016-12-11 23:00:00        2925                True   \n",
       "13847 0 days 06:06:40  2020-02-04 23:00:00        3498                True   \n",
       "14961 0 days 06:18:20  2021-11-13 00:00:00        3815                True   \n",
       "14962 0 days 02:18:57  2021-11-13 00:00:00        3815                True   \n",
       "14965 0 days 06:23:20  2021-11-02 00:00:00        3817                True   \n",
       "14972 0 days 02:04:05  2021-11-02 00:00:00        3817                True   \n",
       "16245 0 days 08:13:20  2023-08-30 00:00:00        4155                True   \n",
       "16293 0 days 08:03:20  2023-09-29 00:00:00        4168                True   \n",
       "\n",
       "                      end  \n",
       "917   2000-12-07 04:54:57  \n",
       "922   2000-12-07 06:27:20  \n",
       "3802  2004-11-01 18:15:21  \n",
       "12006 2015-11-30 02:08:07  \n",
       "13847 2019-01-14 10:24:33  \n",
       "14961 2020-10-07 18:46:21  \n",
       "14962 2020-10-07 12:28:01  \n",
       "14965 2020-10-11 18:21:09  \n",
       "14972 2020-10-11 11:57:49  \n",
       "16245 2022-08-17 20:18:09  \n",
       "16293 2022-09-12 10:34:47  "
      ]
     },
     "execution_count": 4,
     "metadata": {},
     "output_type": "execute_result"
    }
   ],
   "source": [
    "prop_obsids = ['0900700101', '0900700201']\n",
    "for obs_id in prop_obsids:\n",
    "    if os.path.exists('../data/xmm_pointed_raw/{}'.format(obs_id)): \n",
    "        rel_rows_msk = xmm._obs_info['ObsID'] == obs_id\n",
    "        xmm._obs_info.loc[rel_rows_msk, 'proprietary_usable'] = True\n",
    "xmm.filtered_obs_info"
   ]
  },
  {
   "cell_type": "markdown",
   "id": "d713fdf9",
   "metadata": {},
   "source": [
    "### Chandra"
   ]
  },
  {
   "cell_type": "markdown",
   "id": "1441b5b0",
   "metadata": {},
   "source": [
    "We perform a similar search in the Chandra archive - be aware that the odd geometry of some of Chandra's detectors makes the search radius defined in the DAXA class quite approximate:"
   ]
  },
  {
   "cell_type": "code",
   "execution_count": 5,
   "id": "a87ec27e",
   "metadata": {},
   "outputs": [
    {
     "name": "stderr",
     "output_type": "stream",
     "text": [
      "/mnt/ufs18/home-218/turne540/code/DAXA/daxa/mission/base.py:781: UserWarning: Chandra FoV are difficult to define, as they can be strongly dependant on observation mode; as such takethese as very approximate.\n",
      "  fov = self.fov\n"
     ]
    },
    {
     "data": {
      "text/html": [
       "<div>\n",
       "<style scoped>\n",
       "    .dataframe tbody tr th:only-of-type {\n",
       "        vertical-align: middle;\n",
       "    }\n",
       "\n",
       "    .dataframe tbody tr th {\n",
       "        vertical-align: top;\n",
       "    }\n",
       "\n",
       "    .dataframe thead th {\n",
       "        text-align: right;\n",
       "    }\n",
       "</style>\n",
       "<table border=\"1\" class=\"dataframe\">\n",
       "  <thead>\n",
       "    <tr style=\"text-align: right;\">\n",
       "      <th></th>\n",
       "      <th>ra</th>\n",
       "      <th>dec</th>\n",
       "      <th>ObsID</th>\n",
       "      <th>science_usable</th>\n",
       "      <th>proprietary_usable</th>\n",
       "      <th>start</th>\n",
       "      <th>end</th>\n",
       "      <th>duration</th>\n",
       "      <th>proprietary_end_date</th>\n",
       "      <th>target_category</th>\n",
       "      <th>instrument</th>\n",
       "      <th>grating</th>\n",
       "      <th>data_mode</th>\n",
       "    </tr>\n",
       "  </thead>\n",
       "  <tbody>\n",
       "    <tr>\n",
       "      <th>8973</th>\n",
       "      <td>129.49708</td>\n",
       "      <td>44.24889</td>\n",
       "      <td>15378</td>\n",
       "      <td>True</td>\n",
       "      <td>True</td>\n",
       "      <td>2013-01-04 02:14:34.000002</td>\n",
       "      <td>2013-01-04 07:49:14.000002</td>\n",
       "      <td>0 days 05:34:40</td>\n",
       "      <td>2014-01-04</td>\n",
       "      <td>GCL</td>\n",
       "      <td>ACIS-I</td>\n",
       "      <td>NONE</td>\n",
       "      <td>TE_00458</td>\n",
       "    </tr>\n",
       "    <tr>\n",
       "      <th>9507</th>\n",
       "      <td>130.03917</td>\n",
       "      <td>44.36500</td>\n",
       "      <td>21564</td>\n",
       "      <td>True</td>\n",
       "      <td>True</td>\n",
       "      <td>2019-01-04 18:55:19.999998</td>\n",
       "      <td>2019-01-05 00:24:59.999998</td>\n",
       "      <td>0 days 05:29:40</td>\n",
       "      <td>2020-01-07</td>\n",
       "      <td>GCL</td>\n",
       "      <td>ACIS-I</td>\n",
       "      <td>NONE</td>\n",
       "      <td>TE_006E6</td>\n",
       "    </tr>\n",
       "    <tr>\n",
       "      <th>12236</th>\n",
       "      <td>130.03917</td>\n",
       "      <td>44.36500</td>\n",
       "      <td>22035</td>\n",
       "      <td>True</td>\n",
       "      <td>True</td>\n",
       "      <td>2019-01-06 19:19:28.000001</td>\n",
       "      <td>2019-01-06 22:40:48.000001</td>\n",
       "      <td>0 days 03:21:20</td>\n",
       "      <td>2020-01-07</td>\n",
       "      <td>GCL</td>\n",
       "      <td>ACIS-I</td>\n",
       "      <td>NONE</td>\n",
       "      <td>TE_006E6</td>\n",
       "    </tr>\n",
       "    <tr>\n",
       "      <th>14098</th>\n",
       "      <td>328.75625</td>\n",
       "      <td>-9.37353</td>\n",
       "      <td>2958</td>\n",
       "      <td>True</td>\n",
       "      <td>True</td>\n",
       "      <td>2001-12-17 22:59:37.999999</td>\n",
       "      <td>2001-12-18 01:45:37.999999</td>\n",
       "      <td>0 days 02:46:00</td>\n",
       "      <td>2002-12-21</td>\n",
       "      <td>AGN</td>\n",
       "      <td>ACIS-S</td>\n",
       "      <td>NONE</td>\n",
       "      <td>TE_002A2</td>\n",
       "    </tr>\n",
       "    <tr>\n",
       "      <th>14568</th>\n",
       "      <td>328.75625</td>\n",
       "      <td>-9.37353</td>\n",
       "      <td>2957</td>\n",
       "      <td>True</td>\n",
       "      <td>True</td>\n",
       "      <td>2001-12-05 08:43:41.000002</td>\n",
       "      <td>2001-12-05 11:22:01.000002</td>\n",
       "      <td>0 days 02:38:20</td>\n",
       "      <td>2002-12-18</td>\n",
       "      <td>AGN</td>\n",
       "      <td>ACIS-S</td>\n",
       "      <td>NONE</td>\n",
       "      <td>TE_002A2</td>\n",
       "    </tr>\n",
       "    <tr>\n",
       "      <th>18016</th>\n",
       "      <td>230.48917</td>\n",
       "      <td>28.98831</td>\n",
       "      <td>4791</td>\n",
       "      <td>True</td>\n",
       "      <td>True</td>\n",
       "      <td>2004-04-12 03:22:08.000002</td>\n",
       "      <td>2004-04-12 04:39:28.000002</td>\n",
       "      <td>0 days 01:17:20</td>\n",
       "      <td>2005-04-20</td>\n",
       "      <td>AGN</td>\n",
       "      <td>ACIS-S</td>\n",
       "      <td>NONE</td>\n",
       "      <td>TE_003C2</td>\n",
       "    </tr>\n",
       "    <tr>\n",
       "      <th>19969</th>\n",
       "      <td>328.75625</td>\n",
       "      <td>-9.37342</td>\n",
       "      <td>15357</td>\n",
       "      <td>True</td>\n",
       "      <td>True</td>\n",
       "      <td>2012-11-24 20:01:44.999999</td>\n",
       "      <td>2012-11-24 20:36:34.999999</td>\n",
       "      <td>0 days 00:34:50</td>\n",
       "      <td>2013-11-26</td>\n",
       "      <td>AGN</td>\n",
       "      <td>ACIS-S</td>\n",
       "      <td>NONE</td>\n",
       "      <td>TE_00B4A</td>\n",
       "    </tr>\n",
       "  </tbody>\n",
       "</table>\n",
       "</div>"
      ],
      "text/plain": [
       "              ra       dec  ObsID  science_usable  proprietary_usable  \\\n",
       "8973   129.49708  44.24889  15378            True                True   \n",
       "9507   130.03917  44.36500  21564            True                True   \n",
       "12236  130.03917  44.36500  22035            True                True   \n",
       "14098  328.75625  -9.37353   2958            True                True   \n",
       "14568  328.75625  -9.37353   2957            True                True   \n",
       "18016  230.48917  28.98831   4791            True                True   \n",
       "19969  328.75625  -9.37342  15357            True                True   \n",
       "\n",
       "                           start                        end        duration  \\\n",
       "8973  2013-01-04 02:14:34.000002 2013-01-04 07:49:14.000002 0 days 05:34:40   \n",
       "9507  2019-01-04 18:55:19.999998 2019-01-05 00:24:59.999998 0 days 05:29:40   \n",
       "12236 2019-01-06 19:19:28.000001 2019-01-06 22:40:48.000001 0 days 03:21:20   \n",
       "14098 2001-12-17 22:59:37.999999 2001-12-18 01:45:37.999999 0 days 02:46:00   \n",
       "14568 2001-12-05 08:43:41.000002 2001-12-05 11:22:01.000002 0 days 02:38:20   \n",
       "18016 2004-04-12 03:22:08.000002 2004-04-12 04:39:28.000002 0 days 01:17:20   \n",
       "19969 2012-11-24 20:01:44.999999 2012-11-24 20:36:34.999999 0 days 00:34:50   \n",
       "\n",
       "      proprietary_end_date target_category instrument grating data_mode  \n",
       "8973            2014-01-04             GCL     ACIS-I    NONE  TE_00458  \n",
       "9507            2020-01-07             GCL     ACIS-I    NONE  TE_006E6  \n",
       "12236           2020-01-07             GCL     ACIS-I    NONE  TE_006E6  \n",
       "14098           2002-12-21             AGN     ACIS-S    NONE  TE_002A2  \n",
       "14568           2002-12-18             AGN     ACIS-S    NONE  TE_002A2  \n",
       "18016           2005-04-20             AGN     ACIS-S    NONE  TE_003C2  \n",
       "19969           2013-11-26             AGN     ACIS-S    NONE  TE_00B4A  "
      ]
     },
     "execution_count": 5,
     "metadata": {},
     "output_type": "execute_result"
    }
   ],
   "source": [
    "chandra = Chandra()\n",
    "chandra.filter_on_positions(samp[['est_ra', 'est_dec']].values)\n",
    "chandra.filtered_obs_info"
   ]
  },
  {
   "cell_type": "markdown",
   "id": "6516dd25",
   "metadata": {},
   "source": [
    "We then download the Chandra data in their standard format, which will have pre-generated images that can be examined for emission from the groups we are interested in:"
   ]
  },
  {
   "cell_type": "code",
   "execution_count": 6,
   "id": "98d68c90",
   "metadata": {},
   "outputs": [
    {
     "name": "stderr",
     "output_type": "stream",
     "text": [
      "Downloading Chandra data: 100%|██████████| 7/7 [00:11<00:00,  1.66s/it]\n"
     ]
    }
   ],
   "source": [
    "chandra.download(download_standard=True)"
   ]
  },
  {
   "cell_type": "markdown",
   "id": "129dbe1a",
   "metadata": {},
   "source": [
    "### NuSTAR Pointed"
   ]
  },
  {
   "cell_type": "markdown",
   "id": "e8f482f8",
   "metadata": {},
   "source": [
    "We search the NuSTAR archive, though the small field-of-view of NuSTAR means that we do not find any serindipitious data (a try-except is used so that it doesn't halt the notebook):"
   ]
  },
  {
   "cell_type": "code",
   "execution_count": 7,
   "id": "4e471c8c",
   "metadata": {},
   "outputs": [
    {
     "name": "stderr",
     "output_type": "stream",
     "text": [
      "/mnt/home/turne540/software/anaconda3/envs/test_daxa_dev/lib/python3.8/site-packages/IPython/core/interactiveshell.py:3460: UserWarning: No NuSTAR data for our groups are found!\n",
      "  exec(code_obj, self.user_global_ns, self.user_ns)\n"
     ]
    }
   ],
   "source": [
    "nustar = NuSTARPointed()\n",
    "try:\n",
    "    nustar.filter_on_positions(samp[['est_ra', 'est_dec']].values)\n",
    "    nustar.filtered_obs_info\n",
    "except NoObsAfterFilterError:\n",
    "    warn(\"No NuSTAR data for our groups are found!\", stacklevel=2)"
   ]
  },
  {
   "cell_type": "markdown",
   "id": "78373ee7",
   "metadata": {},
   "source": [
    "## ROSAT Data"
   ]
  },
  {
   "cell_type": "markdown",
   "id": "594209b0",
   "metadata": {},
   "source": [
    "We can also search the ROSAT archive, both the all-sky and the pointed observations, using DAXA missions. We do not necessarily expect to be able to see our groups in these data, but we might as well look."
   ]
  },
  {
   "cell_type": "markdown",
   "id": "0cef11b8",
   "metadata": {},
   "source": [
    "### ROSAT All Sky Survey"
   ]
  },
  {
   "cell_type": "markdown",
   "id": "082e5958",
   "metadata": {},
   "source": [
    "These 'observations' are 6x6 degree chunks of the sky from the all sky survey, with low exposure times and poor spatial resolution when compared to some of the pointed observations made by ROSAT; each of our groups should be in RASS (it is an all-sky survey after all):"
   ]
  },
  {
   "cell_type": "code",
   "execution_count": 8,
   "id": "c3400b8b",
   "metadata": {},
   "outputs": [
    {
     "data": {
      "text/html": [
       "<div>\n",
       "<style scoped>\n",
       "    .dataframe tbody tr th:only-of-type {\n",
       "        vertical-align: middle;\n",
       "    }\n",
       "\n",
       "    .dataframe tbody tr th {\n",
       "        vertical-align: top;\n",
       "    }\n",
       "\n",
       "    .dataframe thead th {\n",
       "        text-align: right;\n",
       "    }\n",
       "</style>\n",
       "<table border=\"1\" class=\"dataframe\">\n",
       "  <thead>\n",
       "    <tr style=\"text-align: right;\">\n",
       "      <th></th>\n",
       "      <th>ra</th>\n",
       "      <th>dec</th>\n",
       "      <th>ObsID</th>\n",
       "      <th>science_usable</th>\n",
       "      <th>start</th>\n",
       "      <th>end</th>\n",
       "      <th>duration</th>\n",
       "      <th>target_category</th>\n",
       "    </tr>\n",
       "  </thead>\n",
       "  <tbody>\n",
       "    <tr>\n",
       "      <th>241</th>\n",
       "      <td>245.17096</td>\n",
       "      <td>28.125</td>\n",
       "      <td>RS931240N00</td>\n",
       "      <td>True</td>\n",
       "      <td>1990-07-30</td>\n",
       "      <td>1991-08-13</td>\n",
       "      <td>0 days 00:12:16</td>\n",
       "      <td>ASK</td>\n",
       "    </tr>\n",
       "    <tr>\n",
       "      <th>369</th>\n",
       "      <td>226.55017</td>\n",
       "      <td>28.125</td>\n",
       "      <td>RS931237N00</td>\n",
       "      <td>True</td>\n",
       "      <td>1990-12-30</td>\n",
       "      <td>1991-08-13</td>\n",
       "      <td>0 days 00:10:27</td>\n",
       "      <td>ASK</td>\n",
       "    </tr>\n",
       "    <tr>\n",
       "      <th>437</th>\n",
       "      <td>154.88338</td>\n",
       "      <td>50.625</td>\n",
       "      <td>RS930819N00</td>\n",
       "      <td>True</td>\n",
       "      <td>1990-10-17</td>\n",
       "      <td>1990-11-11</td>\n",
       "      <td>0 days 00:09:54</td>\n",
       "      <td>ASK</td>\n",
       "    </tr>\n",
       "    <tr>\n",
       "      <th>471</th>\n",
       "      <td>146.50867</td>\n",
       "      <td>50.625</td>\n",
       "      <td>RS930818N00</td>\n",
       "      <td>True</td>\n",
       "      <td>1990-10-10</td>\n",
       "      <td>1990-11-06</td>\n",
       "      <td>0 days 00:09:35</td>\n",
       "      <td>ASK</td>\n",
       "    </tr>\n",
       "    <tr>\n",
       "      <th>629</th>\n",
       "      <td>131.25000</td>\n",
       "      <td>45.000</td>\n",
       "      <td>RS930918N00</td>\n",
       "      <td>True</td>\n",
       "      <td>1990-10-03</td>\n",
       "      <td>1990-10-27</td>\n",
       "      <td>0 days 00:08:23</td>\n",
       "      <td>ASK</td>\n",
       "    </tr>\n",
       "    <tr>\n",
       "      <th>753</th>\n",
       "      <td>158.27508</td>\n",
       "      <td>28.125</td>\n",
       "      <td>RS931226N00</td>\n",
       "      <td>True</td>\n",
       "      <td>1990-11-02</td>\n",
       "      <td>1990-11-23</td>\n",
       "      <td>0 days 00:07:51</td>\n",
       "      <td>ASK</td>\n",
       "    </tr>\n",
       "    <tr>\n",
       "      <th>1053</th>\n",
       "      <td>232.75833</td>\n",
       "      <td>28.125</td>\n",
       "      <td>RS931238N00</td>\n",
       "      <td>True</td>\n",
       "      <td>1990-07-30</td>\n",
       "      <td>1991-08-13</td>\n",
       "      <td>0 days 00:06:55</td>\n",
       "      <td>ASK</td>\n",
       "    </tr>\n",
       "    <tr>\n",
       "      <th>1195</th>\n",
       "      <td>329.06250</td>\n",
       "      <td>-11.250</td>\n",
       "      <td>RS931959N00</td>\n",
       "      <td>True</td>\n",
       "      <td>1990-10-31</td>\n",
       "      <td>1990-11-19</td>\n",
       "      <td>0 days 00:06:09</td>\n",
       "      <td>ASK</td>\n",
       "    </tr>\n",
       "  </tbody>\n",
       "</table>\n",
       "</div>"
      ],
      "text/plain": [
       "             ra     dec        ObsID  science_usable      start        end  \\\n",
       "241   245.17096  28.125  RS931240N00            True 1990-07-30 1991-08-13   \n",
       "369   226.55017  28.125  RS931237N00            True 1990-12-30 1991-08-13   \n",
       "437   154.88338  50.625  RS930819N00            True 1990-10-17 1990-11-11   \n",
       "471   146.50867  50.625  RS930818N00            True 1990-10-10 1990-11-06   \n",
       "629   131.25000  45.000  RS930918N00            True 1990-10-03 1990-10-27   \n",
       "753   158.27508  28.125  RS931226N00            True 1990-11-02 1990-11-23   \n",
       "1053  232.75833  28.125  RS931238N00            True 1990-07-30 1991-08-13   \n",
       "1195  329.06250 -11.250  RS931959N00            True 1990-10-31 1990-11-19   \n",
       "\n",
       "            duration target_category  \n",
       "241  0 days 00:12:16             ASK  \n",
       "369  0 days 00:10:27             ASK  \n",
       "437  0 days 00:09:54             ASK  \n",
       "471  0 days 00:09:35             ASK  \n",
       "629  0 days 00:08:23             ASK  \n",
       "753  0 days 00:07:51             ASK  \n",
       "1053 0 days 00:06:55             ASK  \n",
       "1195 0 days 00:06:09             ASK  "
      ]
     },
     "execution_count": 8,
     "metadata": {},
     "output_type": "execute_result"
    }
   ],
   "source": [
    "rs = ROSATAllSky()\n",
    "rs.filter_on_positions(samp[['est_ra', 'est_dec']].values)\n",
    "rs.filtered_obs_info"
   ]
  },
  {
   "cell_type": "markdown",
   "id": "a683651d",
   "metadata": {},
   "source": [
    "We download the relevant RASS data with `download_products=True`, which will acquire images and exposure maps as well as event lists:"
   ]
  },
  {
   "cell_type": "code",
   "execution_count": 9,
   "id": "37d60b81",
   "metadata": {},
   "outputs": [
    {
     "name": "stderr",
     "output_type": "stream",
     "text": [
      "Downloading RASS data: 100%|██████████| 8/8 [00:08<00:00,  1.02s/it]\n"
     ]
    }
   ],
   "source": [
    "rs.download(download_products=True)"
   ]
  },
  {
   "cell_type": "markdown",
   "id": "2c8d59c3",
   "metadata": {},
   "source": [
    "### ROSAT Pointed"
   ]
  },
  {
   "cell_type": "markdown",
   "id": "8da51ac9",
   "metadata": {},
   "source": [
    "The pointed phase could provide data from either the PSPC instrument (this type of instrument was used for the all-sky survey, and has a very large field of view), or the HRI (much higher spatial resolution, but essentially non-existent energy resolution). \n",
    "\n",
    "The search method uses appropriate field-of-view values for the different instruments to search for data:"
   ]
  },
  {
   "cell_type": "code",
   "execution_count": 10,
   "id": "371aba20",
   "metadata": {},
   "outputs": [
    {
     "data": {
      "text/html": [
       "<div>\n",
       "<style scoped>\n",
       "    .dataframe tbody tr th:only-of-type {\n",
       "        vertical-align: middle;\n",
       "    }\n",
       "\n",
       "    .dataframe tbody tr th {\n",
       "        vertical-align: top;\n",
       "    }\n",
       "\n",
       "    .dataframe thead th {\n",
       "        text-align: right;\n",
       "    }\n",
       "</style>\n",
       "<table border=\"1\" class=\"dataframe\">\n",
       "  <thead>\n",
       "    <tr style=\"text-align: right;\">\n",
       "      <th></th>\n",
       "      <th>ra</th>\n",
       "      <th>dec</th>\n",
       "      <th>ObsID</th>\n",
       "      <th>science_usable</th>\n",
       "      <th>start</th>\n",
       "      <th>end</th>\n",
       "      <th>duration</th>\n",
       "      <th>instrument</th>\n",
       "      <th>with_filter</th>\n",
       "      <th>target_category</th>\n",
       "      <th>target_name</th>\n",
       "      <th>proc_rev</th>\n",
       "      <th>fits_type</th>\n",
       "    </tr>\n",
       "  </thead>\n",
       "  <tbody>\n",
       "    <tr>\n",
       "      <th>1402</th>\n",
       "      <td>157.75</td>\n",
       "      <td>31.05</td>\n",
       "      <td>RH800762N00</td>\n",
       "      <td>True</td>\n",
       "      <td>1996-05-11 12:00:40.999997</td>\n",
       "      <td>1996-05-27 17:24:16.000001</td>\n",
       "      <td>0 days 05:12:54</td>\n",
       "      <td>HRI</td>\n",
       "      <td>N</td>\n",
       "      <td>GCL</td>\n",
       "      <td>B2 1028+313</td>\n",
       "      <td>2</td>\n",
       "      <td>RDF 3_4</td>\n",
       "    </tr>\n",
       "    <tr>\n",
       "      <th>2657</th>\n",
       "      <td>150.06</td>\n",
       "      <td>50.62</td>\n",
       "      <td>RH701869N00</td>\n",
       "      <td>True</td>\n",
       "      <td>1995-05-17 23:58:44.999996</td>\n",
       "      <td>1995-05-19 00:43:29.999997</td>\n",
       "      <td>0 days 02:50:32</td>\n",
       "      <td>HRI</td>\n",
       "      <td>N</td>\n",
       "      <td>AGN</td>\n",
       "      <td>RX J10002+5036</td>\n",
       "      <td>2</td>\n",
       "      <td>RDF 3_4</td>\n",
       "    </tr>\n",
       "    <tr>\n",
       "      <th>2771</th>\n",
       "      <td>158.75</td>\n",
       "      <td>30.68</td>\n",
       "      <td>RP800350N00</td>\n",
       "      <td>True</td>\n",
       "      <td>1993-05-28 12:25:17.999996</td>\n",
       "      <td>1993-06-02 22:01:13.999996</td>\n",
       "      <td>0 days 02:43:51</td>\n",
       "      <td>PSPCB</td>\n",
       "      <td>N</td>\n",
       "      <td>GCL</td>\n",
       "      <td>A1045</td>\n",
       "      <td>2</td>\n",
       "      <td>RDF 3_4</td>\n",
       "    </tr>\n",
       "    <tr>\n",
       "      <th>3671</th>\n",
       "      <td>157.75</td>\n",
       "      <td>31.05</td>\n",
       "      <td>RF700433N00</td>\n",
       "      <td>True</td>\n",
       "      <td>1992-05-02 14:17:05.999997</td>\n",
       "      <td>1992-05-02 19:33:46.999999</td>\n",
       "      <td>0 days 01:54:48</td>\n",
       "      <td>PSPCB</td>\n",
       "      <td>Y</td>\n",
       "      <td>AGN</td>\n",
       "      <td>B2 1028+313</td>\n",
       "      <td>2</td>\n",
       "      <td>RDF 3_4</td>\n",
       "    </tr>\n",
       "    <tr>\n",
       "      <th>6954</th>\n",
       "      <td>157.75</td>\n",
       "      <td>31.05</td>\n",
       "      <td>RP700433N00</td>\n",
       "      <td>True</td>\n",
       "      <td>1992-05-01 19:08:26.999998</td>\n",
       "      <td>1992-05-02 19:01:36.000002</td>\n",
       "      <td>0 days 00:40:42</td>\n",
       "      <td>PSPCB</td>\n",
       "      <td>N</td>\n",
       "      <td>AGN</td>\n",
       "      <td>B2 1028+313</td>\n",
       "      <td>2</td>\n",
       "      <td>RDF 3_4</td>\n",
       "    </tr>\n",
       "  </tbody>\n",
       "</table>\n",
       "</div>"
      ],
      "text/plain": [
       "          ra    dec        ObsID  science_usable                      start  \\\n",
       "1402  157.75  31.05  RH800762N00            True 1996-05-11 12:00:40.999997   \n",
       "2657  150.06  50.62  RH701869N00            True 1995-05-17 23:58:44.999996   \n",
       "2771  158.75  30.68  RP800350N00            True 1993-05-28 12:25:17.999996   \n",
       "3671  157.75  31.05  RF700433N00            True 1992-05-02 14:17:05.999997   \n",
       "6954  157.75  31.05  RP700433N00            True 1992-05-01 19:08:26.999998   \n",
       "\n",
       "                            end        duration instrument with_filter  \\\n",
       "1402 1996-05-27 17:24:16.000001 0 days 05:12:54        HRI           N   \n",
       "2657 1995-05-19 00:43:29.999997 0 days 02:50:32        HRI           N   \n",
       "2771 1993-06-02 22:01:13.999996 0 days 02:43:51      PSPCB           N   \n",
       "3671 1992-05-02 19:33:46.999999 0 days 01:54:48      PSPCB           Y   \n",
       "6954 1992-05-02 19:01:36.000002 0 days 00:40:42      PSPCB           N   \n",
       "\n",
       "     target_category     target_name  proc_rev fits_type  \n",
       "1402             GCL     B2 1028+313         2   RDF 3_4  \n",
       "2657             AGN  RX J10002+5036         2   RDF 3_4  \n",
       "2771             GCL           A1045         2   RDF 3_4  \n",
       "3671             AGN     B2 1028+313         2   RDF 3_4  \n",
       "6954             AGN     B2 1028+313         2   RDF 3_4  "
      ]
     },
     "execution_count": 10,
     "metadata": {},
     "output_type": "execute_result"
    }
   ],
   "source": [
    "rp = ROSATPointed()\n",
    "rp.filter_on_positions(samp[['est_ra', 'est_dec']].values)\n",
    "rp.filtered_obs_info"
   ]
  },
  {
   "cell_type": "markdown",
   "id": "b63ad594",
   "metadata": {},
   "source": [
    "Again we download with `download_products=True`, though HRI observations do not have exposure maps in the archive to be downloaded, we are not sure why:"
   ]
  },
  {
   "cell_type": "code",
   "execution_count": 11,
   "id": "6310b601",
   "metadata": {},
   "outputs": [
    {
     "name": "stderr",
     "output_type": "stream",
     "text": [
      "Downloading ROSAT Pointed data: 100%|██████████| 5/5 [00:04<00:00,  1.23it/s]\n"
     ]
    }
   ],
   "source": [
    "rp.download(download_products=True)"
   ]
  },
  {
   "cell_type": "markdown",
   "id": "20d4a5c1",
   "metadata": {},
   "source": [
    "## Creating an Archive"
   ]
  },
  {
   "cell_type": "markdown",
   "id": "5293b8b7",
   "metadata": {},
   "source": [
    "We'll set up a DAXA archive - which is be most useful when processing multi-mission data, but here will just contain XMM data, as we can't yet process any of the other telescopes with DAXA. The archive will be named, and the processed raw data will be stored in it, as well as logs of the processing steps.\n",
    "\n",
    "It also automatically downloads the XMM data, if we haven't already triggered that from the mission class instance:"
   ]
  },
  {
   "cell_type": "code",
   "execution_count": 12,
   "id": "1c03bfe2",
   "metadata": {},
   "outputs": [
    {
     "name": "stderr",
     "output_type": "stream",
     "text": [
      "/mnt/ufs18/home-218/turne540/code/DAXA/daxa/archive/base.py:101: UserWarning: The number of cores assigned to XMMPointed downloads has been capped at 10, this will minimise dropped connections.\n",
      "  mission.download()\n",
      "Downloading XMM-Newton Pointed data: 100%|██████████| 11/11 [00:31<00:00,  2.90s/it]"
     ]
    },
    {
     "name": "stdout",
     "output_type": "stream",
     "text": [
      "\n",
      "-----------------------------------------------------\n",
      "Number of missions - 1\n",
      "Total number of observations - 11\n",
      "Beginning of earliest observation - 2000-12-06 20:46:26\n",
      "End of latest observation - 2022-09-12 10:34:47\n",
      "\n",
      "-- XMM-Newton Pointed --\n",
      "   Internal DAXA name - xmm_pointed\n",
      "   Chosen instruments - M1, M2, PN\n",
      "   Number of observations - 11\n",
      "   Fully Processed - False\n",
      "-----------------------------------------------------\n",
      "\n"
     ]
    },
    {
     "name": "stderr",
     "output_type": "stream",
     "text": [
      "\n"
     ]
    }
   ],
   "source": [
    "ovi_group_arch = Archive(xmm, 'OVIGroups', clobber=True)\n",
    "ovi_group_arch.info()"
   ]
  },
  {
   "cell_type": "markdown",
   "id": "864620bc",
   "metadata": {},
   "source": [
    "## Processing XMM data"
   ]
  },
  {
   "cell_type": "markdown",
   "id": "8e2b0bd3",
   "metadata": {},
   "source": [
    "The different processing steps that need to be applied to XMM can be controlled separately, with an array of user-configurable options; but a full processing stack to go from raw data to cleaned event lists, images, and exposure maps is available. It uses default settings and should produce very useful data:"
   ]
  },
  {
   "cell_type": "code",
   "execution_count": 13,
   "id": "bc775b16",
   "metadata": {},
   "outputs": [
    {
     "name": "stderr",
     "output_type": "stream",
     "text": [
      "XMM-Newton Pointed - Generating calibration files: 100%|██████████| 11/11 [01:31<00:00,  8.35s/it]\n",
      "XMM-Newton Pointed - Generating ODF summary files: 100%|██████████| 11/11 [00:15<00:00,  1.42s/it]\n",
      "XMM-Newton Pointed - Assembling PN and PN-OOT event lists: 100%|██████████| 8/8 [16:16<00:00, 122.10s/it]\n",
      "XMM-Newton Pointed - Assembling MOS event lists: 100%|██████████| 20/20 [02:03<00:00,  6.17s/it]\n",
      "XMM-Newton Pointed - Finding PN/MOS soft-proton flares: 100%|██████████| 28/28 [00:44<00:00,  1.58s/it]\n",
      "XMM-Newton Pointed - Generating cleaned PN/MOS event lists: 100%|██████████| 28/28 [00:12<00:00,  2.27it/s]\n",
      "XMM-Newton Pointed - Generating final PN/MOS event lists: 100%|██████████| 24/24 [00:00<00:00, 40.70it/s]\n",
      "Generating products of type(s) ccf: 100%|██████████| 8/8 [00:55<00:00,  6.90s/it]\n",
      "Generating products of type(s) image: 100%|██████████| 24/24 [00:01<00:00, 13.89it/s]\n",
      "Generating products of type(s) expmap: 100%|██████████| 24/24 [04:14<00:00, 10.61s/it]\n",
      "Generating products of type(s) image: 100%|██████████| 24/24 [00:01<00:00, 15.95it/s]\n",
      "Generating products of type(s) expmap: 100%|██████████| 24/24 [04:14<00:00, 10.60s/it]\n"
     ]
    }
   ],
   "source": [
    "full_process_xmm(ovi_group_arch)"
   ]
  },
  {
   "cell_type": "markdown",
   "id": "bfa2a2b5",
   "metadata": {},
   "source": [
    "## Checking the data"
   ]
  },
  {
   "cell_type": "markdown",
   "id": "896475de",
   "metadata": {},
   "source": [
    "Here we use the logging facilities of DAXA archives to investigate whether all the data were processed fully and, if they weren't, which observations failed and at which steps. That way we can decide whether there is something extra that can be done for those observations, or there are no further steps to take."
   ]
  },
  {
   "cell_type": "markdown",
   "id": "92e01ae8",
   "metadata": {},
   "source": [
    "### Overall processing success"
   ]
  },
  {
   "cell_type": "markdown",
   "id": "2decb8b0",
   "metadata": {},
   "source": [
    "The first step is to check the 'overall' success, which will only report as False if all data for an entire observation (i.e. PN, MOS1, and MOS2) have been marked as failing processing. We can see that the processing of two observations has failed outright:"
   ]
  },
  {
   "cell_type": "code",
   "execution_count": 14,
   "id": "cccacb76",
   "metadata": {},
   "outputs": [
    {
     "data": {
      "text/plain": [
       "{'xmm_pointed': {'0102040301': True,\n",
       "  '0102041001': False,\n",
       "  '0204310101': True,\n",
       "  '0761910201': True,\n",
       "  '0820240301': True,\n",
       "  '0861080201': True,\n",
       "  '0861080501': False,\n",
       "  '0861080101': True,\n",
       "  '0861080601': False,\n",
       "  '0900700201': True,\n",
       "  '0900700101': True}}"
      ]
     },
     "execution_count": 14,
     "metadata": {},
     "output_type": "execute_result"
    }
   ],
   "source": [
    "ovi_group_arch.final_process_success"
   ]
  },
  {
   "cell_type": "markdown",
   "id": "19fa47c2",
   "metadata": {},
   "source": [
    "### 0102041001 - Outright failure"
   ]
  },
  {
   "cell_type": "markdown",
   "id": "8fac8470",
   "metadata": {},
   "source": [
    "We can examine the 'observation summary' for 0102041001, which is parsed from the SAS summary file generated by ODF ingest. While the instruments all took science observations, we can see that each of the three telescopes had their filter wheels in 'CalClosed' position:"
   ]
  },
  {
   "cell_type": "code",
   "execution_count": 20,
   "id": "9454195a",
   "metadata": {},
   "outputs": [
    {
     "data": {
      "text/plain": [
       "{'M1': {'active': True,\n",
       "  'num_exp': 1,\n",
       "  'exposures': {'S004': {'scheduled': True,\n",
       "    'type': 'SCIENCE',\n",
       "    'mode': 'PrimePartialW3',\n",
       "    'filter': 'CalClosed',\n",
       "    'ccd_modes': {1: 'Imaging',\n",
       "     2: 'Imaging',\n",
       "     3: 'Imaging',\n",
       "     4: 'Imaging',\n",
       "     5: 'Imaging',\n",
       "     6: 'Imaging',\n",
       "     7: 'Imaging'}}}},\n",
       " 'M2': {'active': True,\n",
       "  'num_exp': 1,\n",
       "  'exposures': {'S006': {'scheduled': True,\n",
       "    'type': 'SCIENCE',\n",
       "    'mode': 'PrimePartialW3',\n",
       "    'filter': 'CalClosed',\n",
       "    'ccd_modes': {1: 'Imaging',\n",
       "     2: 'Imaging',\n",
       "     3: 'Imaging',\n",
       "     4: 'Imaging',\n",
       "     5: 'Imaging',\n",
       "     6: 'Imaging',\n",
       "     7: 'Imaging'}}}},\n",
       " 'PN': {'active': True,\n",
       "  'num_exp': 1,\n",
       "  'exposures': {'S003': {'scheduled': True,\n",
       "    'type': 'SCIENCE',\n",
       "    'mode': 'PrimeSmallWindow',\n",
       "    'filter': 'CalClosed',\n",
       "    'ccd_modes': {4: 'Imaging'}}}}}"
      ]
     },
     "execution_count": 20,
     "metadata": {},
     "output_type": "execute_result"
    }
   ],
   "source": [
    "ovi_group_arch.observation_summaries['xmm_pointed']['0102041001']"
   ]
  },
  {
   "cell_type": "markdown",
   "id": "aab88be1",
   "metadata": {},
   "source": [
    "### 0861080601 - Outright failure"
   ]
  },
  {
   "cell_type": "markdown",
   "id": "d842ebe6",
   "metadata": {},
   "source": [
    "We can examine the 'observation summary' for 0861080601, which is parsed from the SAS summary file generated by ODF ingest. While the instruments all took science observations, we can see that each of the three telescopes had their filter wheels in 'CalClosed' position. Given the similar ObsID of the other outright failure, it seems likely that it will be for the same reason:"
   ]
  },
  {
   "cell_type": "code",
   "execution_count": 15,
   "id": "ac006e76",
   "metadata": {
    "scrolled": false
   },
   "outputs": [
    {
     "data": {
      "text/plain": [
       "{'M1': {'active': True,\n",
       "  'num_exp': 1,\n",
       "  'exposures': {'S001': {'scheduled': True,\n",
       "    'type': 'SCIENCE',\n",
       "    'mode': 'PrimeFullWindow',\n",
       "    'filter': 'CalClosed',\n",
       "    'ccd_modes': {1: 'Imaging',\n",
       "     2: 'Imaging',\n",
       "     4: 'Imaging',\n",
       "     5: 'Imaging',\n",
       "     7: 'Imaging'}}}},\n",
       " 'M2': {'active': True,\n",
       "  'num_exp': 1,\n",
       "  'exposures': {'S002': {'scheduled': True,\n",
       "    'type': 'SCIENCE',\n",
       "    'mode': 'PrimeFullWindow',\n",
       "    'filter': 'CalClosed',\n",
       "    'ccd_modes': {1: 'Imaging',\n",
       "     2: 'Imaging',\n",
       "     3: 'Imaging',\n",
       "     4: 'Imaging',\n",
       "     5: 'Imaging',\n",
       "     6: 'Imaging',\n",
       "     7: 'Imaging'}}}},\n",
       " 'PN': {'active': True,\n",
       "  'num_exp': 14,\n",
       "  'exposures': {'S003': {'scheduled': True,\n",
       "    'type': 'SCIENCE',\n",
       "    'mode': 'PrimeFullWindow',\n",
       "    'filter': 'CalClosed',\n",
       "    'ccd_modes': {1: 'Imaging',\n",
       "     2: 'Imaging',\n",
       "     3: 'Imaging',\n",
       "     4: 'Imaging',\n",
       "     5: 'Imaging',\n",
       "     6: 'Imaging',\n",
       "     7: 'Imaging',\n",
       "     8: 'Imaging',\n",
       "     9: 'Imaging',\n",
       "     10: 'Imaging',\n",
       "     11: 'Imaging',\n",
       "     12: 'Imaging'}},\n",
       "   'U002': {'scheduled': False,\n",
       "    'type': 'SCIENCE',\n",
       "    'mode': 'Diagnostic',\n",
       "    'filter': None,\n",
       "    'ccd_modes': {1: 'DiscardedLinesData'}},\n",
       "   'U003': {'scheduled': False,\n",
       "    'type': 'SCIENCE',\n",
       "    'mode': 'Diagnostic',\n",
       "    'filter': None,\n",
       "    'ccd_modes': {2: 'DiscardedLinesData'}},\n",
       "   'U004': {'scheduled': False,\n",
       "    'type': 'SCIENCE',\n",
       "    'mode': 'Diagnostic',\n",
       "    'filter': None,\n",
       "    'ccd_modes': {3: 'DiscardedLinesData'}},\n",
       "   'U005': {'scheduled': False,\n",
       "    'type': 'SCIENCE',\n",
       "    'mode': 'Diagnostic',\n",
       "    'filter': None,\n",
       "    'ccd_modes': {4: 'DiscardedLinesData'}},\n",
       "   'U006': {'scheduled': False,\n",
       "    'type': 'SCIENCE',\n",
       "    'mode': 'Diagnostic',\n",
       "    'filter': None,\n",
       "    'ccd_modes': {5: 'DiscardedLinesData'}},\n",
       "   'U007': {'scheduled': False,\n",
       "    'type': 'SCIENCE',\n",
       "    'mode': 'Diagnostic',\n",
       "    'filter': None,\n",
       "    'ccd_modes': {6: 'DiscardedLinesData'}},\n",
       "   'U008': {'scheduled': False,\n",
       "    'type': 'SCIENCE',\n",
       "    'mode': 'Diagnostic',\n",
       "    'filter': None,\n",
       "    'ccd_modes': {7: 'DiscardedLinesData'}},\n",
       "   'U009': {'scheduled': False,\n",
       "    'type': 'SCIENCE',\n",
       "    'mode': 'Diagnostic',\n",
       "    'filter': None,\n",
       "    'ccd_modes': {8: 'DiscardedLinesData'}},\n",
       "   'U010': {'scheduled': False,\n",
       "    'type': 'SCIENCE',\n",
       "    'mode': 'Diagnostic',\n",
       "    'filter': None,\n",
       "    'ccd_modes': {9: 'DiscardedLinesData'}},\n",
       "   'U011': {'scheduled': False,\n",
       "    'type': 'SCIENCE',\n",
       "    'mode': 'Diagnostic',\n",
       "    'filter': None,\n",
       "    'ccd_modes': {10: 'DiscardedLinesData'}},\n",
       "   'U012': {'scheduled': False,\n",
       "    'type': 'SCIENCE',\n",
       "    'mode': 'Diagnostic',\n",
       "    'filter': None,\n",
       "    'ccd_modes': {11: 'DiscardedLinesData'}},\n",
       "   'U013': {'scheduled': False,\n",
       "    'type': 'SCIENCE',\n",
       "    'mode': 'Diagnostic',\n",
       "    'filter': None,\n",
       "    'ccd_modes': {12: 'DiscardedLinesData'}},\n",
       "   'U700': {'scheduled': False,\n",
       "    'type': 'SCIENCE',\n",
       "    'mode': 'Offset',\n",
       "    'filter': '51.384',\n",
       "    'ccd_modes': {1: 'OffsetData',\n",
       "     2: 'OffsetData',\n",
       "     3: 'OffsetData',\n",
       "     4: 'OffsetData',\n",
       "     5: 'OffsetData',\n",
       "     6: 'OffsetData',\n",
       "     7: 'OffsetData',\n",
       "     8: 'OffsetData',\n",
       "     9: 'OffsetData',\n",
       "     10: 'OffsetData',\n",
       "     11: 'OffsetData',\n",
       "     12: 'OffsetData'}}}}}"
      ]
     },
     "execution_count": 15,
     "metadata": {},
     "output_type": "execute_result"
    }
   ],
   "source": [
    "ovi_group_arch.observation_summaries['xmm_pointed']['0861080601']"
   ]
  },
  {
   "cell_type": "markdown",
   "id": "a954bd87",
   "metadata": {},
   "source": [
    "### 0861080501 - Outright failure"
   ]
  },
  {
   "cell_type": "markdown",
   "id": "5272efe7",
   "metadata": {},
   "source": [
    "This has failed outright for the same reason as 0861080601, all observations were taken with the CalClosed filter:"
   ]
  },
  {
   "cell_type": "code",
   "execution_count": 16,
   "id": "ad2eab14",
   "metadata": {
    "scrolled": false
   },
   "outputs": [
    {
     "data": {
      "text/plain": [
       "{'M1': {'active': True,\n",
       "  'num_exp': 1,\n",
       "  'exposures': {'S001': {'scheduled': True,\n",
       "    'type': 'SCIENCE',\n",
       "    'mode': 'PrimeFullWindow',\n",
       "    'filter': 'CalClosed',\n",
       "    'ccd_modes': {1: 'Imaging',\n",
       "     2: 'Imaging',\n",
       "     4: 'Imaging',\n",
       "     5: 'Imaging',\n",
       "     7: 'Imaging'}}}},\n",
       " 'M2': {'active': True,\n",
       "  'num_exp': 1,\n",
       "  'exposures': {'S002': {'scheduled': True,\n",
       "    'type': 'SCIENCE',\n",
       "    'mode': 'PrimeFullWindow',\n",
       "    'filter': 'CalClosed',\n",
       "    'ccd_modes': {1: 'Imaging',\n",
       "     2: 'Imaging',\n",
       "     3: 'Imaging',\n",
       "     4: 'Imaging',\n",
       "     5: 'Imaging',\n",
       "     6: 'Imaging',\n",
       "     7: 'Imaging'}}}},\n",
       " 'PN': {'active': True,\n",
       "  'num_exp': 14,\n",
       "  'exposures': {'S003': {'scheduled': True,\n",
       "    'type': 'SCIENCE',\n",
       "    'mode': 'PrimeFullWindow',\n",
       "    'filter': 'CalClosed',\n",
       "    'ccd_modes': {1: 'Imaging',\n",
       "     2: 'Imaging',\n",
       "     3: 'Imaging',\n",
       "     4: 'Imaging',\n",
       "     5: 'Imaging',\n",
       "     6: 'Imaging',\n",
       "     7: 'Imaging',\n",
       "     8: 'Imaging',\n",
       "     9: 'Imaging',\n",
       "     10: 'Imaging',\n",
       "     11: 'Imaging',\n",
       "     12: 'Imaging'}},\n",
       "   'U002': {'scheduled': False,\n",
       "    'type': 'SCIENCE',\n",
       "    'mode': 'Diagnostic',\n",
       "    'filter': None,\n",
       "    'ccd_modes': {1: 'DiscardedLinesData'}},\n",
       "   'U003': {'scheduled': False,\n",
       "    'type': 'SCIENCE',\n",
       "    'mode': 'Diagnostic',\n",
       "    'filter': None,\n",
       "    'ccd_modes': {2: 'DiscardedLinesData'}},\n",
       "   'U004': {'scheduled': False,\n",
       "    'type': 'SCIENCE',\n",
       "    'mode': 'Diagnostic',\n",
       "    'filter': None,\n",
       "    'ccd_modes': {3: 'DiscardedLinesData'}},\n",
       "   'U005': {'scheduled': False,\n",
       "    'type': 'SCIENCE',\n",
       "    'mode': 'Diagnostic',\n",
       "    'filter': None,\n",
       "    'ccd_modes': {4: 'DiscardedLinesData'}},\n",
       "   'U006': {'scheduled': False,\n",
       "    'type': 'SCIENCE',\n",
       "    'mode': 'Diagnostic',\n",
       "    'filter': None,\n",
       "    'ccd_modes': {5: 'DiscardedLinesData'}},\n",
       "   'U007': {'scheduled': False,\n",
       "    'type': 'SCIENCE',\n",
       "    'mode': 'Diagnostic',\n",
       "    'filter': None,\n",
       "    'ccd_modes': {6: 'DiscardedLinesData'}},\n",
       "   'U008': {'scheduled': False,\n",
       "    'type': 'SCIENCE',\n",
       "    'mode': 'Diagnostic',\n",
       "    'filter': None,\n",
       "    'ccd_modes': {7: 'DiscardedLinesData'}},\n",
       "   'U009': {'scheduled': False,\n",
       "    'type': 'SCIENCE',\n",
       "    'mode': 'Diagnostic',\n",
       "    'filter': None,\n",
       "    'ccd_modes': {8: 'DiscardedLinesData'}},\n",
       "   'U010': {'scheduled': False,\n",
       "    'type': 'SCIENCE',\n",
       "    'mode': 'Diagnostic',\n",
       "    'filter': None,\n",
       "    'ccd_modes': {9: 'DiscardedLinesData'}},\n",
       "   'U011': {'scheduled': False,\n",
       "    'type': 'SCIENCE',\n",
       "    'mode': 'Diagnostic',\n",
       "    'filter': None,\n",
       "    'ccd_modes': {10: 'DiscardedLinesData'}},\n",
       "   'U012': {'scheduled': False,\n",
       "    'type': 'SCIENCE',\n",
       "    'mode': 'Diagnostic',\n",
       "    'filter': None,\n",
       "    'ccd_modes': {11: 'DiscardedLinesData'}},\n",
       "   'U013': {'scheduled': False,\n",
       "    'type': 'SCIENCE',\n",
       "    'mode': 'Diagnostic',\n",
       "    'filter': None,\n",
       "    'ccd_modes': {12: 'DiscardedLinesData'}},\n",
       "   'U700': {'scheduled': False,\n",
       "    'type': 'SCIENCE',\n",
       "    'mode': 'Offset',\n",
       "    'filter': 'Closed',\n",
       "    'ccd_modes': {1: 'OffsetData',\n",
       "     2: 'OffsetData',\n",
       "     3: 'OffsetData',\n",
       "     4: 'OffsetData',\n",
       "     5: 'OffsetData',\n",
       "     6: 'OffsetData',\n",
       "     7: 'OffsetData',\n",
       "     8: 'OffsetData',\n",
       "     9: 'OffsetData',\n",
       "     10: 'OffsetData',\n",
       "     11: 'OffsetData',\n",
       "     12: 'OffsetData'}}}}}"
      ]
     },
     "execution_count": 16,
     "metadata": {},
     "output_type": "execute_result"
    }
   ],
   "source": [
    "ovi_group_arch.observation_summaries['xmm_pointed']['0861080501']"
   ]
  },
  {
   "cell_type": "markdown",
   "id": "5e9b7481",
   "metadata": {},
   "source": [
    "### Tracing ObsID-Instrument-SubExposure failures at different stages"
   ]
  },
  {
   "cell_type": "markdown",
   "id": "335dff2f",
   "metadata": {},
   "source": [
    "We can also check the success flags for the different processing stages at an individual sub-exposure level, to see whether any of the observations had a partial failure in processing. The only problematic sub-exposure we find is '0801892301PNS003', the scheduled PN observation of 0801892301, which failed the `espfilt` (soft-proton filtering) stage and was not allowed to continue:"
   ]
  },
  {
   "cell_type": "code",
   "execution_count": 17,
   "id": "57b0800a",
   "metadata": {
    "scrolled": false
   },
   "outputs": [
    {
     "data": {
      "text/plain": [
       "{'xmm_pointed': {'cif_build': {'0820240301': True,\n",
       "   '0861080101': True,\n",
       "   '0102041001': True,\n",
       "   '0102040301': True,\n",
       "   '0900700101': True,\n",
       "   '0861080601': True,\n",
       "   '0900700201': True,\n",
       "   '0204310101': True,\n",
       "   '0861080501': True,\n",
       "   '0761910201': True,\n",
       "   '0861080201': True},\n",
       "  'odf_ingest': {'0102041001': True,\n",
       "   '0861080601': True,\n",
       "   '0861080501': True,\n",
       "   '0861080101': True,\n",
       "   '0820240301': True,\n",
       "   '0102040301': True,\n",
       "   '0861080201': True,\n",
       "   '0204310101': True,\n",
       "   '0761910201': True,\n",
       "   '0900700101': True,\n",
       "   '0900700201': True},\n",
       "  'epchain': {'0102040301PNS003': True,\n",
       "   '0820240301PNS003': True,\n",
       "   '0861080101PNS003': True,\n",
       "   '0861080201PNS003': True,\n",
       "   '0900700101PNS003': True,\n",
       "   '0204310101PNS003': True,\n",
       "   '0900700201PNS003': True,\n",
       "   '0761910201PNS003': True},\n",
       "  'emchain': {'0861080201M1S001': True,\n",
       "   '0861080201M2S002': True,\n",
       "   '0900700201M1U003': True,\n",
       "   '0102040301M1S004': True,\n",
       "   '0861080201M1U003': True,\n",
       "   '0900700101M1S001': True,\n",
       "   '0861080101M1S001': True,\n",
       "   '0102040301M2S006': True,\n",
       "   '0820240301M1S001': True,\n",
       "   '0861080101M2S002': True,\n",
       "   '0820240301M2S002': True,\n",
       "   '0204310101M1S001': True,\n",
       "   '0861080201M2U003': True,\n",
       "   '0900700201M1S001': True,\n",
       "   '0900700201M2U003': True,\n",
       "   '0204310101M2S002': True,\n",
       "   '0900700101M2S002': True,\n",
       "   '0761910201M1S001': True,\n",
       "   '0900700201M2S002': True,\n",
       "   '0761910201M2S002': True},\n",
       "  'espfilt': {'0861080201M1S001': True,\n",
       "   '0861080201M1U003': True,\n",
       "   '0900700201M1U003': True,\n",
       "   '0820240301M1S001': True,\n",
       "   '0861080101M1S001': True,\n",
       "   '0861080201M2S002': True,\n",
       "   '0900700101M1S001': True,\n",
       "   '0102040301M1S004': True,\n",
       "   '0820240301M2S002': True,\n",
       "   '0900700201M1S001': True,\n",
       "   '0861080101M2S002': True,\n",
       "   '0861080201M2U003': True,\n",
       "   '0102040301M2S006': True,\n",
       "   '0204310101M1S001': True,\n",
       "   '0761910201M1S001': True,\n",
       "   '0900700201M2U003': True,\n",
       "   '0204310101M2S002': True,\n",
       "   '0900700101M2S002': True,\n",
       "   '0900700201M2S002': True,\n",
       "   '0761910201M2S002': True,\n",
       "   '0820240301PNS003': True,\n",
       "   '0861080201PNS003': True,\n",
       "   '0861080101PNS003': True,\n",
       "   '0900700101PNS003': True,\n",
       "   '0102040301PNS003': True,\n",
       "   '0900700201PNS003': True,\n",
       "   '0204310101PNS003': True,\n",
       "   '0761910201PNS003': True},\n",
       "  'cleaned_evt_lists': {'0861080101M1S001': True,\n",
       "   '0861080201M1U003': True,\n",
       "   '0820240301M1S001': True,\n",
       "   '0900700101M1S001': True,\n",
       "   '0861080201M1S001': True,\n",
       "   '0900700201M1U003': True,\n",
       "   '0102040301M1S004': True,\n",
       "   '0900700201M1S001': True,\n",
       "   '0820240301M2S002': True,\n",
       "   '0861080201M2S002': True,\n",
       "   '0102040301M2S006': True,\n",
       "   '0204310101M1S001': True,\n",
       "   '0761910201M1S001': True,\n",
       "   '0861080101M2S002': True,\n",
       "   '0861080201M2U003': True,\n",
       "   '0900700201M2U003': True,\n",
       "   '0900700201M2S002': True,\n",
       "   '0900700101M2S002': True,\n",
       "   '0204310101M2S002': True,\n",
       "   '0761910201M2S002': True,\n",
       "   '0861080101PNS003': True,\n",
       "   '0820240301PNS003': True,\n",
       "   '0861080201PNS003': True,\n",
       "   '0102040301PNS003': True,\n",
       "   '0900700101PNS003': True,\n",
       "   '0204310101PNS003': True,\n",
       "   '0900700201PNS003': True,\n",
       "   '0761910201PNS003': True},\n",
       "  'merge_subexposures': {'0820240301PN': True,\n",
       "   '0820240301M1': True,\n",
       "   '0820240301M2': True,\n",
       "   '0102040301M1': True,\n",
       "   '0861080101M1': True,\n",
       "   '0102040301M2': True,\n",
       "   '0861080101PN': True,\n",
       "   '0102040301PN': True,\n",
       "   '0861080201PN': True,\n",
       "   '0204310101M2': True,\n",
       "   '0204310101PN': True,\n",
       "   '0761910201M2': True,\n",
       "   '0761910201M1': True,\n",
       "   '0861080101M2': True,\n",
       "   '0761910201PN': True,\n",
       "   '0204310101M1': True,\n",
       "   '0900700101PN': True,\n",
       "   '0900700201PN': True,\n",
       "   '0900700101M2': True,\n",
       "   '0900700101M1': True,\n",
       "   '0900700201M1': True,\n",
       "   '0861080201M1': True,\n",
       "   '0900700201M2': True,\n",
       "   '0861080201M2': True}}}"
      ]
     },
     "execution_count": 17,
     "metadata": {},
     "output_type": "execute_result"
    }
   ],
   "source": [
    "ovi_group_arch.process_success"
   ]
  },
  {
   "cell_type": "markdown",
   "id": "cc93c1a9",
   "metadata": {},
   "source": [
    "## Assigning regions to XMM observations"
   ]
  },
  {
   "cell_type": "markdown",
   "id": "23a34e84",
   "metadata": {},
   "source": [
    "Source regions are a key part of any analysis, but DAXA does not currently have the capability to apply source detection to observations that it processes. As such we shall use source regions generated by the XMM Cluster Survey's (XCS) XAPA source finder. Passing them into the DAXA archive will store them in the DAXA archive directory structure:"
   ]
  },
  {
   "cell_type": "code",
   "execution_count": 18,
   "id": "8a59ffee",
   "metadata": {},
   "outputs": [],
   "source": [
    "reg_path = \"../sample_files/xcs_regions/{o_id}_sky_regions.reg\""
   ]
  },
  {
   "cell_type": "code",
   "execution_count": 19,
   "id": "dbcf28da",
   "metadata": {},
   "outputs": [],
   "source": [
    "av_reg = [f.split('_')[0] for f in os.listdir('../sample_files/xcs_regions/')]\n",
    "reg_dec = {'xmm_pointed': {o: {'regions': reg_path.format(o_id=o)} for o in av_reg}}\n",
    "\n",
    "ovi_group_arch.source_regions = reg_dec"
   ]
  }
 ],
 "metadata": {
  "kernelspec": {
   "display_name": "Python 3 (ipykernel)",
   "language": "python",
   "name": "python3"
  },
  "language_info": {
   "codemirror_mode": {
    "name": "ipython",
    "version": 3
   },
   "file_extension": ".py",
   "mimetype": "text/x-python",
   "name": "python",
   "nbconvert_exporter": "python",
   "pygments_lexer": "ipython3",
   "version": "3.8.16"
  }
 },
 "nbformat": 4,
 "nbformat_minor": 5
}
