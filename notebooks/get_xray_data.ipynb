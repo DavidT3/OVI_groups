{
 "cells": [
  {
   "cell_type": "markdown",
   "id": "fbea65bf",
   "metadata": {},
   "source": [
    "# Finding, downloading, and processing relevant X-ray observations"
   ]
  },
  {
   "cell_type": "markdown",
   "id": "b4829440",
   "metadata": {},
   "source": [
    "We want to examine the X-ray emission of these groups, some of which we know have had targeted XMM observations. The XMM data is what we shall be working with here, but we may also check to see whether the groups fall near to any other X-ray observations for missions implemented in DAXA.\n",
    "\n",
    "Once identified, the XMM observations will be downloaded, and their raw data processed into a state suitable for analysis."
   ]
  },
  {
   "cell_type": "markdown",
   "id": "f63f384c",
   "metadata": {},
   "source": [
    "## <font color=#FF0000>**Notes to self**</font>"
   ]
  },
  {
   "cell_type": "markdown",
   "id": "d7382116",
   "metadata": {},
   "source": [
    "* <font color=#FF0000>Check to see whether observations still in proprietary period will be displayed in the filtered data</font>\n",
    "* <font color=#FF0000>Deep-dive why some of the data isn't reducing properly</font>"
   ]
  },
  {
   "cell_type": "markdown",
   "id": "8c614d51",
   "metadata": {},
   "source": [
    "## Import statements"
   ]
  },
  {
   "cell_type": "code",
   "execution_count": 1,
   "id": "f3ca43d0",
   "metadata": {},
   "outputs": [],
   "source": [
    "import daxa\n",
    "daxa.NUM_CORES = 40\n",
    "daxa.OUTPUT = \"/mnt/gs21/scratch/turne540/OVI_groups/data/\"\n",
    "daxa.config.OUTPUT = \"/mnt/gs21/scratch/turne540/OVI_groups/data/\"\n",
    "daxa.mission.base.OUTPUT = \"/mnt/gs21/scratch/turne540/OVI_groups/data/\"\n",
    "from daxa.archive import Archive\n",
    "from daxa.process.simple import full_process_xmm\n",
    "\n",
    "from daxa.mission import XMMPointed, Chandra, NuSTARPointed\n",
    "\n",
    "import pandas as pd\n",
    "from astropy.units import Quantity"
   ]
  },
  {
   "cell_type": "markdown",
   "id": "b97edba7",
   "metadata": {},
   "source": [
    "## Reading the sample file"
   ]
  },
  {
   "cell_type": "markdown",
   "id": "c4013843",
   "metadata": {},
   "source": [
    "Reading in the sample file that contains the positions of the groups, these will be used to locate relevant X-ray observations:"
   ]
  },
  {
   "cell_type": "code",
   "execution_count": 2,
   "id": "0b8e8e06",
   "metadata": {},
   "outputs": [
    {
     "data": {
      "text/html": [
       "<div>\n",
       "<style scoped>\n",
       "    .dataframe tbody tr th:only-of-type {\n",
       "        vertical-align: middle;\n",
       "    }\n",
       "\n",
       "    .dataframe tbody tr th {\n",
       "        vertical-align: top;\n",
       "    }\n",
       "\n",
       "    .dataframe thead th {\n",
       "        text-align: right;\n",
       "    }\n",
       "</style>\n",
       "<table border=\"1\" class=\"dataframe\">\n",
       "  <thead>\n",
       "    <tr style=\"text-align: right;\">\n",
       "      <th></th>\n",
       "      <th>name</th>\n",
       "      <th>est_ra</th>\n",
       "      <th>est_dec</th>\n",
       "      <th>redshift</th>\n",
       "    </tr>\n",
       "  </thead>\n",
       "  <tbody>\n",
       "    <tr>\n",
       "      <th>0</th>\n",
       "      <td>25124</td>\n",
       "      <td>243.629055</td>\n",
       "      <td>26.730240</td>\n",
       "      <td>0.186</td>\n",
       "    </tr>\n",
       "    <tr>\n",
       "      <th>1</th>\n",
       "      <td>44739</td>\n",
       "      <td>229.793620</td>\n",
       "      <td>28.331750</td>\n",
       "      <td>0.118</td>\n",
       "    </tr>\n",
       "    <tr>\n",
       "      <th>2</th>\n",
       "      <td>19670A</td>\n",
       "      <td>150.256710</td>\n",
       "      <td>50.793942</td>\n",
       "      <td>0.134</td>\n",
       "    </tr>\n",
       "    <tr>\n",
       "      <th>3</th>\n",
       "      <td>19670B</td>\n",
       "      <td>150.214920</td>\n",
       "      <td>50.805014</td>\n",
       "      <td>0.134</td>\n",
       "    </tr>\n",
       "    <tr>\n",
       "      <th>4</th>\n",
       "      <td>12833</td>\n",
       "      <td>129.496800</td>\n",
       "      <td>44.248700</td>\n",
       "      <td>0.145</td>\n",
       "    </tr>\n",
       "    <tr>\n",
       "      <th>5</th>\n",
       "      <td>44858</td>\n",
       "      <td>230.112000</td>\n",
       "      <td>28.887750</td>\n",
       "      <td>0.127</td>\n",
       "    </tr>\n",
       "    <tr>\n",
       "      <th>6</th>\n",
       "      <td>PHL1811</td>\n",
       "      <td>328.769920</td>\n",
       "      <td>-9.588805</td>\n",
       "      <td>0.077</td>\n",
       "    </tr>\n",
       "  </tbody>\n",
       "</table>\n",
       "</div>"
      ],
      "text/plain": [
       "      name      est_ra    est_dec  redshift\n",
       "0    25124  243.629055  26.730240     0.186\n",
       "1    44739  229.793620  28.331750     0.118\n",
       "2   19670A  150.256710  50.793942     0.134\n",
       "3   19670B  150.214920  50.805014     0.134\n",
       "4    12833  129.496800  44.248700     0.145\n",
       "5    44858  230.112000  28.887750     0.127\n",
       "6  PHL1811  328.769920  -9.588805     0.077"
      ]
     },
     "execution_count": 2,
     "metadata": {},
     "output_type": "execute_result"
    }
   ],
   "source": [
    "samp = pd.read_csv(\"../sample_files/init_group_info.csv\")\n",
    "samp"
   ]
  },
  {
   "cell_type": "markdown",
   "id": "cb6562e9",
   "metadata": {},
   "source": [
    "## Searching for data"
   ]
  },
  {
   "cell_type": "markdown",
   "id": "724cc93a",
   "metadata": {},
   "source": [
    "We can use DAXA classes to search the online databases of observations maintained for several X-ray telescopes. We will only make use of XMM data in this analysis, but it will be interesting to see what other data are available."
   ]
  },
  {
   "cell_type": "markdown",
   "id": "a3495587",
   "metadata": {},
   "source": [
    "### XMM-Newton Pointed"
   ]
  },
  {
   "cell_type": "markdown",
   "id": "071923a2",
   "metadata": {},
   "source": [
    "We define an XMMPointed instance, which makes the distinction between XMM data that were taken in 'pointing' mode, when the attitude of the spacecraft was fixed (or nearly fixed), and data taken when XMM was slewing to its next target. Slew data is harder to analyse, with decreased spatial resolution, and is not yet implemented in DAXA.\n",
    "\n",
    "The RA-Dec values for the groups of interest are used to filter the entire archive on position, searching for any XMM pointed observations with an aimpoint within 40 arcminutes of a position of interest."
   ]
  },
  {
   "cell_type": "code",
   "execution_count": 3,
   "id": "a47c75b3",
   "metadata": {},
   "outputs": [
    {
     "name": "stderr",
     "output_type": "stream",
     "text": [
      "/mnt/ufs18/home-218/turne540/code/DAXA/daxa/mission/xmm.py:75: UserWarning: 140 of the 16887 observations located for this mission have been removed due to NaN RA or Dec values\n",
      "  self._fetch_obs_info()\n"
     ]
    },
    {
     "data": {
      "text/html": [
       "<div>\n",
       "<style scoped>\n",
       "    .dataframe tbody tr th:only-of-type {\n",
       "        vertical-align: middle;\n",
       "    }\n",
       "\n",
       "    .dataframe tbody tr th {\n",
       "        vertical-align: top;\n",
       "    }\n",
       "\n",
       "    .dataframe thead th {\n",
       "        text-align: right;\n",
       "    }\n",
       "</style>\n",
       "<table border=\"1\" class=\"dataframe\">\n",
       "  <thead>\n",
       "    <tr style=\"text-align: right;\">\n",
       "      <th></th>\n",
       "      <th>ra</th>\n",
       "      <th>dec</th>\n",
       "      <th>ObsID</th>\n",
       "      <th>start</th>\n",
       "      <th>usable_science</th>\n",
       "      <th>duration</th>\n",
       "      <th>proprietary_end_date</th>\n",
       "      <th>revolution</th>\n",
       "      <th>usable_proprietary</th>\n",
       "      <th>end</th>\n",
       "      <th>usable</th>\n",
       "    </tr>\n",
       "  </thead>\n",
       "  <tbody>\n",
       "    <tr>\n",
       "      <th>3802</th>\n",
       "      <td>328.756200</td>\n",
       "      <td>-9.373528</td>\n",
       "      <td>0204310101</td>\n",
       "      <td>2004-11-01 09:06:42</td>\n",
       "      <td>True</td>\n",
       "      <td>0 days 09:08:39</td>\n",
       "      <td>2005-12-01 00:00:00</td>\n",
       "      <td>897</td>\n",
       "      <td>True</td>\n",
       "      <td>2004-11-01 18:15:21</td>\n",
       "      <td>True</td>\n",
       "    </tr>\n",
       "    <tr>\n",
       "      <th>12006</th>\n",
       "      <td>328.756250</td>\n",
       "      <td>-9.373333</td>\n",
       "      <td>0761910201</td>\n",
       "      <td>2015-11-29 09:38:07</td>\n",
       "      <td>True</td>\n",
       "      <td>0 days 16:30:00</td>\n",
       "      <td>2016-12-11 23:00:00</td>\n",
       "      <td>2925</td>\n",
       "      <td>True</td>\n",
       "      <td>2015-11-30 02:08:07</td>\n",
       "      <td>True</td>\n",
       "    </tr>\n",
       "    <tr>\n",
       "      <th>13309</th>\n",
       "      <td>243.555000</td>\n",
       "      <td>26.071167</td>\n",
       "      <td>0801892301</td>\n",
       "      <td>2018-01-22 11:06:41</td>\n",
       "      <td>True</td>\n",
       "      <td>0 days 06:23:20</td>\n",
       "      <td>2019-02-08 23:00:00</td>\n",
       "      <td>3319</td>\n",
       "      <td>True</td>\n",
       "      <td>2018-01-22 17:30:01</td>\n",
       "      <td>True</td>\n",
       "    </tr>\n",
       "    <tr>\n",
       "      <th>13847</th>\n",
       "      <td>230.111667</td>\n",
       "      <td>28.886111</td>\n",
       "      <td>0820240301</td>\n",
       "      <td>2019-01-14 04:17:53</td>\n",
       "      <td>True</td>\n",
       "      <td>0 days 06:06:40</td>\n",
       "      <td>2020-02-04 23:00:00</td>\n",
       "      <td>3498</td>\n",
       "      <td>True</td>\n",
       "      <td>2019-01-14 10:24:33</td>\n",
       "      <td>True</td>\n",
       "    </tr>\n",
       "    <tr>\n",
       "      <th>14961</th>\n",
       "      <td>129.414208</td>\n",
       "      <td>44.284083</td>\n",
       "      <td>0861080201</td>\n",
       "      <td>2020-10-07 12:28:01</td>\n",
       "      <td>True</td>\n",
       "      <td>0 days 06:18:20</td>\n",
       "      <td>2021-11-13 00:00:00</td>\n",
       "      <td>3815</td>\n",
       "      <td>True</td>\n",
       "      <td>2020-10-07 18:46:21</td>\n",
       "      <td>True</td>\n",
       "    </tr>\n",
       "    <tr>\n",
       "      <th>14962</th>\n",
       "      <td>129.414208</td>\n",
       "      <td>44.284083</td>\n",
       "      <td>0861080501</td>\n",
       "      <td>2020-10-07 10:09:04</td>\n",
       "      <td>True</td>\n",
       "      <td>0 days 02:18:57</td>\n",
       "      <td>2021-11-13 00:00:00</td>\n",
       "      <td>3815</td>\n",
       "      <td>True</td>\n",
       "      <td>2020-10-07 12:28:01</td>\n",
       "      <td>True</td>\n",
       "    </tr>\n",
       "    <tr>\n",
       "      <th>14965</th>\n",
       "      <td>150.166375</td>\n",
       "      <td>50.783694</td>\n",
       "      <td>0861080101</td>\n",
       "      <td>2020-10-11 11:57:49</td>\n",
       "      <td>True</td>\n",
       "      <td>0 days 06:23:20</td>\n",
       "      <td>2021-11-02 00:00:00</td>\n",
       "      <td>3817</td>\n",
       "      <td>True</td>\n",
       "      <td>2020-10-11 18:21:09</td>\n",
       "      <td>True</td>\n",
       "    </tr>\n",
       "    <tr>\n",
       "      <th>14972</th>\n",
       "      <td>150.166375</td>\n",
       "      <td>50.783694</td>\n",
       "      <td>0861080601</td>\n",
       "      <td>2020-10-11 09:53:44</td>\n",
       "      <td>True</td>\n",
       "      <td>0 days 02:04:05</td>\n",
       "      <td>2021-11-02 00:00:00</td>\n",
       "      <td>3817</td>\n",
       "      <td>True</td>\n",
       "      <td>2020-10-11 11:57:49</td>\n",
       "      <td>True</td>\n",
       "    </tr>\n",
       "  </tbody>\n",
       "</table>\n",
       "</div>"
      ],
      "text/plain": [
       "               ra        dec       ObsID               start  usable_science  \\\n",
       "3802   328.756200  -9.373528  0204310101 2004-11-01 09:06:42            True   \n",
       "12006  328.756250  -9.373333  0761910201 2015-11-29 09:38:07            True   \n",
       "13309  243.555000  26.071167  0801892301 2018-01-22 11:06:41            True   \n",
       "13847  230.111667  28.886111  0820240301 2019-01-14 04:17:53            True   \n",
       "14961  129.414208  44.284083  0861080201 2020-10-07 12:28:01            True   \n",
       "14962  129.414208  44.284083  0861080501 2020-10-07 10:09:04            True   \n",
       "14965  150.166375  50.783694  0861080101 2020-10-11 11:57:49            True   \n",
       "14972  150.166375  50.783694  0861080601 2020-10-11 09:53:44            True   \n",
       "\n",
       "             duration proprietary_end_date  revolution  usable_proprietary  \\\n",
       "3802  0 days 09:08:39  2005-12-01 00:00:00         897                True   \n",
       "12006 0 days 16:30:00  2016-12-11 23:00:00        2925                True   \n",
       "13309 0 days 06:23:20  2019-02-08 23:00:00        3319                True   \n",
       "13847 0 days 06:06:40  2020-02-04 23:00:00        3498                True   \n",
       "14961 0 days 06:18:20  2021-11-13 00:00:00        3815                True   \n",
       "14962 0 days 02:18:57  2021-11-13 00:00:00        3815                True   \n",
       "14965 0 days 06:23:20  2021-11-02 00:00:00        3817                True   \n",
       "14972 0 days 02:04:05  2021-11-02 00:00:00        3817                True   \n",
       "\n",
       "                      end  usable  \n",
       "3802  2004-11-01 18:15:21    True  \n",
       "12006 2015-11-30 02:08:07    True  \n",
       "13309 2018-01-22 17:30:01    True  \n",
       "13847 2019-01-14 10:24:33    True  \n",
       "14961 2020-10-07 18:46:21    True  \n",
       "14962 2020-10-07 12:28:01    True  \n",
       "14965 2020-10-11 18:21:09    True  \n",
       "14972 2020-10-11 11:57:49    True  "
      ]
     },
     "execution_count": 3,
     "metadata": {},
     "output_type": "execute_result"
    }
   ],
   "source": [
    "# Define the instance\n",
    "xmm = XMMPointed()\n",
    "# \n",
    "xmm.filter_on_positions(samp[['est_ra', 'est_dec']].values, Quantity(40, 'arcmin'))\n",
    "xmm.filtered_obs_info"
   ]
  },
  {
   "cell_type": "markdown",
   "id": "d713fdf9",
   "metadata": {},
   "source": [
    "### Chandra"
   ]
  },
  {
   "cell_type": "markdown",
   "id": "1441b5b0",
   "metadata": {},
   "source": [
    "We perform a similar search in the Chandra archive, though we won't download or process any Chandra data:"
   ]
  },
  {
   "cell_type": "code",
   "execution_count": 4,
   "id": "a87ec27e",
   "metadata": {},
   "outputs": [
    {
     "data": {
      "text/html": [
       "<div>\n",
       "<style scoped>\n",
       "    .dataframe tbody tr th:only-of-type {\n",
       "        vertical-align: middle;\n",
       "    }\n",
       "\n",
       "    .dataframe tbody tr th {\n",
       "        vertical-align: top;\n",
       "    }\n",
       "\n",
       "    .dataframe thead th {\n",
       "        text-align: right;\n",
       "    }\n",
       "</style>\n",
       "<table border=\"1\" class=\"dataframe\">\n",
       "  <thead>\n",
       "    <tr style=\"text-align: right;\">\n",
       "      <th></th>\n",
       "      <th>ra</th>\n",
       "      <th>dec</th>\n",
       "      <th>ObsID</th>\n",
       "      <th>usable</th>\n",
       "      <th>start</th>\n",
       "      <th>end</th>\n",
       "      <th>duration</th>\n",
       "      <th>proprietary_end_date</th>\n",
       "      <th>target_category</th>\n",
       "      <th>detector</th>\n",
       "      <th>grating</th>\n",
       "      <th>data_mode</th>\n",
       "    </tr>\n",
       "  </thead>\n",
       "  <tbody>\n",
       "    <tr>\n",
       "      <th>8813</th>\n",
       "      <td>129.49708</td>\n",
       "      <td>44.24889</td>\n",
       "      <td>15378</td>\n",
       "      <td>True</td>\n",
       "      <td>2013-01-04 02:14:34.000002</td>\n",
       "      <td>2013-01-04 07:49:14.000002</td>\n",
       "      <td>0 days 05:34:40</td>\n",
       "      <td>2014-01-04</td>\n",
       "      <td>GCL</td>\n",
       "      <td>ACIS-I</td>\n",
       "      <td>NONE</td>\n",
       "      <td>TE_00458</td>\n",
       "    </tr>\n",
       "    <tr>\n",
       "      <th>9333</th>\n",
       "      <td>130.03917</td>\n",
       "      <td>44.36500</td>\n",
       "      <td>21564</td>\n",
       "      <td>True</td>\n",
       "      <td>2019-01-04 18:55:19.999998</td>\n",
       "      <td>2019-01-05 00:24:59.999998</td>\n",
       "      <td>0 days 05:29:40</td>\n",
       "      <td>2020-01-07</td>\n",
       "      <td>GCL</td>\n",
       "      <td>ACIS-I</td>\n",
       "      <td>NONE</td>\n",
       "      <td>TE_006E6</td>\n",
       "    </tr>\n",
       "    <tr>\n",
       "      <th>11895</th>\n",
       "      <td>130.03917</td>\n",
       "      <td>44.36500</td>\n",
       "      <td>22035</td>\n",
       "      <td>True</td>\n",
       "      <td>2019-01-06 19:19:28.000001</td>\n",
       "      <td>2019-01-06 22:40:48.000001</td>\n",
       "      <td>0 days 03:21:20</td>\n",
       "      <td>2020-01-07</td>\n",
       "      <td>GCL</td>\n",
       "      <td>ACIS-I</td>\n",
       "      <td>NONE</td>\n",
       "      <td>TE_006E6</td>\n",
       "    </tr>\n",
       "    <tr>\n",
       "      <th>13703</th>\n",
       "      <td>328.75625</td>\n",
       "      <td>-9.37353</td>\n",
       "      <td>2958</td>\n",
       "      <td>True</td>\n",
       "      <td>2001-12-17 22:59:37.999999</td>\n",
       "      <td>2001-12-18 01:45:37.999999</td>\n",
       "      <td>0 days 02:46:00</td>\n",
       "      <td>2002-12-21</td>\n",
       "      <td>AGN</td>\n",
       "      <td>ACIS-S</td>\n",
       "      <td>NONE</td>\n",
       "      <td>TE_002A2</td>\n",
       "    </tr>\n",
       "    <tr>\n",
       "      <th>14152</th>\n",
       "      <td>328.75625</td>\n",
       "      <td>-9.37353</td>\n",
       "      <td>2957</td>\n",
       "      <td>True</td>\n",
       "      <td>2001-12-05 08:43:41.000002</td>\n",
       "      <td>2001-12-05 11:22:01.000002</td>\n",
       "      <td>0 days 02:38:20</td>\n",
       "      <td>2002-12-18</td>\n",
       "      <td>AGN</td>\n",
       "      <td>ACIS-S</td>\n",
       "      <td>NONE</td>\n",
       "      <td>TE_002A2</td>\n",
       "    </tr>\n",
       "    <tr>\n",
       "      <th>17474</th>\n",
       "      <td>230.48917</td>\n",
       "      <td>28.98831</td>\n",
       "      <td>4791</td>\n",
       "      <td>True</td>\n",
       "      <td>2004-04-12 03:22:08.000002</td>\n",
       "      <td>2004-04-12 04:39:28.000002</td>\n",
       "      <td>0 days 01:17:20</td>\n",
       "      <td>2005-04-20</td>\n",
       "      <td>AGN</td>\n",
       "      <td>ACIS-S</td>\n",
       "      <td>NONE</td>\n",
       "      <td>TE_003C2</td>\n",
       "    </tr>\n",
       "    <tr>\n",
       "      <th>19322</th>\n",
       "      <td>328.75625</td>\n",
       "      <td>-9.37342</td>\n",
       "      <td>15357</td>\n",
       "      <td>True</td>\n",
       "      <td>2012-11-24 20:01:44.999999</td>\n",
       "      <td>2012-11-24 20:36:34.999999</td>\n",
       "      <td>0 days 00:34:50</td>\n",
       "      <td>2013-11-26</td>\n",
       "      <td>AGN</td>\n",
       "      <td>ACIS-S</td>\n",
       "      <td>NONE</td>\n",
       "      <td>TE_00B4A</td>\n",
       "    </tr>\n",
       "  </tbody>\n",
       "</table>\n",
       "</div>"
      ],
      "text/plain": [
       "              ra       dec  ObsID  usable                      start  \\\n",
       "8813   129.49708  44.24889  15378    True 2013-01-04 02:14:34.000002   \n",
       "9333   130.03917  44.36500  21564    True 2019-01-04 18:55:19.999998   \n",
       "11895  130.03917  44.36500  22035    True 2019-01-06 19:19:28.000001   \n",
       "13703  328.75625  -9.37353   2958    True 2001-12-17 22:59:37.999999   \n",
       "14152  328.75625  -9.37353   2957    True 2001-12-05 08:43:41.000002   \n",
       "17474  230.48917  28.98831   4791    True 2004-04-12 03:22:08.000002   \n",
       "19322  328.75625  -9.37342  15357    True 2012-11-24 20:01:44.999999   \n",
       "\n",
       "                             end        duration proprietary_end_date  \\\n",
       "8813  2013-01-04 07:49:14.000002 0 days 05:34:40           2014-01-04   \n",
       "9333  2019-01-05 00:24:59.999998 0 days 05:29:40           2020-01-07   \n",
       "11895 2019-01-06 22:40:48.000001 0 days 03:21:20           2020-01-07   \n",
       "13703 2001-12-18 01:45:37.999999 0 days 02:46:00           2002-12-21   \n",
       "14152 2001-12-05 11:22:01.000002 0 days 02:38:20           2002-12-18   \n",
       "17474 2004-04-12 04:39:28.000002 0 days 01:17:20           2005-04-20   \n",
       "19322 2012-11-24 20:36:34.999999 0 days 00:34:50           2013-11-26   \n",
       "\n",
       "      target_category detector grating data_mode  \n",
       "8813              GCL   ACIS-I    NONE  TE_00458  \n",
       "9333              GCL   ACIS-I    NONE  TE_006E6  \n",
       "11895             GCL   ACIS-I    NONE  TE_006E6  \n",
       "13703             AGN   ACIS-S    NONE  TE_002A2  \n",
       "14152             AGN   ACIS-S    NONE  TE_002A2  \n",
       "17474             AGN   ACIS-S    NONE  TE_003C2  \n",
       "19322             AGN   ACIS-S    NONE  TE_00B4A  "
      ]
     },
     "execution_count": 4,
     "metadata": {},
     "output_type": "execute_result"
    }
   ],
   "source": [
    "chandra = Chandra()\n",
    "chandra.filter_on_positions(samp[['est_ra', 'est_dec']].values, Quantity(40, 'arcmin'))\n",
    "chandra.filtered_obs_info"
   ]
  },
  {
   "cell_type": "markdown",
   "id": "129dbe1a",
   "metadata": {},
   "source": [
    "### NuSTAR Pointed"
   ]
  },
  {
   "cell_type": "markdown",
   "id": "e8f482f8",
   "metadata": {},
   "source": [
    "Finally we search the NuSTAR archive, though the search distance has been decreased to 20 arcminutes as NuSTAR has a smaller field of view. Again we are only searching through NuSTAR pointed data, no data taken whilst slewing is included in the search:"
   ]
  },
  {
   "cell_type": "code",
   "execution_count": 5,
   "id": "4e471c8c",
   "metadata": {},
   "outputs": [
    {
     "data": {
      "text/html": [
       "<div>\n",
       "<style scoped>\n",
       "    .dataframe tbody tr th:only-of-type {\n",
       "        vertical-align: middle;\n",
       "    }\n",
       "\n",
       "    .dataframe tbody tr th {\n",
       "        vertical-align: top;\n",
       "    }\n",
       "\n",
       "    .dataframe thead th {\n",
       "        text-align: right;\n",
       "    }\n",
       "</style>\n",
       "<table border=\"1\" class=\"dataframe\">\n",
       "  <thead>\n",
       "    <tr style=\"text-align: right;\">\n",
       "      <th></th>\n",
       "      <th>ra</th>\n",
       "      <th>dec</th>\n",
       "      <th>ObsID</th>\n",
       "      <th>usable</th>\n",
       "      <th>start</th>\n",
       "      <th>end</th>\n",
       "      <th>duration</th>\n",
       "      <th>proprietary_end_date</th>\n",
       "      <th>target_category</th>\n",
       "      <th>exposure_a</th>\n",
       "      <th>exposure_b</th>\n",
       "      <th>ontime_a</th>\n",
       "      <th>ontime_b</th>\n",
       "      <th>nupsdout</th>\n",
       "      <th>issue_flag</th>\n",
       "    </tr>\n",
       "  </thead>\n",
       "  <tbody>\n",
       "    <tr>\n",
       "      <th>807</th>\n",
       "      <td>328.7406</td>\n",
       "      <td>-9.3989</td>\n",
       "      <td>60101004002</td>\n",
       "      <td>True</td>\n",
       "      <td>2015-11-28 18:46:08.184003</td>\n",
       "      <td>2015-11-30 04:11:08.184002</td>\n",
       "      <td>1 days 09:24:59.999999</td>\n",
       "      <td>2016-12-11 00:00:00</td>\n",
       "      <td>AGN</td>\n",
       "      <td>0 days 15:12:38</td>\n",
       "      <td>0 days 15:10:13</td>\n",
       "      <td>0 days 16:23:15</td>\n",
       "      <td>0 days 16:23:54</td>\n",
       "      <td>0</td>\n",
       "      <td>0</td>\n",
       "    </tr>\n",
       "  </tbody>\n",
       "</table>\n",
       "</div>"
      ],
      "text/plain": [
       "           ra     dec        ObsID  usable                      start  \\\n",
       "807  328.7406 -9.3989  60101004002    True 2015-11-28 18:46:08.184003   \n",
       "\n",
       "                           end               duration proprietary_end_date  \\\n",
       "807 2015-11-30 04:11:08.184002 1 days 09:24:59.999999  2016-12-11 00:00:00   \n",
       "\n",
       "    target_category      exposure_a      exposure_b        ontime_a  \\\n",
       "807             AGN 0 days 15:12:38 0 days 15:10:13 0 days 16:23:15   \n",
       "\n",
       "           ontime_b  nupsdout  issue_flag  \n",
       "807 0 days 16:23:54         0           0  "
      ]
     },
     "execution_count": 5,
     "metadata": {},
     "output_type": "execute_result"
    }
   ],
   "source": [
    "nustar = NuSTARPointed()\n",
    "nustar.filter_on_positions(samp[['est_ra', 'est_dec']].values, Quantity(20, 'arcmin'))\n",
    "nustar.filtered_obs_info"
   ]
  },
  {
   "cell_type": "markdown",
   "id": "20d4a5c1",
   "metadata": {},
   "source": [
    "## Creating an Archive"
   ]
  },
  {
   "cell_type": "markdown",
   "id": "5293b8b7",
   "metadata": {},
   "source": []
  },
  {
   "cell_type": "markdown",
   "id": "4d592f18",
   "metadata": {},
   "source": [
    "### Downloading data prior to archive creation"
   ]
  },
  {
   "cell_type": "markdown",
   "id": "e7dd7ba7",
   "metadata": {},
   "source": []
  },
  {
   "cell_type": "code",
   "execution_count": 6,
   "id": "e85f1948",
   "metadata": {},
   "outputs": [
    {
     "name": "stderr",
     "output_type": "stream",
     "text": [
      "/mnt/ufs18/home-218/turne540/code/DAXA/daxa/mission/xmm.py:377: UserWarning: The raw data for this mission have already been downloaded.\n",
      "  warn(\"The raw data for this mission have already been downloaded.\")\n"
     ]
    }
   ],
   "source": [
    "xmm.download(num_cores=10)"
   ]
  },
  {
   "cell_type": "markdown",
   "id": "85631690",
   "metadata": {},
   "source": [
    "### The data archive"
   ]
  },
  {
   "cell_type": "markdown",
   "id": "978893bb",
   "metadata": {},
   "source": []
  },
  {
   "cell_type": "code",
   "execution_count": 7,
   "id": "1c03bfe2",
   "metadata": {},
   "outputs": [
    {
     "name": "stdout",
     "output_type": "stream",
     "text": [
      "\n",
      "-----------------------------------------------------\n",
      "Number of missions - 1\n",
      "Total number of observations - 8\n",
      "Beginning of earliest observation - 2004-11-01 09:06:42\n",
      "End of latest observation - 2020-10-11 18:21:09\n",
      "\n",
      "-- XMM-Newton Pointed --\n",
      "   Internal DAXA name - xmm_pointed\n",
      "   Chosen instruments - M1, M2, PN\n",
      "   Number of observations - 8\n",
      "   Fully Processed - False\n",
      "-----------------------------------------------------\n",
      "\n"
     ]
    },
    {
     "name": "stderr",
     "output_type": "stream",
     "text": [
      "/tmp/local/12573644/ipykernel_50217/4266497429.py:1: UserWarning: An archive called OVIGroups already existed, but as clobber=True it has been deleted and overwritten.\n",
      "  ovi_group_arch = Archive(xmm, 'OVIGroups', clobber=True)\n"
     ]
    }
   ],
   "source": [
    "ovi_group_arch = Archive(xmm, 'OVIGroups', clobber=True)\n",
    "ovi_group_arch.info()"
   ]
  },
  {
   "cell_type": "markdown",
   "id": "864620bc",
   "metadata": {},
   "source": [
    "## Processing XMM data"
   ]
  },
  {
   "cell_type": "markdown",
   "id": "8e2b0bd3",
   "metadata": {},
   "source": []
  },
  {
   "cell_type": "code",
   "execution_count": 8,
   "id": "bc775b16",
   "metadata": {},
   "outputs": [
    {
     "name": "stderr",
     "output_type": "stream",
     "text": [
      "XMM-Newton Pointed - Generating calibration files: 100%|██████████| 8/8 [01:10<00:00,  8.81s/it]\n",
      "XMM-Newton Pointed - Generating ODF summary files: 100%|██████████| 8/8 [00:11<00:00,  1.38s/it]\n",
      "XMM-Newton Pointed - Assembling PN and PN-OOT event lists: 100%|██████████| 6/6 [16:10<00:00, 161.81s/it]\n",
      "XMM-Newton Pointed - Assembling MOS event lists: 100%|██████████| 14/14 [02:18<00:00,  9.91s/it]\n",
      "XMM-Newton Pointed - Finding PN/MOS soft-proton flares: 100%|██████████| 20/20 [00:33<00:00,  1.70s/it]\n",
      "XMM-Newton Pointed - Generating cleaned PN/MOS event lists: 100%|██████████| 19/19 [00:10<00:00,  1.89it/s]\n",
      "XMM-Newton Pointed - Generating final PN/MOS event lists: 100%|██████████| 17/17 [00:00<00:00, 28.49it/s]\n",
      "Generating products of type(s) ccf: 100%|██████████| 6/6 [00:40<00:00,  6.70s/it]\n",
      "Generating products of type(s) image: 100%|██████████| 17/17 [00:01<00:00, 13.17it/s]\n",
      "Generating products of type(s) expmap: 100%|██████████| 17/17 [04:14<00:00, 14.96s/it]\n",
      "Generating products of type(s) image: 100%|██████████| 17/17 [00:01<00:00, 13.31it/s]\n",
      "Generating products of type(s) expmap: 100%|██████████| 17/17 [04:15<00:00, 15.02s/it]\n"
     ]
    }
   ],
   "source": [
    "full_process_xmm(ovi_group_arch)"
   ]
  },
  {
   "cell_type": "markdown",
   "id": "bfa2a2b5",
   "metadata": {},
   "source": [
    "## Investigating "
   ]
  },
  {
   "cell_type": "markdown",
   "id": "896475de",
   "metadata": {},
   "source": []
  },
  {
   "cell_type": "markdown",
   "id": "92e01ae8",
   "metadata": {},
   "source": [
    "### Overall processing success"
   ]
  },
  {
   "cell_type": "code",
   "execution_count": 9,
   "id": "cccacb76",
   "metadata": {},
   "outputs": [
    {
     "data": {
      "text/plain": [
       "{'xmm_pointed': {'0204310101': True,\n",
       "  '0761910201': True,\n",
       "  '0801892301': True,\n",
       "  '0820240301': True,\n",
       "  '0861080201': True,\n",
       "  '0861080501': False,\n",
       "  '0861080101': True,\n",
       "  '0861080601': False}}"
      ]
     },
     "execution_count": 9,
     "metadata": {},
     "output_type": "execute_result"
    }
   ],
   "source": [
    "ovi_group_arch.final_process_success"
   ]
  },
  {
   "cell_type": "markdown",
   "id": "5e9b7481",
   "metadata": {},
   "source": [
    "### "
   ]
  },
  {
   "cell_type": "code",
   "execution_count": 10,
   "id": "57b0800a",
   "metadata": {},
   "outputs": [
    {
     "data": {
      "text/plain": [
       "{'xmm_pointed': {'cif_build': {'0761910201': True,\n",
       "   '0204310101': True,\n",
       "   '0861080501': True,\n",
       "   '0820240301': True,\n",
       "   '0861080101': True,\n",
       "   '0861080601': True,\n",
       "   '0801892301': True,\n",
       "   '0861080201': True},\n",
       "  'odf_ingest': {'0801892301': True,\n",
       "   '0861080501': True,\n",
       "   '0861080601': True,\n",
       "   '0820240301': True,\n",
       "   '0861080101': True,\n",
       "   '0204310101': True,\n",
       "   '0861080201': True,\n",
       "   '0761910201': True},\n",
       "  'epchain': {'0801892301PNS003': True,\n",
       "   '0820240301PNS003': True,\n",
       "   '0861080101PNS003': True,\n",
       "   '0861080201PNS003': True,\n",
       "   '0204310101PNS003': True,\n",
       "   '0761910201PNS003': True},\n",
       "  'emchain': {'0861080201M1S001': True,\n",
       "   '0861080201M2S002': True,\n",
       "   '0820240301M2S002': True,\n",
       "   '0861080201M1U003': True,\n",
       "   '0861080201M2U003': True,\n",
       "   '0861080101M2S002': True,\n",
       "   '0204310101M2S002': True,\n",
       "   '0861080101M1S001': True,\n",
       "   '0204310101M1S001': True,\n",
       "   '0801892301M2S002': True,\n",
       "   '0820240301M1S001': True,\n",
       "   '0801892301M1S001': True,\n",
       "   '0761910201M2S002': True,\n",
       "   '0761910201M1S001': True},\n",
       "  'espfilt': {'0801892301PNS003': False,\n",
       "   '0861080201M1S001': True,\n",
       "   '0820240301M1S001': True,\n",
       "   '0861080201M1U003': True,\n",
       "   '0861080101M1S001': True,\n",
       "   '0861080201M2S002': True,\n",
       "   '0861080201M2U003': True,\n",
       "   '0820240301M2S002': True,\n",
       "   '0861080101M2S002': True,\n",
       "   '0801892301M1S001': True,\n",
       "   '0204310101M1S001': True,\n",
       "   '0204310101M2S002': True,\n",
       "   '0801892301M2S002': True,\n",
       "   '0761910201M1S001': True,\n",
       "   '0761910201M2S002': True,\n",
       "   '0820240301PNS003': True,\n",
       "   '0861080201PNS003': True,\n",
       "   '0861080101PNS003': True,\n",
       "   '0204310101PNS003': True,\n",
       "   '0761910201PNS003': True},\n",
       "  'cleaned_evt_lists': {'0820240301M1S001': True,\n",
       "   '0861080201M1S001': True,\n",
       "   '0861080201M1U003': True,\n",
       "   '0861080101M1S001': True,\n",
       "   '0801892301M1S001': True,\n",
       "   '0861080201M2S002': True,\n",
       "   '0861080101M2S002': True,\n",
       "   '0204310101M1S001': True,\n",
       "   '0861080201M2U003': True,\n",
       "   '0820240301M2S002': True,\n",
       "   '0761910201M1S001': True,\n",
       "   '0204310101M2S002': True,\n",
       "   '0801892301M2S002': True,\n",
       "   '0761910201M2S002': True,\n",
       "   '0820240301PNS003': True,\n",
       "   '0861080101PNS003': True,\n",
       "   '0861080201PNS003': True,\n",
       "   '0204310101PNS003': True,\n",
       "   '0761910201PNS003': True},\n",
       "  'merge_subexposures': {'0820240301M1': True,\n",
       "   '0820240301M2': True,\n",
       "   '0801892301M2': True,\n",
       "   '0801892301M1': True,\n",
       "   '0861080101PN': True,\n",
       "   '0820240301PN': True,\n",
       "   '0861080101M1': True,\n",
       "   '0204310101M1': True,\n",
       "   '0204310101M2': True,\n",
       "   '0861080201PN': True,\n",
       "   '0861080101M2': True,\n",
       "   '0761910201PN': True,\n",
       "   '0204310101PN': True,\n",
       "   '0761910201M2': True,\n",
       "   '0761910201M1': True,\n",
       "   '0861080201M1': True,\n",
       "   '0861080201M2': True}}}"
      ]
     },
     "execution_count": 10,
     "metadata": {},
     "output_type": "execute_result"
    }
   ],
   "source": [
    "ovi_group_arch.process_success"
   ]
  },
  {
   "cell_type": "markdown",
   "id": "7aba87b3",
   "metadata": {},
   "source": [
    "### 0801892301PNS003 - `espfilt`"
   ]
  },
  {
   "cell_type": "markdown",
   "id": "5b805ebc",
   "metadata": {},
   "source": []
  },
  {
   "cell_type": "code",
   "execution_count": 12,
   "id": "643adc52",
   "metadata": {},
   "outputs": [
    {
     "data": {
      "text/plain": [
       "[' raised by  - ']"
      ]
     },
     "execution_count": 12,
     "metadata": {},
     "output_type": "execute_result"
    }
   ],
   "source": [
    "ovi_group_arch.process_errors['xmm_pointed']['espfilt']['0801892301PNS003']"
   ]
  },
  {
   "cell_type": "code",
   "execution_count": 13,
   "id": "c0ac7227",
   "metadata": {},
   "outputs": [
    {
     "data": {
      "text/plain": [
       "'** espfilt: error (noPNSmallWindow), Sorry, espfilt does not work with EPN *Small* window SUBMODEs\\nmv: cannot stat ‘pnS003-gti-2500-8500.fits’: No such file or directory\\nmv: cannot stat ‘pnS003-allevc-2500-8500.fits’: No such file or directory\\nmv: cannot stat ‘pnS003-hist-2500-8500.qdp’: No such file or directory\\n'"
      ]
     },
     "execution_count": 13,
     "metadata": {},
     "output_type": "execute_result"
    }
   ],
   "source": [
    "ovi_group_arch.raw_process_errors['xmm_pointed']['espfilt']['0801892301PNS003']"
   ]
  },
  {
   "cell_type": "markdown",
   "id": "aab88be1",
   "metadata": {},
   "source": [
    "### 0861080601"
   ]
  },
  {
   "cell_type": "markdown",
   "id": "d842ebe6",
   "metadata": {},
   "source": []
  },
  {
   "cell_type": "code",
   "execution_count": 16,
   "id": "ac006e76",
   "metadata": {
    "scrolled": false
   },
   "outputs": [
    {
     "data": {
      "text/plain": [
       "{'M1': {'active': True,\n",
       "  'num_exp': 1,\n",
       "  'exposures': {'S001': {'scheduled': True,\n",
       "    'type': 'SCIENCE',\n",
       "    'mode': 'PrimeFullWindow',\n",
       "    'filter': 'CalClosed',\n",
       "    'ccd_modes': {1: 'Imaging',\n",
       "     2: 'Imaging',\n",
       "     4: 'Imaging',\n",
       "     5: 'Imaging',\n",
       "     7: 'Imaging'}}}},\n",
       " 'M2': {'active': True,\n",
       "  'num_exp': 1,\n",
       "  'exposures': {'S002': {'scheduled': True,\n",
       "    'type': 'SCIENCE',\n",
       "    'mode': 'PrimeFullWindow',\n",
       "    'filter': 'CalClosed',\n",
       "    'ccd_modes': {1: 'Imaging',\n",
       "     2: 'Imaging',\n",
       "     3: 'Imaging',\n",
       "     4: 'Imaging',\n",
       "     5: 'Imaging',\n",
       "     6: 'Imaging',\n",
       "     7: 'Imaging'}}}},\n",
       " 'PN': {'active': True,\n",
       "  'num_exp': 14,\n",
       "  'exposures': {'S003': {'scheduled': True,\n",
       "    'type': 'SCIENCE',\n",
       "    'mode': 'PrimeFullWindow',\n",
       "    'filter': 'CalClosed',\n",
       "    'ccd_modes': {1: 'Imaging',\n",
       "     2: 'Imaging',\n",
       "     3: 'Imaging',\n",
       "     4: 'Imaging',\n",
       "     5: 'Imaging',\n",
       "     6: 'Imaging',\n",
       "     7: 'Imaging',\n",
       "     8: 'Imaging',\n",
       "     9: 'Imaging',\n",
       "     10: 'Imaging',\n",
       "     11: 'Imaging',\n",
       "     12: 'Imaging'}},\n",
       "   'U002': {'scheduled': False,\n",
       "    'type': 'SCIENCE',\n",
       "    'mode': 'Diagnostic',\n",
       "    'filter': None,\n",
       "    'ccd_modes': {1: 'DiscardedLinesData'}},\n",
       "   'U003': {'scheduled': False,\n",
       "    'type': 'SCIENCE',\n",
       "    'mode': 'Diagnostic',\n",
       "    'filter': None,\n",
       "    'ccd_modes': {2: 'DiscardedLinesData'}},\n",
       "   'U004': {'scheduled': False,\n",
       "    'type': 'SCIENCE',\n",
       "    'mode': 'Diagnostic',\n",
       "    'filter': None,\n",
       "    'ccd_modes': {3: 'DiscardedLinesData'}},\n",
       "   'U005': {'scheduled': False,\n",
       "    'type': 'SCIENCE',\n",
       "    'mode': 'Diagnostic',\n",
       "    'filter': None,\n",
       "    'ccd_modes': {4: 'DiscardedLinesData'}},\n",
       "   'U006': {'scheduled': False,\n",
       "    'type': 'SCIENCE',\n",
       "    'mode': 'Diagnostic',\n",
       "    'filter': None,\n",
       "    'ccd_modes': {5: 'DiscardedLinesData'}},\n",
       "   'U007': {'scheduled': False,\n",
       "    'type': 'SCIENCE',\n",
       "    'mode': 'Diagnostic',\n",
       "    'filter': None,\n",
       "    'ccd_modes': {6: 'DiscardedLinesData'}},\n",
       "   'U008': {'scheduled': False,\n",
       "    'type': 'SCIENCE',\n",
       "    'mode': 'Diagnostic',\n",
       "    'filter': None,\n",
       "    'ccd_modes': {7: 'DiscardedLinesData'}},\n",
       "   'U009': {'scheduled': False,\n",
       "    'type': 'SCIENCE',\n",
       "    'mode': 'Diagnostic',\n",
       "    'filter': None,\n",
       "    'ccd_modes': {8: 'DiscardedLinesData'}},\n",
       "   'U010': {'scheduled': False,\n",
       "    'type': 'SCIENCE',\n",
       "    'mode': 'Diagnostic',\n",
       "    'filter': None,\n",
       "    'ccd_modes': {9: 'DiscardedLinesData'}},\n",
       "   'U011': {'scheduled': False,\n",
       "    'type': 'SCIENCE',\n",
       "    'mode': 'Diagnostic',\n",
       "    'filter': None,\n",
       "    'ccd_modes': {10: 'DiscardedLinesData'}},\n",
       "   'U012': {'scheduled': False,\n",
       "    'type': 'SCIENCE',\n",
       "    'mode': 'Diagnostic',\n",
       "    'filter': None,\n",
       "    'ccd_modes': {11: 'DiscardedLinesData'}},\n",
       "   'U013': {'scheduled': False,\n",
       "    'type': 'SCIENCE',\n",
       "    'mode': 'Diagnostic',\n",
       "    'filter': None,\n",
       "    'ccd_modes': {12: 'DiscardedLinesData'}},\n",
       "   'U700': {'scheduled': False,\n",
       "    'type': 'SCIENCE',\n",
       "    'mode': 'Offset',\n",
       "    'filter': '51.384',\n",
       "    'ccd_modes': {1: 'OffsetData',\n",
       "     2: 'OffsetData',\n",
       "     3: 'OffsetData',\n",
       "     4: 'OffsetData',\n",
       "     5: 'OffsetData',\n",
       "     6: 'OffsetData',\n",
       "     7: 'OffsetData',\n",
       "     8: 'OffsetData',\n",
       "     9: 'OffsetData',\n",
       "     10: 'OffsetData',\n",
       "     11: 'OffsetData',\n",
       "     12: 'OffsetData'}}}}}"
      ]
     },
     "execution_count": 16,
     "metadata": {},
     "output_type": "execute_result"
    }
   ],
   "source": [
    "ovi_group_arch.observation_summaries['xmm_pointed']['0861080601']"
   ]
  },
  {
   "cell_type": "markdown",
   "id": "a954bd87",
   "metadata": {},
   "source": [
    "### 0861080501"
   ]
  },
  {
   "cell_type": "markdown",
   "id": "5272efe7",
   "metadata": {},
   "source": []
  },
  {
   "cell_type": "code",
   "execution_count": 17,
   "id": "ad2eab14",
   "metadata": {
    "scrolled": false
   },
   "outputs": [
    {
     "data": {
      "text/plain": [
       "{'M1': {'active': True,\n",
       "  'num_exp': 1,\n",
       "  'exposures': {'S001': {'scheduled': True,\n",
       "    'type': 'SCIENCE',\n",
       "    'mode': 'PrimeFullWindow',\n",
       "    'filter': 'CalClosed',\n",
       "    'ccd_modes': {1: 'Imaging',\n",
       "     2: 'Imaging',\n",
       "     4: 'Imaging',\n",
       "     5: 'Imaging',\n",
       "     7: 'Imaging'}}}},\n",
       " 'M2': {'active': True,\n",
       "  'num_exp': 1,\n",
       "  'exposures': {'S002': {'scheduled': True,\n",
       "    'type': 'SCIENCE',\n",
       "    'mode': 'PrimeFullWindow',\n",
       "    'filter': 'CalClosed',\n",
       "    'ccd_modes': {1: 'Imaging',\n",
       "     2: 'Imaging',\n",
       "     3: 'Imaging',\n",
       "     4: 'Imaging',\n",
       "     5: 'Imaging',\n",
       "     6: 'Imaging',\n",
       "     7: 'Imaging'}}}},\n",
       " 'PN': {'active': True,\n",
       "  'num_exp': 14,\n",
       "  'exposures': {'S003': {'scheduled': True,\n",
       "    'type': 'SCIENCE',\n",
       "    'mode': 'PrimeFullWindow',\n",
       "    'filter': 'CalClosed',\n",
       "    'ccd_modes': {1: 'Imaging',\n",
       "     2: 'Imaging',\n",
       "     3: 'Imaging',\n",
       "     4: 'Imaging',\n",
       "     5: 'Imaging',\n",
       "     6: 'Imaging',\n",
       "     7: 'Imaging',\n",
       "     8: 'Imaging',\n",
       "     9: 'Imaging',\n",
       "     10: 'Imaging',\n",
       "     11: 'Imaging',\n",
       "     12: 'Imaging'}},\n",
       "   'U002': {'scheduled': False,\n",
       "    'type': 'SCIENCE',\n",
       "    'mode': 'Diagnostic',\n",
       "    'filter': None,\n",
       "    'ccd_modes': {1: 'DiscardedLinesData'}},\n",
       "   'U003': {'scheduled': False,\n",
       "    'type': 'SCIENCE',\n",
       "    'mode': 'Diagnostic',\n",
       "    'filter': None,\n",
       "    'ccd_modes': {2: 'DiscardedLinesData'}},\n",
       "   'U004': {'scheduled': False,\n",
       "    'type': 'SCIENCE',\n",
       "    'mode': 'Diagnostic',\n",
       "    'filter': None,\n",
       "    'ccd_modes': {3: 'DiscardedLinesData'}},\n",
       "   'U005': {'scheduled': False,\n",
       "    'type': 'SCIENCE',\n",
       "    'mode': 'Diagnostic',\n",
       "    'filter': None,\n",
       "    'ccd_modes': {4: 'DiscardedLinesData'}},\n",
       "   'U006': {'scheduled': False,\n",
       "    'type': 'SCIENCE',\n",
       "    'mode': 'Diagnostic',\n",
       "    'filter': None,\n",
       "    'ccd_modes': {5: 'DiscardedLinesData'}},\n",
       "   'U007': {'scheduled': False,\n",
       "    'type': 'SCIENCE',\n",
       "    'mode': 'Diagnostic',\n",
       "    'filter': None,\n",
       "    'ccd_modes': {6: 'DiscardedLinesData'}},\n",
       "   'U008': {'scheduled': False,\n",
       "    'type': 'SCIENCE',\n",
       "    'mode': 'Diagnostic',\n",
       "    'filter': None,\n",
       "    'ccd_modes': {7: 'DiscardedLinesData'}},\n",
       "   'U009': {'scheduled': False,\n",
       "    'type': 'SCIENCE',\n",
       "    'mode': 'Diagnostic',\n",
       "    'filter': None,\n",
       "    'ccd_modes': {8: 'DiscardedLinesData'}},\n",
       "   'U010': {'scheduled': False,\n",
       "    'type': 'SCIENCE',\n",
       "    'mode': 'Diagnostic',\n",
       "    'filter': None,\n",
       "    'ccd_modes': {9: 'DiscardedLinesData'}},\n",
       "   'U011': {'scheduled': False,\n",
       "    'type': 'SCIENCE',\n",
       "    'mode': 'Diagnostic',\n",
       "    'filter': None,\n",
       "    'ccd_modes': {10: 'DiscardedLinesData'}},\n",
       "   'U012': {'scheduled': False,\n",
       "    'type': 'SCIENCE',\n",
       "    'mode': 'Diagnostic',\n",
       "    'filter': None,\n",
       "    'ccd_modes': {11: 'DiscardedLinesData'}},\n",
       "   'U013': {'scheduled': False,\n",
       "    'type': 'SCIENCE',\n",
       "    'mode': 'Diagnostic',\n",
       "    'filter': None,\n",
       "    'ccd_modes': {12: 'DiscardedLinesData'}},\n",
       "   'U700': {'scheduled': False,\n",
       "    'type': 'SCIENCE',\n",
       "    'mode': 'Offset',\n",
       "    'filter': 'Closed',\n",
       "    'ccd_modes': {1: 'OffsetData',\n",
       "     2: 'OffsetData',\n",
       "     3: 'OffsetData',\n",
       "     4: 'OffsetData',\n",
       "     5: 'OffsetData',\n",
       "     6: 'OffsetData',\n",
       "     7: 'OffsetData',\n",
       "     8: 'OffsetData',\n",
       "     9: 'OffsetData',\n",
       "     10: 'OffsetData',\n",
       "     11: 'OffsetData',\n",
       "     12: 'OffsetData'}}}}}"
      ]
     },
     "execution_count": 17,
     "metadata": {},
     "output_type": "execute_result"
    }
   ],
   "source": [
    "ovi_group_arch.observation_summaries['xmm_pointed']['0861080501']"
   ]
  }
 ],
 "metadata": {
  "kernelspec": {
   "display_name": "Python 3 (ipykernel)",
   "language": "python",
   "name": "python3"
  },
  "language_info": {
   "codemirror_mode": {
    "name": "ipython",
    "version": 3
   },
   "file_extension": ".py",
   "mimetype": "text/x-python",
   "name": "python",
   "nbconvert_exporter": "python",
   "pygments_lexer": "ipython3",
   "version": "3.8.16"
  }
 },
 "nbformat": 4,
 "nbformat_minor": 5
}
