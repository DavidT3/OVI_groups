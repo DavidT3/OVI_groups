{
 "cells": [
  {
   "cell_type": "markdown",
   "id": "f17045c4",
   "metadata": {},
   "source": [
    "# X-ray Luminosity - Temperature Relation"
   ]
  },
  {
   "cell_type": "markdown",
   "id": "23a3979c",
   "metadata": {},
   "source": [
    "In this notebook we make a simple comparison of X-ray luminosities and temperatures to literature. The luminosities and temperatures have been measured during the course of this work. Our data are such that it is not particularly helpful to fit our own scaling relation, but we can overplot them on top of previously measured X-ray luminosity to temperature scaling relations."
   ]
  },
  {
   "cell_type": "markdown",
   "id": "2bcbd1bb",
   "metadata": {},
   "source": [
    "## Import Statements"
   ]
  },
  {
   "cell_type": "code",
   "execution_count": 1,
   "id": "1f1d89dd",
   "metadata": {},
   "outputs": [
    {
     "name": "stderr",
     "output_type": "stream",
     "text": [
      "/Users/dt237/code/XGA/xga/utils.py:39: DeprecationWarning: The XGA 'find_all_wcs' function should be imported from imagetools.misc, in the future it will be removed from utils.\n",
      "  warn(message, DeprecationWarning)\n",
      "/Users/dt237/code/XGA/xga/utils.py:632: UserWarning: No eSASS installation detected on system, as such all functions in xga.generate.esass will not work.\n",
      "  warn(\"No eSASS installation detected on system, as such all functions in xga.generate.esass will not work.\")\n",
      "/opt/anaconda3/envs/xga_dev/lib/python3.8/site-packages/PyAbel-0.8.4-py3.8.egg/abel/tools/circularize.py:4: DeprecationWarning: Please use `map_coordinates` from the `scipy.ndimage` namespace, the `scipy.ndimage.interpolation` namespace is deprecated.\n",
      "  from scipy.ndimage.interpolation import map_coordinates\n",
      "/opt/anaconda3/envs/xga_dev/lib/python3.8/site-packages/PyAbel-0.8.4-py3.8.egg/abel/tools/polar.py:10: DeprecationWarning: Please use `shift` from the `scipy.ndimage` namespace, the `scipy.ndimage.interpolation` namespace is deprecated.\n",
      "  from scipy.ndimage.interpolation import shift\n",
      "/opt/anaconda3/envs/xga_dev/lib/python3.8/site-packages/PyAbel-0.8.4-py3.8.egg/abel/tools/vmi.py:11: DeprecationWarning: Please use `shift` from the `scipy.ndimage` namespace, the `scipy.ndimage.interpolation` namespace is deprecated.\n",
      "  from scipy.ndimage.interpolation import shift\n",
      "/opt/anaconda3/envs/xga_dev/lib/python3.8/site-packages/PyAbel-0.8.4-py3.8.egg/abel/onion_bordas.py:8: DeprecationWarning: Please use `shift` from the `scipy.ndimage` namespace, the `scipy.ndimage.interpolation` namespace is deprecated.\n",
      "  from scipy.ndimage.interpolation import shift\n",
      "/opt/anaconda3/envs/xga_dev/lib/python3.8/site-packages/regions/_geometry/__init__.py:8: DeprecationWarning: `np.bool` is a deprecated alias for the builtin `bool`. To silence this warning, use `bool` by itself. Doing this will not modify any behavior and is safe. If you specifically wanted the numpy scalar type, use `np.bool_` here.\n",
      "Deprecated in NumPy 1.20; for more details and guidance: https://numpy.org/devdocs/release/1.20.0-notes.html#deprecations\n",
      "  from .polygonal_overlap import *\n",
      "/Users/dt237/code/XGA/xga/products/relation.py:711: DeprecationWarning: invalid escape sequence \\s\n",
      "  \"\"\"\n",
      "/Users/dt237/code/XGA/xga/products/relation.py:1232: DeprecationWarning: invalid escape sequence \\s\n",
      "  \"\"\"\n",
      "/Users/dt237/code/XGA/xga/products/profile.py:667: DeprecationWarning: invalid escape sequence \\o\n",
      "  plt.xlabel(\"Gas Mass [M$_{\\odot}$]\")\n",
      "/Users/dt237/code/XGA/xga/products/profile.py:673: DeprecationWarning: invalid escape sequence \\o\n",
      "  res_label = r\"$\\rm{M_{gas}} = \" + vals_label + \"10^{13}M_{\\odot}$\"\n",
      "/Users/dt237/code/XGA/xga/products/profile.py:1514: DeprecationWarning: invalid escape sequence \\o\n",
      "  plt.xlabel(self._y_axis_name + \" M$_{\\odot}$\")\n",
      "/Users/dt237/code/XGA/xga/products/profile.py:1520: DeprecationWarning: invalid escape sequence \\o\n",
      "  res_label = r\"$\\rm{M_{hydro}} = \" + vals_label + \"10^{14}M_{\\odot}$\"\n"
     ]
    },
    {
     "ename": "ImportError",
     "evalue": "cannot import name 'xcs_sdss_r2500_52' from 'xga.relations.clusters.LT' (/Users/dt237/code/XGA/xga/relations/clusters/LT.py)",
     "output_type": "error",
     "traceback": [
      "\u001b[0;31m---------------------------------------------------------------------------\u001b[0m",
      "\u001b[0;31mImportError\u001b[0m                               Traceback (most recent call last)",
      "\u001b[0;32m/var/folders/td/gw9qkx6d3szb1nkt_cfvcbzm000vzl/T/ipykernel_93391/4076754911.py\u001b[0m in \u001b[0;36m<module>\u001b[0;34m\u001b[0m\n\u001b[1;32m      4\u001b[0m \u001b[0;34m\u001b[0m\u001b[0m\n\u001b[1;32m      5\u001b[0m \u001b[0;32mfrom\u001b[0m \u001b[0mxga\u001b[0m\u001b[0;34m.\u001b[0m\u001b[0mproducts\u001b[0m\u001b[0;34m.\u001b[0m\u001b[0mrelation\u001b[0m \u001b[0;32mimport\u001b[0m \u001b[0mScalingRelation\u001b[0m\u001b[0;34m\u001b[0m\u001b[0;34m\u001b[0m\u001b[0m\n\u001b[0;32m----> 6\u001b[0;31m \u001b[0;32mfrom\u001b[0m \u001b[0mxga\u001b[0m\u001b[0;34m.\u001b[0m\u001b[0mrelations\u001b[0m\u001b[0;34m.\u001b[0m\u001b[0mclusters\u001b[0m\u001b[0;34m.\u001b[0m\u001b[0mLT\u001b[0m \u001b[0;32mimport\u001b[0m \u001b[0mxcs_sdss_r500_52\u001b[0m\u001b[0;34m,\u001b[0m \u001b[0mxcs_sdss_r2500_52\u001b[0m\u001b[0;34m\u001b[0m\u001b[0;34m\u001b[0m\u001b[0m\n\u001b[0m\u001b[1;32m      7\u001b[0m \u001b[0;32mfrom\u001b[0m \u001b[0mxga\u001b[0m\u001b[0;34m.\u001b[0m\u001b[0mmodels\u001b[0m\u001b[0;34m.\u001b[0m\u001b[0mmisc\u001b[0m \u001b[0;32mimport\u001b[0m \u001b[0mpower_law\u001b[0m\u001b[0;34m\u001b[0m\u001b[0;34m\u001b[0m\u001b[0m\n\u001b[1;32m      8\u001b[0m \u001b[0;32mfrom\u001b[0m \u001b[0mxga\u001b[0m\u001b[0;34m.\u001b[0m\u001b[0mutils\u001b[0m \u001b[0;32mimport\u001b[0m \u001b[0mDEFAULT_COSMO\u001b[0m\u001b[0;34m\u001b[0m\u001b[0;34m\u001b[0m\u001b[0m\n",
      "\u001b[0;31mImportError\u001b[0m: cannot import name 'xcs_sdss_r2500_52' from 'xga.relations.clusters.LT' (/Users/dt237/code/XGA/xga/relations/clusters/LT.py)"
     ]
    }
   ],
   "source": [
    "import numpy as np\n",
    "from astropy.units import Quantity\n",
    "import pandas as pd\n",
    "\n",
    "from xga.products.relation import ScalingRelation\n",
    "from xga.relations.clusters.LT import xcs_sdss_r500_52, xcs_sdss_r2500_52\n",
    "from xga.models.misc import power_law\n",
    "from xga.utils import DEFAULT_COSMO\n",
    "\n",
    "%matplotlib inline"
   ]
  },
  {
   "cell_type": "markdown",
   "id": "87506aa6",
   "metadata": {},
   "source": [
    "## Loading data table"
   ]
  },
  {
   "cell_type": "markdown",
   "id": "d55aabc4",
   "metadata": {},
   "source": [
    "We load our measurements of X-ray properties. We choose the 'standard mode' pipeline run (luminosities are broadly consistent with other modes for this sample), with measurements made within $R_{500}$ (as were those of the scaling relations we compare to):"
   ]
  },
  {
   "cell_type": "code",
   "execution_count": null,
   "id": "b2b5e9fe",
   "metadata": {},
   "outputs": [],
   "source": [
    "xray_prop = pd.read_csv(\"../../outputs/results/ltr_r500_pipeline_results.csv\")\n",
    "xray_prop"
   ]
  },
  {
   "cell_type": "markdown",
   "id": "f7516a0c",
   "metadata": {},
   "source": [
    "We also read in the results for measurements within $R_{2500}$:"
   ]
  },
  {
   "cell_type": "code",
   "execution_count": null,
   "id": "a567e14e",
   "metadata": {},
   "outputs": [],
   "source": [
    "r2500_xray_prop = pd.read_csv(\"../../outputs/results/ltr_r2500_pipeline_results.csv\")\n",
    "r2500_xray_prop"
   ]
  },
  {
   "cell_type": "markdown",
   "id": "ff4c64dd",
   "metadata": {},
   "source": [
    "## Comparing to scaling relations"
   ]
  },
  {
   "cell_type": "markdown",
   "id": "b37152d3",
   "metadata": {},
   "source": [
    "Here we compare our measurements to existing scaling relations between X-ray luminosity and temperature. The selected scaling relations were not necessarily measured specifically for galaxy groups."
   ]
  },
  {
   "cell_type": "markdown",
   "id": "9ad2c2c4",
   "metadata": {},
   "source": [
    "### Reading out data points"
   ]
  },
  {
   "cell_type": "markdown",
   "id": "1a596d9b",
   "metadata": {},
   "source": [
    "We need to get the data points ready for over-plotting on the scaling relations. This involves reading them out of the data table and putting them in astropy quantities. We make sure to multiply the luminosity with the inverse E(z) factor calculated from the cluster redshifts."
   ]
  },
  {
   "cell_type": "code",
   "execution_count": null,
   "id": "6bc344ec",
   "metadata": {},
   "outputs": [],
   "source": [
    "inv_e = DEFAULT_COSMO.inv_efunc(xray_prop['redshift'].values)\n",
    "lx = Quantity(xray_prop[['Lx500_0.5-2.0', 'Lx500_0.5-2.0-', 'Lx500_0.5-2.0+']].values, \n",
    "              'erg/s')*inv_e[..., None]\n",
    "\n",
    "tx = Quantity(xray_prop[['Tx500', 'Tx500-', 'Tx500+']].values, 'keV')"
   ]
  },
  {
   "cell_type": "markdown",
   "id": "455c6d68",
   "metadata": {},
   "source": [
    "We go through the same process for out $R_{2500}$ measurements. This includes calculating inverse E(z), as it is possible that the group entries in the second table will be different than in the first (that shouldn't be the case, but why take the risk?):"
   ]
  },
  {
   "cell_type": "code",
   "execution_count": null,
   "id": "c1263442",
   "metadata": {},
   "outputs": [],
   "source": [
    "r2500_inv_e = DEFAULT_COSMO.inv_efunc(r2500_xray_prop['redshift'].values)\n",
    "r2500_lx = Quantity(r2500_xray_prop[['Lx2500_0.5-2.0', 'Lx2500_0.5-2.0-', 'Lx2500_0.5-2.0+']].values, \n",
    "                    'erg/s')*inv_e[..., None]\n",
    "\n",
    "r2500_tx = Quantity(r2500_xray_prop[['Tx2500', 'Tx2500-', 'Tx2500+']].values, 'keV')"
   ]
  },
  {
   "cell_type": "markdown",
   "id": "9f25de38",
   "metadata": {},
   "source": [
    "### XCS cluster scaling relation"
   ]
  },
  {
   "cell_type": "markdown",
   "id": "456481b3",
   "metadata": {},
   "source": [
    "This relation was measured by [Giles et al. 2022](https://ui.adsabs.harvard.edu/abs/2022MNRAS.516.3878G/abstract), and a version is built into XGA. We trick the existing relation somewhat by adding data points, for the sake of convenience. This relation was not measured specifically from a galaxy group sample, and as such may not make for a perfect comparison (some results indicate somewhat different relations for galaxy groups and clusters). It is still a reasonable place to start however:"
   ]
  },
  {
   "cell_type": "code",
   "execution_count": null,
   "id": "800e47e2",
   "metadata": {},
   "outputs": [],
   "source": [
    "xcs_sdss_r500_52._y_data = lx[:, 0]\n",
    "xcs_sdss_r500_52._y_err = lx[:, 1]\n",
    "\n",
    "xcs_sdss_r500_52._x_data = tx[:, 0]\n",
    "xcs_sdss_r500_52._x_err = tx[:, 1]\n",
    "\n",
    "xcs_sdss_r500_52._point_names = xray_prop['name'].values\n",
    "\n",
    "xcs_sdss_r500_52._x_name = r\"$T_{\\rm{X,500}}$\"\n",
    "xcs_sdss_r500_52._y_name = r\"$E(z)^{-1}L^{0.5-2.0}_{\\rm{X,500}}$\"\n",
    "xcs_sdss_r500_52.model_colour = 'darkcyan'"
   ]
  },
  {
   "cell_type": "markdown",
   "id": "defd0319",
   "metadata": {},
   "source": [
    "That same work produced this $R_{2500}$ scaling relation, which we will also compare our measurements to:"
   ]
  },
  {
   "cell_type": "code",
   "execution_count": null,
   "id": "6c2a4324",
   "metadata": {},
   "outputs": [],
   "source": [
    "xcs_sdss_r2500_52._y_data = r2500_lx[:, 0]\n",
    "xcs_sdss_r2500_52._y_err = r2500_lx[:, 1]\n",
    "\n",
    "xcs_sdss_r2500_52._x_data = r2500_tx[:, 0]\n",
    "xcs_sdss_r2500_52._x_err = r2500_tx[:, 1]\n",
    "\n",
    "xcs_sdss_r2500_52._point_names = r2500_xray_prop['name'].values\n",
    "\n",
    "xcs_sdss_r2500_52._x_name = r\"$T_{\\rm{X,2500}}$\"\n",
    "xcs_sdss_r2500_52._y_name = r\"$E(z)^{-1}L^{0.5-2.0}_{\\rm{X,2500}}$\"\n",
    "xcs_sdss_r2500_52.model_colour = 'darkcyan'"
   ]
  },
  {
   "cell_type": "markdown",
   "id": "85d122fd",
   "metadata": {},
   "source": [
    "## Plotting our data"
   ]
  },
  {
   "cell_type": "markdown",
   "id": "1ef10870",
   "metadata": {},
   "source": [
    "Here we make use of the scaling relation objects that we just defined to illustrate how our data compare to the literature relations."
   ]
  },
  {
   "cell_type": "markdown",
   "id": "f413690b",
   "metadata": {},
   "source": [
    "### $R_{500}$"
   ]
  },
  {
   "cell_type": "markdown",
   "id": "773789c5",
   "metadata": {},
   "source": [
    "First, we compare our $R_{500}$ measurements - given the low signal-to-noise of our data we may find that these are less trustworthy than $R_{2500}$ measurements, but we have to check."
   ]
  },
  {
   "cell_type": "markdown",
   "id": "0d054a52",
   "metadata": {},
   "source": [
    "#### Labelling our data points for context"
   ]
  },
  {
   "cell_type": "markdown",
   "id": "4c2c0190",
   "metadata": {},
   "source": [
    "First of all, we plot the SDSSRM-XCS scaling relation with data points labelled - so it is easy to link particular points to particular groups/clusters:"
   ]
  },
  {
   "cell_type": "code",
   "execution_count": null,
   "id": "a05121b5",
   "metadata": {},
   "outputs": [],
   "source": [
    "xcs_sdss_r500_52.point_names"
   ]
  },
  {
   "cell_type": "code",
   "execution_count": null,
   "id": "8f56cbdf",
   "metadata": {},
   "outputs": [],
   "source": [
    "xcs_sdss_r500_52.view(x_lims=Quantity([0.3, 5], 'keV'), log_scale=True, label_points=True, conf_level=68, \n",
    "                      plot_title='', figsize=(8.5, 8), point_label_offset=(0.005, -0.03), \n",
    "                      save_path=\"../../outputs/figures/tx_lx_relation_comp_pntlab.pdf\")"
   ]
  },
  {
   "cell_type": "markdown",
   "id": "2f52266f",
   "metadata": {},
   "source": [
    "#### Comparing data to the relation without labels"
   ]
  },
  {
   "cell_type": "markdown",
   "id": "f945073f",
   "metadata": {},
   "source": [
    "This not only plots the scaling relation, but also overlays our data points. The plot is displayed in the notebook and also saved to disk:"
   ]
  },
  {
   "cell_type": "code",
   "execution_count": null,
   "id": "cbdd5aa9",
   "metadata": {},
   "outputs": [],
   "source": [
    "xcs_sdss_r500_52.view(x_lims=Quantity([0.3, 5], 'keV'), log_scale=True, label_points=False, conf_level=68, \n",
    "                      plot_title='', figsize=(8.5, 8), save_path=\"../../outputs/figures/tx_lx_relation_comp.pdf\")"
   ]
  },
  {
   "cell_type": "markdown",
   "id": "7c52c4f0",
   "metadata": {},
   "source": [
    "### $R_{2500}$"
   ]
  },
  {
   "cell_type": "markdown",
   "id": "bc226cb3",
   "metadata": {},
   "source": [
    "Now we compare our $R_{2500}$ measurements."
   ]
  },
  {
   "cell_type": "markdown",
   "id": "a8ae9dbd",
   "metadata": {},
   "source": [
    "#### Labelling our data points for context"
   ]
  },
  {
   "cell_type": "markdown",
   "id": "305cd4ff",
   "metadata": {},
   "source": [
    "First of all, we plot the SDSSRM-XCS scaling relation with data points labelled - so it is easy to link particular points to particular groups/clusters:"
   ]
  },
  {
   "cell_type": "code",
   "execution_count": null,
   "id": "2508d402",
   "metadata": {},
   "outputs": [],
   "source": [
    "xcs_sdss_r2500_52.point_names"
   ]
  },
  {
   "cell_type": "code",
   "execution_count": null,
   "id": "08e77b00",
   "metadata": {},
   "outputs": [],
   "source": [
    "# x_lims=Quantity([0.3, 5], 'keV')\n",
    "xcs_sdss_r2500_52.view(, log_scale=True, label_points=True, conf_level=68, \n",
    "                       plot_title='', figsize=(8.5, 8), point_label_offset=(0.005, -0.03), \n",
    "                       save_path=\"../../outputs/figures/tx_lx_r2500_relation_comp_pntlab.pdf\")"
   ]
  },
  {
   "cell_type": "markdown",
   "id": "02da526f",
   "metadata": {},
   "source": [
    "#### Comparing data to the relation without labels"
   ]
  },
  {
   "cell_type": "markdown",
   "id": "a299b2b6",
   "metadata": {},
   "source": [
    "This not only plots the scaling relation, but also overlays our data points. The plot is displayed in the notebook and also saved to disk:"
   ]
  },
  {
   "cell_type": "code",
   "execution_count": null,
   "id": "27fcd1fc",
   "metadata": {},
   "outputs": [],
   "source": [
    "xcs_sdss_r2500_52.view(x_lims=Quantity([0.3, 5], 'keV'), log_scale=True, label_points=False, conf_level=68, \n",
    "                       plot_title='', figsize=(8.5, 8), \n",
    "                       save_path=\"../../outputs/figures/tx_lx_r2500_relation_comp.pdf\")"
   ]
  }
 ],
 "metadata": {
  "kernelspec": {
   "display_name": "Python 3 (ipykernel)",
   "language": "python",
   "name": "python3"
  },
  "language_info": {
   "codemirror_mode": {
    "name": "ipython",
    "version": 3
   },
   "file_extension": ".py",
   "mimetype": "text/x-python",
   "name": "python",
   "nbconvert_exporter": "python",
   "pygments_lexer": "ipython3",
   "version": "3.8.12"
  }
 },
 "nbformat": 4,
 "nbformat_minor": 5
}
