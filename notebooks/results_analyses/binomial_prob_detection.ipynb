{
 "cells": [
  {
   "cell_type": "markdown",
   "id": "5f5e2338",
   "metadata": {},
   "source": [
    "# A simple exploration of the probability of warm-phase detection"
   ]
  },
  {
   "cell_type": "markdown",
   "id": "e57a093d",
   "metadata": {},
   "source": [
    "Here we perform some brief binomial tests to explore the probability of us detecting Oxygen VI absorption based on different characteristics of the groups, and their relation (i.e. mostly impact factor) with the background quasars. By no means should this be taken as the absolute truth, as there are numerous complicating statistical factors with the selection of the sample, and the absolute sample size (which is very small). "
   ]
  },
  {
   "cell_type": "markdown",
   "id": "e3a74ac3",
   "metadata": {},
   "source": [
    "## Import Statements "
   ]
  },
  {
   "cell_type": "code",
   "execution_count": null,
   "id": "a3dec259",
   "metadata": {},
   "outputs": [],
   "source": []
  },
  {
   "cell_type": "markdown",
   "id": "c78e3576",
   "metadata": {},
   "source": [
    "## "
   ]
  }
 ],
 "metadata": {
  "kernelspec": {
   "display_name": "Python 3 (ipykernel)",
   "language": "python",
   "name": "python3"
  },
  "language_info": {
   "codemirror_mode": {
    "name": "ipython",
    "version": 3
   },
   "file_extension": ".py",
   "mimetype": "text/x-python",
   "name": "python",
   "nbconvert_exporter": "python",
   "pygments_lexer": "ipython3",
   "version": "3.12.4"
  }
 },
 "nbformat": 4,
 "nbformat_minor": 5
}
